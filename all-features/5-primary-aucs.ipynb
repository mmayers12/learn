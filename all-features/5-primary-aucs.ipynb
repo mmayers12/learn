{
 "cells": [
  {
   "cell_type": "markdown",
   "metadata": {
    "deletable": true,
    "editable": true
   },
   "source": [
    "# Assess the marginal performance of every feature for primary observations"
   ]
  },
  {
   "cell_type": "code",
   "execution_count": 1,
   "metadata": {
    "collapsed": false,
    "deletable": true,
    "editable": true
   },
   "outputs": [],
   "source": [
    "import math\n",
    "\n",
    "import pandas\n",
    "import sklearn.metrics\n",
    "import scipy.stats\n",
    "from statsmodels.sandbox.stats.multicomp import multipletests"
   ]
  },
  {
   "cell_type": "code",
   "execution_count": 2,
   "metadata": {
    "collapsed": false,
    "deletable": true,
    "editable": true
   },
   "outputs": [],
   "source": [
    "feature_type_df = pandas.read_table('data/matrix/feature-type.tsv')\n",
    "feature_type_df = feature_type_df[['feature', 'feature_type']]\n",
    "feature_df = pandas.read_table('data/matrix/features.tsv.bz2')\n",
    "features = list(feature_type_df['feature'])"
   ]
  },
  {
   "cell_type": "code",
   "execution_count": 3,
   "metadata": {
    "collapsed": false,
    "deletable": true,
    "editable": true
   },
   "outputs": [
    {
     "data": {
      "text/html": [
       "<div>\n",
       "<table border=\"1\" class=\"dataframe\">\n",
       "  <thead>\n",
       "    <tr style=\"text-align: right;\">\n",
       "      <th></th>\n",
       "      <th>hetnet</th>\n",
       "      <th>compound_id</th>\n",
       "      <th>disease_id</th>\n",
       "      <th>status</th>\n",
       "      <th>primary</th>\n",
       "      <th>disease_name</th>\n",
       "      <th>compound_name</th>\n",
       "      <th>prior_prob</th>\n",
       "      <th>CduftD</th>\n",
       "      <th>CpiwP</th>\n",
       "      <th>...</th>\n",
       "      <th>CsdiCpiwPeGgaD</th>\n",
       "      <th>CsdiCpiwPpiwCduftD</th>\n",
       "      <th>CsdiCsdiC&lt;hpCduftD</th>\n",
       "      <th>CsdiCsdiC&lt;ioCduftD</th>\n",
       "      <th>CsdiCsdiCduftD</th>\n",
       "      <th>CsdiCsdiCduftD&lt;soD</th>\n",
       "      <th>CsdiCsdiCduftDso&gt;D</th>\n",
       "      <th>CsdiCsdiChp&gt;CduftD</th>\n",
       "      <th>CsdiCsdiCio&gt;CduftD</th>\n",
       "      <th>CsdiCsdiCsdiCduftD</th>\n",
       "    </tr>\n",
       "  </thead>\n",
       "  <tbody>\n",
       "    <tr>\n",
       "      <th>0</th>\n",
       "      <td>wikidata-v0.1_perm-1</td>\n",
       "      <td>Q10354103</td>\n",
       "      <td>Q1048084</td>\n",
       "      <td>1</td>\n",
       "      <td>1</td>\n",
       "      <td>opisthorchiasis</td>\n",
       "      <td>probucol</td>\n",
       "      <td>0.001998</td>\n",
       "      <td>3</td>\n",
       "      <td>1</td>\n",
       "      <td>...</td>\n",
       "      <td>0</td>\n",
       "      <td>0</td>\n",
       "      <td>0</td>\n",
       "      <td>0</td>\n",
       "      <td>0.010103</td>\n",
       "      <td>0</td>\n",
       "      <td>0</td>\n",
       "      <td>0</td>\n",
       "      <td>0</td>\n",
       "      <td>0.014973</td>\n",
       "    </tr>\n",
       "    <tr>\n",
       "      <th>1</th>\n",
       "      <td>wikidata-v0.1_perm-5</td>\n",
       "      <td>Q118551</td>\n",
       "      <td>Q1048084</td>\n",
       "      <td>1</td>\n",
       "      <td>1</td>\n",
       "      <td>opisthorchiasis</td>\n",
       "      <td>clarithromycin</td>\n",
       "      <td>0.006174</td>\n",
       "      <td>9</td>\n",
       "      <td>0</td>\n",
       "      <td>...</td>\n",
       "      <td>0</td>\n",
       "      <td>0</td>\n",
       "      <td>0</td>\n",
       "      <td>0</td>\n",
       "      <td>0.000000</td>\n",
       "      <td>0</td>\n",
       "      <td>0</td>\n",
       "      <td>0</td>\n",
       "      <td>0</td>\n",
       "      <td>0.000000</td>\n",
       "    </tr>\n",
       "  </tbody>\n",
       "</table>\n",
       "<p>2 rows × 314 columns</p>\n",
       "</div>"
      ],
      "text/plain": [
       "                 hetnet compound_id disease_id  status  primary  \\\n",
       "0  wikidata-v0.1_perm-1   Q10354103   Q1048084       1        1   \n",
       "1  wikidata-v0.1_perm-5     Q118551   Q1048084       1        1   \n",
       "\n",
       "      disease_name   compound_name  prior_prob  CduftD  CpiwP  \\\n",
       "0  opisthorchiasis        probucol    0.001998       3      1   \n",
       "1  opisthorchiasis  clarithromycin    0.006174       9      0   \n",
       "\n",
       "          ...          CsdiCpiwPeGgaD  CsdiCpiwPpiwCduftD  CsdiCsdiC<hpCduftD  \\\n",
       "0         ...                       0                   0                   0   \n",
       "1         ...                       0                   0                   0   \n",
       "\n",
       "   CsdiCsdiC<ioCduftD  CsdiCsdiCduftD  CsdiCsdiCduftD<soD  CsdiCsdiCduftDso>D  \\\n",
       "0                   0        0.010103                   0                   0   \n",
       "1                   0        0.000000                   0                   0   \n",
       "\n",
       "   CsdiCsdiChp>CduftD  CsdiCsdiCio>CduftD  CsdiCsdiCsdiCduftD  \n",
       "0                   0                   0            0.014973  \n",
       "1                   0                   0            0.000000  \n",
       "\n",
       "[2 rows x 314 columns]"
      ]
     },
     "execution_count": 3,
     "metadata": {},
     "output_type": "execute_result"
    }
   ],
   "source": [
    "feature_df.head(2)"
   ]
  },
  {
   "cell_type": "code",
   "execution_count": 4,
   "metadata": {
    "collapsed": false,
    "deletable": true,
    "editable": true
   },
   "outputs": [],
   "source": [
    "def compute_metrics(y_true, y_score):\n",
    "    series = pandas.Series()\n",
    "    series['nonzero'] = (y_score > 0).mean()\n",
    "    series['auroc'] = sklearn.metrics.roc_auc_score(y_true, y_score)\n",
    "    series['auprc'] = sklearn.metrics.average_precision_score(y_true, y_score)\n",
    "    return series\n",
    "\n",
    "def columnar_performance(df):\n",
    "    y_true = df['status']\n",
    "    perf_df = df[features].apply(lambda x: compute_metrics(y_true, x), axis='index')\n",
    "    perf_df = perf_df.T\n",
    "    perf_df.index.name = 'feature'\n",
    "    return perf_df.reset_index()\n",
    "\n",
    "perf_df = feature_df.groupby('hetnet').apply(columnar_performance).reset_index(level='hetnet')\n",
    "perf_df = perf_df.merge(feature_type_df)\n",
    "perf_df['permuted'] = perf_df.hetnet.str.contains('_perm').astype(int)"
   ]
  },
  {
   "cell_type": "code",
   "execution_count": 5,
   "metadata": {
    "collapsed": false,
    "deletable": true,
    "editable": true
   },
   "outputs": [
    {
     "data": {
      "text/html": [
       "<div>\n",
       "<table border=\"1\" class=\"dataframe\">\n",
       "  <thead>\n",
       "    <tr style=\"text-align: right;\">\n",
       "      <th></th>\n",
       "      <th>hetnet</th>\n",
       "      <th>feature</th>\n",
       "      <th>nonzero</th>\n",
       "      <th>auroc</th>\n",
       "      <th>auprc</th>\n",
       "      <th>feature_type</th>\n",
       "      <th>permuted</th>\n",
       "    </tr>\n",
       "  </thead>\n",
       "  <tbody>\n",
       "    <tr>\n",
       "      <th>0</th>\n",
       "      <td>wikidata-v0.1</td>\n",
       "      <td>prior_prob</td>\n",
       "      <td>1</td>\n",
       "      <td>0.837134</td>\n",
       "      <td>0.601458</td>\n",
       "      <td>prior</td>\n",
       "      <td>0</td>\n",
       "    </tr>\n",
       "    <tr>\n",
       "      <th>1</th>\n",
       "      <td>wikidata-v0.1_perm-1</td>\n",
       "      <td>prior_prob</td>\n",
       "      <td>1</td>\n",
       "      <td>0.801189</td>\n",
       "      <td>0.322215</td>\n",
       "      <td>prior</td>\n",
       "      <td>1</td>\n",
       "    </tr>\n",
       "    <tr>\n",
       "      <th>2</th>\n",
       "      <td>wikidata-v0.1_perm-2</td>\n",
       "      <td>prior_prob</td>\n",
       "      <td>1</td>\n",
       "      <td>0.801228</td>\n",
       "      <td>0.328423</td>\n",
       "      <td>prior</td>\n",
       "      <td>1</td>\n",
       "    </tr>\n",
       "  </tbody>\n",
       "</table>\n",
       "</div>"
      ],
      "text/plain": [
       "                 hetnet     feature  nonzero     auroc     auprc feature_type  \\\n",
       "0         wikidata-v0.1  prior_prob        1  0.837134  0.601458        prior   \n",
       "1  wikidata-v0.1_perm-1  prior_prob        1  0.801189  0.322215        prior   \n",
       "2  wikidata-v0.1_perm-2  prior_prob        1  0.801228  0.328423        prior   \n",
       "\n",
       "   permuted  \n",
       "0         0  \n",
       "1         1  \n",
       "2         1  "
      ]
     },
     "execution_count": 5,
     "metadata": {},
     "output_type": "execute_result"
    }
   ],
   "source": [
    "perf_df.merge(feature_type_df).head(3)"
   ]
  },
  {
   "cell_type": "code",
   "execution_count": 6,
   "metadata": {
    "collapsed": false,
    "deletable": true,
    "editable": true
   },
   "outputs": [],
   "source": [
    "def compare_permutation(df):\n",
    "    unperm = df.query(\"permuted == 0\").iloc[0, :]\n",
    "    perm_df = df.query(\"permuted == 1\")\n",
    "    series = pandas.Series()\n",
    "    series['nonzero'] = unperm['nonzero']\n",
    "    series['auroc'] = unperm.auroc\n",
    "    series['auroc_permuted'] = perm_df.auroc.mean()\n",
    "    series['delta_auroc'] = series['auroc'] - series['auroc_permuted']\n",
    "    ttest = scipy.stats.ttest_1samp(perm_df.auroc, unperm.auroc)\n",
    "    pvalue = ttest.pvalue\n",
    "    series['pval_auroc'] = pvalue\n",
    "    #series['nlog10_pval_auroc'] = -math.log10(pvalue)\n",
    "    return(series)\n",
    "\n",
    "compare_df = perf_df.groupby(['feature_type', 'feature']).apply(compare_permutation).reset_index()\n",
    "reject, compare_df['fdr_pval_auroc'], alphacSidak, alphacBonf = multipletests(\n",
    "    pvals=compare_df.pval_auroc, method='fdr_bh')\n",
    "compare_df = feature_type_df.merge(compare_df)"
   ]
  },
  {
   "cell_type": "code",
   "execution_count": 7,
   "metadata": {
    "collapsed": false,
    "deletable": true,
    "editable": true
   },
   "outputs": [
    {
     "data": {
      "text/html": [
       "<div>\n",
       "<table border=\"1\" class=\"dataframe\">\n",
       "  <thead>\n",
       "    <tr style=\"text-align: right;\">\n",
       "      <th></th>\n",
       "      <th>feature</th>\n",
       "      <th>feature_type</th>\n",
       "      <th>nonzero</th>\n",
       "      <th>auroc</th>\n",
       "      <th>auroc_permuted</th>\n",
       "      <th>delta_auroc</th>\n",
       "      <th>pval_auroc</th>\n",
       "      <th>fdr_pval_auroc</th>\n",
       "    </tr>\n",
       "  </thead>\n",
       "  <tbody>\n",
       "    <tr>\n",
       "      <th>0</th>\n",
       "      <td>prior_prob</td>\n",
       "      <td>prior</td>\n",
       "      <td>1.000000</td>\n",
       "      <td>0.837134</td>\n",
       "      <td>0.801685</td>\n",
       "      <td>0.035449</td>\n",
       "      <td>6.540402e-08</td>\n",
       "      <td>NaN</td>\n",
       "    </tr>\n",
       "    <tr>\n",
       "      <th>1</th>\n",
       "      <td>CduftD</td>\n",
       "      <td>degree</td>\n",
       "      <td>1.000000</td>\n",
       "      <td>0.707652</td>\n",
       "      <td>0.685922</td>\n",
       "      <td>0.021730</td>\n",
       "      <td>6.888891e-08</td>\n",
       "      <td>NaN</td>\n",
       "    </tr>\n",
       "    <tr>\n",
       "      <th>2</th>\n",
       "      <td>CpiwP</td>\n",
       "      <td>degree</td>\n",
       "      <td>0.363153</td>\n",
       "      <td>0.497974</td>\n",
       "      <td>0.498203</td>\n",
       "      <td>-0.000230</td>\n",
       "      <td>5.651983e-01</td>\n",
       "      <td>NaN</td>\n",
       "    </tr>\n",
       "  </tbody>\n",
       "</table>\n",
       "</div>"
      ],
      "text/plain": [
       "      feature feature_type   nonzero     auroc  auroc_permuted  delta_auroc  \\\n",
       "0  prior_prob        prior  1.000000  0.837134        0.801685     0.035449   \n",
       "1      CduftD       degree  1.000000  0.707652        0.685922     0.021730   \n",
       "2       CpiwP       degree  0.363153  0.497974        0.498203    -0.000230   \n",
       "\n",
       "     pval_auroc  fdr_pval_auroc  \n",
       "0  6.540402e-08             NaN  \n",
       "1  6.888891e-08             NaN  \n",
       "2  5.651983e-01             NaN  "
      ]
     },
     "execution_count": 7,
     "metadata": {},
     "output_type": "execute_result"
    }
   ],
   "source": [
    "compare_df.head(3)"
   ]
  },
  {
   "cell_type": "code",
   "execution_count": 8,
   "metadata": {
    "collapsed": true,
    "deletable": true,
    "editable": true
   },
   "outputs": [],
   "source": [
    "# Save datasets\n",
    "perf_df.to_csv('data/feature-performance/primary-aucs.tsv', sep='\\t', index=False, float_format='%.5g')\n",
    "compare_df.to_csv('data/feature-performance/primary-aurocs.tsv', sep='\\t', index=False, float_format='%.5g')"
   ]
  }
 ],
 "metadata": {
  "kernelspec": {
   "display_name": "Python 3",
   "language": "python",
   "name": "python3"
  },
  "language_info": {
   "codemirror_mode": {
    "name": "ipython",
    "version": 3
   },
   "file_extension": ".py",
   "mimetype": "text/x-python",
   "name": "python",
   "nbconvert_exporter": "python",
   "pygments_lexer": "ipython3",
   "version": "3.5.3"
  }
 },
 "nbformat": 4,
 "nbformat_minor": 0
}
