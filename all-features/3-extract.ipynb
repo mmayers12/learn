{
 "cells": [
  {
   "cell_type": "markdown",
   "metadata": {},
   "source": [
    "# Assign positives and negatives "
   ]
  },
  {
   "cell_type": "code",
   "execution_count": 1,
   "metadata": {
    "collapsed": true
   },
   "outputs": [],
   "source": [
    "import json\n",
    "import threading\n",
    "import concurrent.futures\n",
    "import bz2\n",
    "import csv\n",
    "import time\n",
    "\n",
    "import pandas\n",
    "import py2neo\n",
    "from tqdm import tqdm"
   ]
  },
  {
   "cell_type": "markdown",
   "metadata": {},
   "source": [
    "## Connect to neo4j server"
   ]
  },
  {
   "cell_type": "code",
   "execution_count": 2,
   "metadata": {
    "collapsed": false
   },
   "outputs": [],
   "source": [
    "# Override the default py2neo timeout\n",
    "py2neo.packages.httpstream.http.socket_timeout = 1e8"
   ]
  },
  {
   "cell_type": "code",
   "execution_count": 3,
   "metadata": {
    "collapsed": false
   },
   "outputs": [],
   "source": [
    "with open('servers.json') as read_file:\n",
    "    instances = json.load(read_file)\n",
    "\n",
    "name_to_neo = dict()\n",
    "for instance in instances:\n",
    "    uri = 'http://localhost:{}/db/data/'.format(instance['port'])\n",
    "    bolt_port = 7690 + (instance['port'] % 10)\n",
    "    name_to_neo[instance['name']] = py2neo.database.Graph(uri, bolt = True, bolt_port = bolt_port)"
   ]
  },
  {
   "cell_type": "markdown",
   "metadata": {},
   "source": [
    "## Read metapaths"
   ]
  },
  {
   "cell_type": "code",
   "execution_count": 4,
   "metadata": {
    "collapsed": false
   },
   "outputs": [
    {
     "data": {
      "text/plain": [
       "295"
      ]
     },
     "execution_count": 4,
     "metadata": {},
     "output_type": "execute_result"
    }
   ],
   "source": [
    "with open('data/metapaths.json') as read_file:\n",
    "    metapaths = json.load(read_file)\n",
    "\n",
    "metapaths.sort(key=lambda x: x['join_complexities'][0])\n",
    "len(metapaths)"
   ]
  },
  {
   "cell_type": "markdown",
   "metadata": {},
   "source": [
    "## Read hetnet-compound-disease pairs"
   ]
  },
  {
   "cell_type": "code",
   "execution_count": 5,
   "metadata": {
    "collapsed": false
   },
   "outputs": [
    {
     "name": "stdout",
     "output_type": "stream",
     "text": [
      "161327\n"
     ]
    },
    {
     "data": {
      "text/html": [
       "<div>\n",
       "<table border=\"1\" class=\"dataframe\">\n",
       "  <thead>\n",
       "    <tr style=\"text-align: right;\">\n",
       "      <th></th>\n",
       "      <th>hetnet</th>\n",
       "      <th>compound_id</th>\n",
       "      <th>disease_id</th>\n",
       "      <th>status</th>\n",
       "      <th>primary</th>\n",
       "      <th>neo</th>\n",
       "    </tr>\n",
       "  </thead>\n",
       "  <tbody>\n",
       "    <tr>\n",
       "      <th>0</th>\n",
       "      <td>wikidata-v0.1</td>\n",
       "      <td>Q10354103</td>\n",
       "      <td>Q1004647</td>\n",
       "      <td>0</td>\n",
       "      <td>1</td>\n",
       "      <td>&lt;Graph uri='http://localhost:7500/db/data/'&gt;</td>\n",
       "    </tr>\n",
       "    <tr>\n",
       "      <th>1</th>\n",
       "      <td>wikidata-v0.1_perm-1</td>\n",
       "      <td>Q10354103</td>\n",
       "      <td>Q1004647</td>\n",
       "      <td>0</td>\n",
       "      <td>0</td>\n",
       "      <td>&lt;Graph uri='http://localhost:7501/db/data/'&gt;</td>\n",
       "    </tr>\n",
       "  </tbody>\n",
       "</table>\n",
       "</div>"
      ],
      "text/plain": [
       "                 hetnet compound_id disease_id  status  primary  \\\n",
       "0         wikidata-v0.1   Q10354103   Q1004647       0        1   \n",
       "1  wikidata-v0.1_perm-1   Q10354103   Q1004647       0        0   \n",
       "\n",
       "                                            neo  \n",
       "0  <Graph uri='http://localhost:7500/db/data/'>  \n",
       "1  <Graph uri='http://localhost:7501/db/data/'>  "
      ]
     },
     "execution_count": 5,
     "metadata": {},
     "output_type": "execute_result"
    }
   ],
   "source": [
    "part_df = pandas.read_table('data/partitions.tsv')\n",
    "part_df['neo'] = part_df.hetnet.map(name_to_neo)\n",
    "parts = list(part_df.itertuples())\n",
    "print(len(part_df))\n",
    "part_df.head(2)"
   ]
  },
  {
   "cell_type": "code",
   "execution_count": 6,
   "metadata": {
    "collapsed": false
   },
   "outputs": [
    {
     "data": {
      "text/plain": [
       "626"
      ]
     },
     "execution_count": 6,
     "metadata": {},
     "output_type": "execute_result"
    }
   ],
   "source": [
    "part_df['disease_id'].nunique()"
   ]
  },
  {
   "cell_type": "code",
   "execution_count": 7,
   "metadata": {
    "collapsed": false
   },
   "outputs": [
    {
     "data": {
      "text/plain": [
       "1019"
      ]
     },
     "execution_count": 7,
     "metadata": {},
     "output_type": "execute_result"
    }
   ],
   "source": [
    "part_df['compound_id'].nunique()"
   ]
  },
  {
   "cell_type": "markdown",
   "metadata": {},
   "source": [
    "## Set up queries"
   ]
  },
  {
   "cell_type": "code",
   "execution_count": 8,
   "metadata": {
    "collapsed": false
   },
   "outputs": [
    {
     "data": {
      "text/plain": [
       "'47,591,465'"
      ]
     },
     "execution_count": 8,
     "metadata": {},
     "output_type": "execute_result"
    }
   ],
   "source": [
    "# Total number of queries\n",
    "total_queries = len(metapaths) * len(part_df)\n",
    "'{:,}'.format(total_queries)"
   ]
  },
  {
   "cell_type": "code",
   "execution_count": 9,
   "metadata": {
    "collapsed": false
   },
   "outputs": [],
   "source": [
    "parts = [row for row in part_df.itertuples()]\n",
    "\n",
    "def generate_parameters(max_elems=None):\n",
    "    \"\"\"Generate compound, disease, metapath combinations\"\"\"\n",
    "    n = 0\n",
    "    for metapath_dict in metapaths:\n",
    "        metapath = metapath_dict['abbreviation']\n",
    "        query = metapath_dict['dwpc_query']\n",
    "        for part_info in parts:\n",
    "            if max_elems is not None and n == max_elems:\n",
    "                break\n",
    "            yield {\n",
    "                'neo': part_info.neo,\n",
    "                'hetnet': part_info.hetnet,\n",
    "                'compound_id': part_info.compound_id,\n",
    "                'disease_id': part_info.disease_id,\n",
    "                'metapath': metapath,\n",
    "                'query': query,\n",
    "                'w': 0.4,\n",
    "            }\n",
    "            n += 1"
   ]
  },
  {
   "cell_type": "code",
   "execution_count": 10,
   "metadata": {
    "collapsed": false
   },
   "outputs": [],
   "source": [
    "def compute_dwpc(neo, hetnet, query, metapath, compound_id, disease_id, w):\n",
    "    \"\"\"Execute the neo4j query and write results to file\"\"\"\n",
    "    start = time.time()\n",
    "    results = neo.data(query, source=compound_id, target=disease_id, w=w)\n",
    "    record = results[0]\n",
    "    seconds = '{0:.4g}'.format(time.time() - start)\n",
    "    row = hetnet, compound_id, disease_id, metapath, record['PC'], w, '{0:.6g}'.format(record['DWPC']), seconds\n",
    "    with writer_lock:\n",
    "        writer.writerow(row)"
   ]
  },
  {
   "cell_type": "markdown",
   "metadata": {},
   "source": [
    "## Execute queries"
   ]
  },
  {
   "cell_type": "code",
   "execution_count": 11,
   "metadata": {
    "collapsed": true
   },
   "outputs": [],
   "source": [
    "def test(neo, hetnet, query, metapath, compound_id, disease_id, w):\n",
    "    print(neo, hetnet, query, metapath, compound_id, disease_id, w)"
   ]
  },
  {
   "cell_type": "code",
   "execution_count": 41,
   "metadata": {
    "collapsed": false
   },
   "outputs": [],
   "source": [
    "compute_dwpc(**params)"
   ]
  },
  {
   "cell_type": "code",
   "execution_count": 29,
   "metadata": {
    "collapsed": true
   },
   "outputs": [],
   "source": [
    "query = 'MATCH (a:Compound)-[:`drug-used-for-treatment_DduftC`]-(other) RETURN a.name, count(other) LIMIT 4'"
   ]
  },
  {
   "cell_type": "code",
   "execution_count": 30,
   "metadata": {
    "collapsed": false
   },
   "outputs": [
    {
     "data": {
      "text/plain": [
       "[{'a.name': 'metirosine', 'count(other)': 1},\n",
       " {'a.name': 'Urofollitropin', 'count(other)': 2},\n",
       " {'a.name': 'molindone', 'count(other)': 2},\n",
       " {'a.name': 'cabazitaxel', 'count(other)': 1}]"
      ]
     },
     "execution_count": 30,
     "metadata": {},
     "output_type": "execute_result"
    }
   ],
   "source": [
    "g.data(query)"
   ]
  },
  {
   "cell_type": "code",
   "execution_count": 15,
   "metadata": {
    "collapsed": false,
    "scrolled": true
   },
   "outputs": [
    {
     "name": "stdout",
     "output_type": "stream",
     "text": [
      "<Graph uri='http://localhost:7504/db/data/'> wikidata-v0.1_perm-4 MATCH path = (n0:Compound)<-[:`instance-of_CioC`]-(n1)<-[:`instance-of_CioC`]-(n2)<-[:`instance-of_CioC`]-(n3)-[:`drug-used-for-treatment_DduftC`]-(n4:Disease)\n",
      "USING JOIN ON n2\n",
      "WHERE n0.identifier = { source }\n",
      "AND n4.identifier = { target }\n",
      "AND n0 <> n1 AND n0 <> n2 AND n0 <> n3 AND n1 <> n2 AND n1 <> n3 AND n2 <> n3\n",
      "WITH\n",
      "[\n",
      "size((n0)<-[:`instance-of_CioC`]-()),\n",
      "size(()<-[:`instance-of_CioC`]-(n1)),\n",
      "size((n1)<-[:`instance-of_CioC`]-()),\n",
      "size(()<-[:`instance-of_CioC`]-(n2)),\n",
      "size((n2)<-[:`instance-of_CioC`]-()),\n",
      "size(()<-[:`instance-of_CioC`]-(n3)),\n",
      "size((n3)-[:`drug-used-for-treatment_DduftC`]-()),\n",
      "size(()-[:`drug-used-for-treatment_DduftC`]-(n4))\n",
      "] AS degrees, path\n",
      "RETURN\n",
      "count(path) AS PC,\n",
      "sum(reduce(pdp = 1.0, d in degrees| pdp * d ^ -{ w })) AS DWPC C<ioC<ioC<ioCduftD Q370244 Q18557998 0.4\n"
     ]
    }
   ],
   "source": [
    "test(**params)"
   ]
  },
  {
   "cell_type": "code",
   "execution_count": 44,
   "metadata": {
    "collapsed": false
   },
   "outputs": [
    {
     "data": {
      "text/plain": [
       "'CsdiCsdiCduftD<soD'"
      ]
     },
     "execution_count": 44,
     "metadata": {},
     "output_type": "execute_result"
    }
   ],
   "source": [
    "metapath_dict['abbreviation']"
   ]
  },
  {
   "cell_type": "code",
   "execution_count": 50,
   "metadata": {
    "collapsed": false
   },
   "outputs": [
    {
     "name": "stdout",
     "output_type": "stream",
     "text": [
      "[{'DWPC': 0.0018540439162014872, 'PC': 8}]\n",
      "[{'DWPC': 0.03477346681446545, 'PC': 6}]\n",
      "[{'DWPC': 0.020715739227722747, 'PC': 4}]\n",
      "[{'DWPC': 0.0015621473793640199, 'PC': 1}]\n",
      "[{'DWPC': 0.0037495345405597004, 'PC': 1}]\n",
      "[{'DWPC': 0.0016320797031912603, 'PC': 1}]\n",
      "[{'DWPC': 0.002937409003502495, 'PC': 1}]\n",
      "[{'DWPC': 0.010060728514355851, 'PC': 2}]\n"
     ]
    }
   ],
   "source": [
    "for metapath_dict in metapaths:\n",
    "    metapath = metapath_dict['abbreviation']\n",
    "    query = metapath_dict['dwpc_query']\n",
    "    part_info = parts[1854]\n",
    "    params = {\n",
    "                    'neo': part_info.neo,\n",
    "                    'hetnet': part_info.hetnet,\n",
    "                    'compound_id': part_info.compound_id,\n",
    "                    'disease_id': part_info.disease_id,\n",
    "                    'metapath': metapath,\n",
    "                    'query': query,\n",
    "                    'w': 0.4,\n",
    "                }\n",
    "\n",
    "\n",
    "\n",
    "    g = params['neo']\n",
    "    query = params['query']\n",
    "    source = params['compound_id']\n",
    "    target = params['disease_id']\n",
    "    w = params['w']\n",
    "\n",
    "    res = g.data(query, source=source, target=target, w=w)\n",
    "    if res[0]['DWPC'] != 0:\n",
    "        print(res)\n"
   ]
  },
  {
   "cell_type": "code",
   "execution_count": null,
   "metadata": {
    "collapsed": false,
    "scrolled": false
   },
   "outputs": [
    {
     "name": "stderr",
     "output_type": "stream",
     "text": [
      "10146it [00:00, 51275.88it/s]"
     ]
    },
    {
     "name": "stdout",
     "output_type": "stream",
     "text": [
      "preparing writer...\n",
      "creating executer...\n",
      "submitting first job...\n"
     ]
    },
    {
     "name": "stderr",
     "output_type": "stream",
     "text": [
      "875805it [00:25, 48284.00it/s]"
     ]
    }
   ],
   "source": [
    "%%time\n",
    "\n",
    "# Parameters\n",
    "workers = 4\n",
    "max_elems = None\n",
    "\n",
    "# Prepare writer\n",
    "print('preparing writer...')\n",
    "path = 'data/dwpc.tsv.bz2'\n",
    "write_file = bz2.open(path, 'wt')\n",
    "writer = csv.writer(write_file, delimiter='\\t')\n",
    "writer.writerow(['hetnet', 'compound_id', 'disease_id', 'metapath', 'PC', 'w', 'DWPC', 'seconds'])\n",
    "\n",
    "# Create ThreadPoolExecutor\n",
    "print('creating executer...')\n",
    "executor = concurrent.futures.ThreadPoolExecutor(max_workers=workers)\n",
    "writer_lock = threading.Lock()\n",
    "\n",
    "# Submit jobs\n",
    "print('submitting first job...')\n",
    "n_queries = 0\n",
    "for params in tqdm(generate_parameters(max_elems)):\n",
    "    executor.submit(compute_dwpc, **params)\n",
    "    n_queries += 1\n",
    "\n",
    "# Shutdown and close\n",
    "executor.shutdown()\n",
    "write_file.close()"
   ]
  },
  {
   "cell_type": "code",
   "execution_count": 16,
   "metadata": {
    "collapsed": false,
    "scrolled": true
   },
   "outputs": [
    {
     "data": {
      "text/plain": [
       "1000000"
      ]
     },
     "execution_count": 16,
     "metadata": {},
     "output_type": "execute_result"
    }
   ],
   "source": [
    "n_queries"
   ]
  }
 ],
 "metadata": {
  "kernelspec": {
   "display_name": "Python 3",
   "language": "python",
   "name": "python3"
  },
  "language_info": {
   "codemirror_mode": {
    "name": "ipython",
    "version": 3
   },
   "file_extension": ".py",
   "mimetype": "text/x-python",
   "name": "python",
   "nbconvert_exporter": "python",
   "pygments_lexer": "ipython3",
   "version": "3.5.1"
  }
 },
 "nbformat": 4,
 "nbformat_minor": 0
}
