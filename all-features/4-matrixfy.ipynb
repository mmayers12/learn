{
 "cells": [
  {
   "cell_type": "markdown",
   "metadata": {
    "deletable": true,
    "editable": true
   },
   "source": [
    "# Combine all features into a single matrix"
   ]
  },
  {
   "cell_type": "code",
   "execution_count": 1,
   "metadata": {
    "collapsed": false,
    "deletable": true,
    "editable": true
   },
   "outputs": [],
   "source": [
    "import bz2\n",
    "import os\n",
    "import configparser\n",
    "import itertools\n",
    "\n",
    "import pandas"
   ]
  },
  {
   "cell_type": "code",
   "execution_count": 2,
   "metadata": {
    "collapsed": true,
    "deletable": true,
    "editable": true
   },
   "outputs": [],
   "source": [
    "unperm_name = 'wikidata-v0.1'"
   ]
  },
  {
   "cell_type": "markdown",
   "metadata": {
    "deletable": true,
    "editable": true
   },
   "source": [
    "## Read partitions"
   ]
  },
  {
   "cell_type": "code",
   "execution_count": 3,
   "metadata": {
    "collapsed": false,
    "deletable": true,
    "editable": true
   },
   "outputs": [
    {
     "data": {
      "text/html": [
       "<div>\n",
       "<table border=\"1\" class=\"dataframe\">\n",
       "  <thead>\n",
       "    <tr style=\"text-align: right;\">\n",
       "      <th></th>\n",
       "      <th>hetnet</th>\n",
       "      <th>compound_id</th>\n",
       "      <th>disease_id</th>\n",
       "      <th>status</th>\n",
       "      <th>primary</th>\n",
       "    </tr>\n",
       "  </thead>\n",
       "  <tbody>\n",
       "    <tr>\n",
       "      <th>161283</th>\n",
       "      <td>wikidata-v0.1_perm-1</td>\n",
       "      <td>Q999805</td>\n",
       "      <td>Q911386</td>\n",
       "      <td>0</td>\n",
       "      <td>1</td>\n",
       "    </tr>\n",
       "    <tr>\n",
       "      <th>161284</th>\n",
       "      <td>wikidata-v0.1_perm-2</td>\n",
       "      <td>Q999805</td>\n",
       "      <td>Q954674</td>\n",
       "      <td>1</td>\n",
       "      <td>1</td>\n",
       "    </tr>\n",
       "  </tbody>\n",
       "</table>\n",
       "</div>"
      ],
      "text/plain": [
       "                      hetnet compound_id disease_id  status  primary\n",
       "161283  wikidata-v0.1_perm-1     Q999805    Q911386       0        1\n",
       "161284  wikidata-v0.1_perm-2     Q999805    Q954674       1        1"
      ]
     },
     "execution_count": 3,
     "metadata": {},
     "output_type": "execute_result"
    }
   ],
   "source": [
    "# Read partition information\n",
    "part_df = pandas.read_table('data/partitions.tsv')\n",
    "part_df.tail(2)"
   ]
  },
  {
   "cell_type": "markdown",
   "metadata": {
    "deletable": true,
    "editable": true
   },
   "source": [
    "## Create DWPC matrix"
   ]
  },
  {
   "cell_type": "code",
   "execution_count": 4,
   "metadata": {
    "collapsed": false,
    "deletable": true,
    "editable": true
   },
   "outputs": [
    {
     "data": {
      "text/html": [
       "<div>\n",
       "<table border=\"1\" class=\"dataframe\">\n",
       "  <thead>\n",
       "    <tr style=\"text-align: right;\">\n",
       "      <th></th>\n",
       "      <th>hetnet</th>\n",
       "      <th>compound_id</th>\n",
       "      <th>disease_id</th>\n",
       "      <th>metapath</th>\n",
       "      <th>PC</th>\n",
       "      <th>w</th>\n",
       "      <th>DWPC</th>\n",
       "      <th>seconds</th>\n",
       "    </tr>\n",
       "  </thead>\n",
       "  <tbody>\n",
       "    <tr>\n",
       "      <th>47579073</th>\n",
       "      <td>wikidata-v0.1_perm-4</td>\n",
       "      <td>Q999805</td>\n",
       "      <td>Q907921</td>\n",
       "      <td>CduftDso&gt;Dso&gt;Dso&gt;D</td>\n",
       "      <td>0</td>\n",
       "      <td>0.4</td>\n",
       "      <td>0</td>\n",
       "      <td>0.02120</td>\n",
       "    </tr>\n",
       "    <tr>\n",
       "      <th>47579074</th>\n",
       "      <td>wikidata-v0.1_perm-1</td>\n",
       "      <td>Q999805</td>\n",
       "      <td>Q911386</td>\n",
       "      <td>CduftDso&gt;Dso&gt;Dso&gt;D</td>\n",
       "      <td>0</td>\n",
       "      <td>0.4</td>\n",
       "      <td>0</td>\n",
       "      <td>0.01918</td>\n",
       "    </tr>\n",
       "  </tbody>\n",
       "</table>\n",
       "</div>"
      ],
      "text/plain": [
       "                        hetnet compound_id disease_id            metapath  PC  \\\n",
       "47579073  wikidata-v0.1_perm-4     Q999805    Q907921  CduftDso>Dso>Dso>D   0   \n",
       "47579074  wikidata-v0.1_perm-1     Q999805    Q911386  CduftDso>Dso>Dso>D   0   \n",
       "\n",
       "            w  DWPC  seconds  \n",
       "47579073  0.4     0  0.02120  \n",
       "47579074  0.4     0  0.01918  "
      ]
     },
     "execution_count": 4,
     "metadata": {},
     "output_type": "execute_result"
    }
   ],
   "source": [
    "# Read DWPC results\n",
    "dwpc_df = pandas.read_table('data/dwpc.tsv.bz2')\n",
    "dwpc_df.tail(2)"
   ]
  },
  {
   "cell_type": "code",
   "execution_count": 5,
   "metadata": {
    "collapsed": false,
    "deletable": true,
    "editable": true
   },
   "outputs": [
    {
     "data": {
      "text/html": [
       "<div>\n",
       "<table border=\"1\" class=\"dataframe\">\n",
       "  <thead>\n",
       "    <tr style=\"text-align: right;\">\n",
       "      <th>metapath</th>\n",
       "      <th>hetnet</th>\n",
       "      <th>compound_id</th>\n",
       "      <th>disease_id</th>\n",
       "      <th>C&lt;hpC&lt;hpC&lt;hpCduftD</th>\n",
       "      <th>C&lt;hpC&lt;hpC&lt;ioCduftD</th>\n",
       "      <th>C&lt;hpC&lt;hpCduftD</th>\n",
       "      <th>C&lt;hpC&lt;hpCduftD&lt;soD</th>\n",
       "      <th>C&lt;hpC&lt;hpCduftDso&gt;D</th>\n",
       "      <th>C&lt;hpC&lt;hpChp&gt;CduftD</th>\n",
       "      <th>C&lt;hpC&lt;hpCio&gt;CduftD</th>\n",
       "      <th>...</th>\n",
       "      <th>CsdiCpiwPeGgaD</th>\n",
       "      <th>CsdiCpiwPpiwCduftD</th>\n",
       "      <th>CsdiCsdiC&lt;hpCduftD</th>\n",
       "      <th>CsdiCsdiC&lt;ioCduftD</th>\n",
       "      <th>CsdiCsdiCduftD</th>\n",
       "      <th>CsdiCsdiCduftD&lt;soD</th>\n",
       "      <th>CsdiCsdiCduftDso&gt;D</th>\n",
       "      <th>CsdiCsdiChp&gt;CduftD</th>\n",
       "      <th>CsdiCsdiCio&gt;CduftD</th>\n",
       "      <th>CsdiCsdiCsdiCduftD</th>\n",
       "    </tr>\n",
       "  </thead>\n",
       "  <tbody>\n",
       "    <tr>\n",
       "      <th>0</th>\n",
       "      <td>wikidata-v0.1</td>\n",
       "      <td>Q10354103</td>\n",
       "      <td>Q1435822</td>\n",
       "      <td>0</td>\n",
       "      <td>0</td>\n",
       "      <td>0</td>\n",
       "      <td>0</td>\n",
       "      <td>0</td>\n",
       "      <td>0</td>\n",
       "      <td>0</td>\n",
       "      <td>...</td>\n",
       "      <td>0</td>\n",
       "      <td>0</td>\n",
       "      <td>0</td>\n",
       "      <td>0</td>\n",
       "      <td>0</td>\n",
       "      <td>0</td>\n",
       "      <td>0</td>\n",
       "      <td>0</td>\n",
       "      <td>0</td>\n",
       "      <td>0.001942</td>\n",
       "    </tr>\n",
       "    <tr>\n",
       "      <th>1</th>\n",
       "      <td>wikidata-v0.1</td>\n",
       "      <td>Q10354103</td>\n",
       "      <td>Q177190</td>\n",
       "      <td>0</td>\n",
       "      <td>0</td>\n",
       "      <td>0</td>\n",
       "      <td>0</td>\n",
       "      <td>0</td>\n",
       "      <td>0</td>\n",
       "      <td>0</td>\n",
       "      <td>...</td>\n",
       "      <td>0</td>\n",
       "      <td>0</td>\n",
       "      <td>0</td>\n",
       "      <td>0</td>\n",
       "      <td>0</td>\n",
       "      <td>0</td>\n",
       "      <td>0</td>\n",
       "      <td>0</td>\n",
       "      <td>0</td>\n",
       "      <td>0.000000</td>\n",
       "    </tr>\n",
       "  </tbody>\n",
       "</table>\n",
       "<p>2 rows × 298 columns</p>\n",
       "</div>"
      ],
      "text/plain": [
       "metapath         hetnet compound_id disease_id  C<hpC<hpC<hpCduftD  \\\n",
       "0         wikidata-v0.1   Q10354103   Q1435822                   0   \n",
       "1         wikidata-v0.1   Q10354103    Q177190                   0   \n",
       "\n",
       "metapath  C<hpC<hpC<ioCduftD  C<hpC<hpCduftD  C<hpC<hpCduftD<soD  \\\n",
       "0                          0               0                   0   \n",
       "1                          0               0                   0   \n",
       "\n",
       "metapath  C<hpC<hpCduftDso>D  C<hpC<hpChp>CduftD  C<hpC<hpCio>CduftD  \\\n",
       "0                          0                   0                   0   \n",
       "1                          0                   0                   0   \n",
       "\n",
       "metapath         ...          CsdiCpiwPeGgaD  CsdiCpiwPpiwCduftD  \\\n",
       "0                ...                       0                   0   \n",
       "1                ...                       0                   0   \n",
       "\n",
       "metapath  CsdiCsdiC<hpCduftD  CsdiCsdiC<ioCduftD  CsdiCsdiCduftD  \\\n",
       "0                          0                   0               0   \n",
       "1                          0                   0               0   \n",
       "\n",
       "metapath  CsdiCsdiCduftD<soD  CsdiCsdiCduftDso>D  CsdiCsdiChp>CduftD  \\\n",
       "0                          0                   0                   0   \n",
       "1                          0                   0                   0   \n",
       "\n",
       "metapath  CsdiCsdiCio>CduftD  CsdiCsdiCsdiCduftD  \n",
       "0                          0            0.001942  \n",
       "1                          0            0.000000  \n",
       "\n",
       "[2 rows x 298 columns]"
      ]
     },
     "execution_count": 5,
     "metadata": {},
     "output_type": "execute_result"
    }
   ],
   "source": [
    "dwpc_spread_df = pandas.pivot_table(dwpc_df, values='DWPC', index=['hetnet', 'compound_id', 'disease_id'], columns='metapath')\n",
    "dwpc_spread_df = dwpc_spread_df.reset_index()\n",
    "dwpc_spread_df.head(2)"
   ]
  },
  {
   "cell_type": "code",
   "execution_count": 6,
   "metadata": {
    "collapsed": false,
    "deletable": true,
    "editable": true
   },
   "outputs": [
    {
     "data": {
      "text/plain": [
       "[]"
      ]
     },
     "execution_count": 6,
     "metadata": {},
     "output_type": "execute_result"
    }
   ],
   "source": [
    "# Remove metapaths with missing DWPCs\n",
    "# See https://github.com/dhimmel/learn/issues/1 for potential cause\n",
    "is_complete = pandas.isnull(dwpc_spread_df).sum() == 0\n",
    "\n",
    "# Remove columns with missing data\n",
    "dwpc_spread_df = dwpc_spread_df.loc[:, is_complete]\n",
    "\n",
    "# The following columns have missing values and were removed\n",
    "is_complete.index[-is_complete].tolist()"
   ]
  },
  {
   "cell_type": "code",
   "execution_count": 7,
   "metadata": {
    "collapsed": false,
    "deletable": true,
    "editable": true
   },
   "outputs": [],
   "source": [
    "path = 'data/matrix/dwpc.tsv.bz2'\n",
    "with bz2.open(path, 'wt') as wf:\n",
    "    dwpc_spread_df.to_csv(wf, index=False, sep='\\t', float_format='%.5g')"
   ]
  },
  {
   "cell_type": "markdown",
   "metadata": {
    "deletable": true,
    "editable": true
   },
   "source": [
    "## Calculate Degree features"
   ]
  },
  {
   "cell_type": "code",
   "execution_count": 8,
   "metadata": {
    "collapsed": false,
    "deletable": true,
    "editable": true,
    "scrolled": true
   },
   "outputs": [],
   "source": [
    "\n",
    "file = '../metaedge-styles.tsv'\n",
    "metaedge_style_df = pandas.read_table(file)\n",
    "metaedge_to_abbreviation = dict(zip(metaedge_style_df.metaedge, metaedge_style_df.abbreviation))\n",
    "\n",
    "file = '../degrees.xlsx'\n",
    "\n",
    "disease_degree_df = pandas.read_excel(file, sheetname='Disease')\n",
    "disease_degree_df = disease_degree_df.rename(columns={'node_id': 'disease_id'}).drop('node_name', axis='columns')\n",
    "disease_degree_df = disease_degree_df.rename(columns=metaedge_to_abbreviation)\n",
    "\n",
    "compound_degree_df = pandas.read_excel(file, sheetname='Compound')\n",
    "compound_degree_df = compound_degree_df.rename(columns={'node_id': 'compound_id'}).drop('node_name', axis='columns')\n",
    "compound_degree_df = compound_degree_df.rename(columns=metaedge_to_abbreviation)"
   ]
  },
  {
   "cell_type": "code",
   "execution_count": 9,
   "metadata": {
    "collapsed": false,
    "deletable": true,
    "editable": true
   },
   "outputs": [
    {
     "data": {
      "text/html": [
       "<div>\n",
       "<table border=\"1\" class=\"dataframe\">\n",
       "  <thead>\n",
       "    <tr style=\"text-align: right;\">\n",
       "      <th></th>\n",
       "      <th>compound_id</th>\n",
       "      <th>CduftD</th>\n",
       "      <th>CpiwP</th>\n",
       "      <th>CsdiC</th>\n",
       "      <th>C&lt;hpC</th>\n",
       "      <th>C&lt;ioC</th>\n",
       "      <th>Chp&gt;C</th>\n",
       "      <th>Cio&gt;C</th>\n",
       "    </tr>\n",
       "  </thead>\n",
       "  <tbody>\n",
       "    <tr>\n",
       "      <th>0</th>\n",
       "      <td>Q1002165</td>\n",
       "      <td>0</td>\n",
       "      <td>1</td>\n",
       "      <td>0</td>\n",
       "      <td>0</td>\n",
       "      <td>0</td>\n",
       "      <td>0</td>\n",
       "      <td>0</td>\n",
       "    </tr>\n",
       "    <tr>\n",
       "      <th>1</th>\n",
       "      <td>Q1014287</td>\n",
       "      <td>0</td>\n",
       "      <td>0</td>\n",
       "      <td>0</td>\n",
       "      <td>0</td>\n",
       "      <td>0</td>\n",
       "      <td>1</td>\n",
       "      <td>0</td>\n",
       "    </tr>\n",
       "  </tbody>\n",
       "</table>\n",
       "</div>"
      ],
      "text/plain": [
       "  compound_id  CduftD  CpiwP  CsdiC  C<hpC  C<ioC  Chp>C  Cio>C\n",
       "0    Q1002165       0      1      0      0      0      0      0\n",
       "1    Q1014287       0      0      0      0      0      1      0"
      ]
     },
     "execution_count": 9,
     "metadata": {},
     "output_type": "execute_result"
    }
   ],
   "source": [
    "compound_degree_df.head(2)"
   ]
  },
  {
   "cell_type": "code",
   "execution_count": 10,
   "metadata": {
    "collapsed": false,
    "deletable": true,
    "editable": true
   },
   "outputs": [
    {
     "data": {
      "text/html": [
       "<div>\n",
       "<table border=\"1\" class=\"dataframe\">\n",
       "  <thead>\n",
       "    <tr style=\"text-align: right;\">\n",
       "      <th></th>\n",
       "      <th>disease_id</th>\n",
       "      <th>DduftC</th>\n",
       "      <th>DgaG</th>\n",
       "      <th>D&lt;soD</th>\n",
       "      <th>Dso&gt;D</th>\n",
       "    </tr>\n",
       "  </thead>\n",
       "  <tbody>\n",
       "    <tr>\n",
       "      <th>0</th>\n",
       "      <td>Q1002195</td>\n",
       "      <td>0</td>\n",
       "      <td>0</td>\n",
       "      <td>0</td>\n",
       "      <td>1</td>\n",
       "    </tr>\n",
       "    <tr>\n",
       "      <th>1</th>\n",
       "      <td>Q1004647</td>\n",
       "      <td>1</td>\n",
       "      <td>0</td>\n",
       "      <td>0</td>\n",
       "      <td>4</td>\n",
       "    </tr>\n",
       "  </tbody>\n",
       "</table>\n",
       "</div>"
      ],
      "text/plain": [
       "  disease_id  DduftC  DgaG  D<soD  Dso>D\n",
       "0   Q1002195       0     0      0      1\n",
       "1   Q1004647       1     0      0      4"
      ]
     },
     "execution_count": 10,
     "metadata": {},
     "output_type": "execute_result"
    }
   ],
   "source": [
    "disease_degree_df.head(2)"
   ]
  },
  {
   "cell_type": "code",
   "execution_count": 11,
   "metadata": {
    "collapsed": true,
    "deletable": true,
    "editable": true
   },
   "outputs": [],
   "source": [
    "compound_degree_df.to_csv('data/matrix/compound_degree.tsv', index=False, sep='\\t')\n",
    "disease_degree_df.to_csv('data/matrix/disease_degree.tsv', index=False, sep='\\t')"
   ]
  },
  {
   "cell_type": "markdown",
   "metadata": {
    "deletable": true,
    "editable": true
   },
   "source": [
    "## Compute prior dataset"
   ]
  },
  {
   "cell_type": "code",
   "execution_count": 12,
   "metadata": {
    "collapsed": false,
    "deletable": true,
    "editable": true
   },
   "outputs": [
    {
     "data": {
      "text/plain": [
       "(36146736, 637894)"
      ]
     },
     "execution_count": 12,
     "metadata": {},
     "output_type": "execute_result"
    }
   ],
   "source": [
    "# Read compound and disease degrees\n",
    "compound_df = pandas.read_table('../summary/compounds.tsv')\n",
    "disease_df = pandas.read_table('../summary/diseases.tsv')\n",
    "total_pairs = len(compound_df) * len(disease_df)\n",
    "nonzero_prior_pairs = sum(compound_df.treats > 0) * sum(disease_df.treats > 0)\n",
    "total_pairs, nonzero_prior_pairs"
   ]
  },
  {
   "cell_type": "code",
   "execution_count": 13,
   "metadata": {
    "collapsed": false,
    "deletable": true,
    "editable": true
   },
   "outputs": [
    {
     "data": {
      "text/html": [
       "<div>\n",
       "<table border=\"1\" class=\"dataframe\">\n",
       "  <thead>\n",
       "    <tr style=\"text-align: right;\">\n",
       "      <th></th>\n",
       "      <th>compound_id</th>\n",
       "      <th>disease_id</th>\n",
       "      <th>prior_prob</th>\n",
       "    </tr>\n",
       "  </thead>\n",
       "  <tbody>\n",
       "    <tr>\n",
       "      <th>0</th>\n",
       "      <td>Q161459</td>\n",
       "      <td>Q4596888</td>\n",
       "      <td>0</td>\n",
       "    </tr>\n",
       "    <tr>\n",
       "      <th>1</th>\n",
       "      <td>Q161459</td>\n",
       "      <td>Q3335660</td>\n",
       "      <td>0</td>\n",
       "    </tr>\n",
       "  </tbody>\n",
       "</table>\n",
       "</div>"
      ],
      "text/plain": [
       "  compound_id disease_id  prior_prob\n",
       "0     Q161459   Q4596888           0\n",
       "1     Q161459   Q3335660           0"
      ]
     },
     "execution_count": 13,
     "metadata": {},
     "output_type": "execute_result"
    }
   ],
   "source": [
    "rows = list(itertools.product(compound_df.compound_id, disease_df.disease_id))\n",
    "prior_df = pandas.DataFrame(rows, columns=['compound_id', 'disease_id']).merge(\n",
    "  pandas.read_table('../prior/data/observation-prior.tsv')[['compound_id', 'disease_id', 'prior_perm']], how='left'\n",
    ").fillna(0)\n",
    "prior_df = prior_df.rename(columns={'prior_perm': 'prior_prob'})\n",
    "prior_df.head(2)"
   ]
  },
  {
   "cell_type": "code",
   "execution_count": 14,
   "metadata": {
    "collapsed": false,
    "deletable": true,
    "editable": true
   },
   "outputs": [
    {
     "data": {
      "text/plain": [
       "2968.9997121526762"
      ]
     },
     "execution_count": 14,
     "metadata": {},
     "output_type": "execute_result"
    }
   ],
   "source": [
    "sum(prior_df.prior_prob)"
   ]
  },
  {
   "cell_type": "code",
   "execution_count": 15,
   "metadata": {
    "collapsed": false,
    "deletable": true,
    "editable": true
   },
   "outputs": [
    {
     "data": {
      "text/plain": [
       "False    0.982353\n",
       "True     0.017647\n",
       "Name: prior_prob, dtype: float64"
      ]
     },
     "execution_count": 15,
     "metadata": {},
     "output_type": "execute_result"
    }
   ],
   "source": [
    "(prior_df.prior_prob > 0).value_counts(True)"
   ]
  },
  {
   "cell_type": "code",
   "execution_count": 16,
   "metadata": {
    "collapsed": true,
    "deletable": true,
    "editable": true
   },
   "outputs": [],
   "source": [
    "prior_df.to_csv('data/matrix/prior.tsv', index=False, sep='\\t', float_format='%.5g')"
   ]
  },
  {
   "cell_type": "markdown",
   "metadata": {
    "deletable": true,
    "editable": true
   },
   "source": [
    "## Create a single matrix-like dataframe"
   ]
  },
  {
   "cell_type": "code",
   "execution_count": 17,
   "metadata": {
    "collapsed": true,
    "deletable": true,
    "editable": true
   },
   "outputs": [],
   "source": [
    "matrix_df = part_df.merge(disease_df.iloc[:, :2]).merge(compound_df.iloc[:, :2])\n",
    "matrix_df = matrix_df.merge(prior_df)\n",
    "matrix_df = matrix_df.merge(compound_degree_df).merge(disease_degree_df)\n",
    "matrix_df = matrix_df.merge(dwpc_spread_df)"
   ]
  },
  {
   "cell_type": "code",
   "execution_count": 18,
   "metadata": {
    "collapsed": false,
    "deletable": true,
    "editable": true
   },
   "outputs": [
    {
     "data": {
      "text/html": [
       "<div>\n",
       "<table border=\"1\" class=\"dataframe\">\n",
       "  <thead>\n",
       "    <tr style=\"text-align: right;\">\n",
       "      <th></th>\n",
       "      <th>hetnet</th>\n",
       "      <th>compound_id</th>\n",
       "      <th>disease_id</th>\n",
       "      <th>status</th>\n",
       "      <th>primary</th>\n",
       "      <th>disease_name</th>\n",
       "      <th>compound_name</th>\n",
       "      <th>prior_prob</th>\n",
       "      <th>CduftD</th>\n",
       "      <th>CpiwP</th>\n",
       "      <th>...</th>\n",
       "      <th>CsdiCpiwPeGgaD</th>\n",
       "      <th>CsdiCpiwPpiwCduftD</th>\n",
       "      <th>CsdiCsdiC&lt;hpCduftD</th>\n",
       "      <th>CsdiCsdiC&lt;ioCduftD</th>\n",
       "      <th>CsdiCsdiCduftD</th>\n",
       "      <th>CsdiCsdiCduftD&lt;soD</th>\n",
       "      <th>CsdiCsdiCduftDso&gt;D</th>\n",
       "      <th>CsdiCsdiChp&gt;CduftD</th>\n",
       "      <th>CsdiCsdiCio&gt;CduftD</th>\n",
       "      <th>CsdiCsdiCsdiCduftD</th>\n",
       "    </tr>\n",
       "  </thead>\n",
       "  <tbody>\n",
       "    <tr>\n",
       "      <th>0</th>\n",
       "      <td>wikidata-v0.1_perm-1</td>\n",
       "      <td>Q10354103</td>\n",
       "      <td>Q1048084</td>\n",
       "      <td>1</td>\n",
       "      <td>1</td>\n",
       "      <td>opisthorchiasis</td>\n",
       "      <td>probucol</td>\n",
       "      <td>0.001999</td>\n",
       "      <td>3</td>\n",
       "      <td>1</td>\n",
       "      <td>...</td>\n",
       "      <td>0</td>\n",
       "      <td>0</td>\n",
       "      <td>0</td>\n",
       "      <td>0</td>\n",
       "      <td>0.010103</td>\n",
       "      <td>0</td>\n",
       "      <td>0</td>\n",
       "      <td>0</td>\n",
       "      <td>0</td>\n",
       "      <td>0.014973</td>\n",
       "    </tr>\n",
       "    <tr>\n",
       "      <th>1</th>\n",
       "      <td>wikidata-v0.1_perm-5</td>\n",
       "      <td>Q118551</td>\n",
       "      <td>Q1048084</td>\n",
       "      <td>1</td>\n",
       "      <td>1</td>\n",
       "      <td>opisthorchiasis</td>\n",
       "      <td>clarithromycin</td>\n",
       "      <td>0.006174</td>\n",
       "      <td>9</td>\n",
       "      <td>0</td>\n",
       "      <td>...</td>\n",
       "      <td>0</td>\n",
       "      <td>0</td>\n",
       "      <td>0</td>\n",
       "      <td>0</td>\n",
       "      <td>0.000000</td>\n",
       "      <td>0</td>\n",
       "      <td>0</td>\n",
       "      <td>0</td>\n",
       "      <td>0</td>\n",
       "      <td>0.000000</td>\n",
       "    </tr>\n",
       "  </tbody>\n",
       "</table>\n",
       "<p>2 rows × 314 columns</p>\n",
       "</div>"
      ],
      "text/plain": [
       "                 hetnet compound_id disease_id  status  primary  \\\n",
       "0  wikidata-v0.1_perm-1   Q10354103   Q1048084       1        1   \n",
       "1  wikidata-v0.1_perm-5     Q118551   Q1048084       1        1   \n",
       "\n",
       "      disease_name   compound_name  prior_prob  CduftD  CpiwP  \\\n",
       "0  opisthorchiasis        probucol    0.001999       3      1   \n",
       "1  opisthorchiasis  clarithromycin    0.006174       9      0   \n",
       "\n",
       "          ...          CsdiCpiwPeGgaD  CsdiCpiwPpiwCduftD  CsdiCsdiC<hpCduftD  \\\n",
       "0         ...                       0                   0                   0   \n",
       "1         ...                       0                   0                   0   \n",
       "\n",
       "   CsdiCsdiC<ioCduftD  CsdiCsdiCduftD  CsdiCsdiCduftD<soD  CsdiCsdiCduftDso>D  \\\n",
       "0                   0        0.010103                   0                   0   \n",
       "1                   0        0.000000                   0                   0   \n",
       "\n",
       "   CsdiCsdiChp>CduftD  CsdiCsdiCio>CduftD  CsdiCsdiCsdiCduftD  \n",
       "0                   0                   0            0.014973  \n",
       "1                   0                   0            0.000000  \n",
       "\n",
       "[2 rows x 314 columns]"
      ]
     },
     "execution_count": 18,
     "metadata": {},
     "output_type": "execute_result"
    }
   ],
   "source": [
    "matrix_df.head(2)"
   ]
  },
  {
   "cell_type": "code",
   "execution_count": 19,
   "metadata": {
    "collapsed": false,
    "deletable": true,
    "editable": true
   },
   "outputs": [],
   "source": [
    "df_creators = [\n",
    "    {'feature_type': 'prior', 'feature': ['prior_prob']},\n",
    "    {'feature_type': 'degree', 'feature': compound_degree_df.columns[1:]},\n",
    "    {'feature_type': 'degree', 'feature': disease_degree_df.columns[1:]},\n",
    "    {'feature_type': 'dwpc', 'feature': dwpc_spread_df.columns[3:]},\n",
    "]\n",
    "feature_df = pandas.concat(map(pandas.DataFrame, df_creators))"
   ]
  },
  {
   "cell_type": "code",
   "execution_count": 20,
   "metadata": {
    "collapsed": false,
    "deletable": true,
    "editable": true
   },
   "outputs": [
    {
     "data": {
      "text/html": [
       "<div>\n",
       "<table border=\"1\" class=\"dataframe\">\n",
       "  <thead>\n",
       "    <tr style=\"text-align: right;\">\n",
       "      <th></th>\n",
       "      <th>feature</th>\n",
       "      <th>feature_type</th>\n",
       "      <th>unperm_mean</th>\n",
       "      <th>unperm_sd</th>\n",
       "    </tr>\n",
       "  </thead>\n",
       "  <tbody>\n",
       "    <tr>\n",
       "      <th>0</th>\n",
       "      <td>prior_prob</td>\n",
       "      <td>prior</td>\n",
       "      <td>0.008933</td>\n",
       "      <td>0.020257</td>\n",
       "    </tr>\n",
       "    <tr>\n",
       "      <th>0</th>\n",
       "      <td>CduftD</td>\n",
       "      <td>degree</td>\n",
       "      <td>3.366723</td>\n",
       "      <td>3.191600</td>\n",
       "    </tr>\n",
       "  </tbody>\n",
       "</table>\n",
       "</div>"
      ],
      "text/plain": [
       "      feature feature_type  unperm_mean  unperm_sd\n",
       "0  prior_prob        prior     0.008933   0.020257\n",
       "0      CduftD       degree     3.366723   3.191600"
      ]
     },
     "execution_count": 20,
     "metadata": {},
     "output_type": "execute_result"
    }
   ],
   "source": [
    "unperm_matrix_df = matrix_df.query(\"hetnet == @unperm_name\").drop('hetnet', axis='columns')\n",
    "feature_df['unperm_mean'] = list(unperm_matrix_df[feature_df.feature].mean())\n",
    "feature_df['unperm_sd'] = list(unperm_matrix_df[feature_df.feature].std())\n",
    "feature_df.head(2)"
   ]
  },
  {
   "cell_type": "code",
   "execution_count": 21,
   "metadata": {
    "collapsed": true,
    "deletable": true,
    "editable": true
   },
   "outputs": [],
   "source": [
    "feature_df.to_csv('data/matrix/feature-type.tsv', index=False, sep='\\t', float_format='%.5g')\n",
    "\n",
    "path = 'data/matrix/features.tsv.bz2'\n",
    "with bz2.open(path, 'wt') as wf:\n",
    "    matrix_df.to_csv(wf, index=False, sep='\\t', float_format='%.5g')"
   ]
  },
  {
   "cell_type": "code",
   "execution_count": 22,
   "metadata": {
    "collapsed": false,
    "deletable": true,
    "editable": true
   },
   "outputs": [],
   "source": [
    "# Save hetnet specific feature files\n",
    "directory = os.path.join('data', 'matrix', unperm_name)\n",
    "if not os.path.exists(directory):\n",
    "    os.mkdir(directory)\n",
    "path = os.path.join(directory, 'features.tsv.bz2')\n",
    "with bz2.open(path, 'wt') as wf:\n",
    "    unperm_matrix_df.to_csv(wf, index=False, sep='\\t', float_format='%.5g')"
   ]
  },
  {
   "cell_type": "code",
   "execution_count": null,
   "metadata": {
    "collapsed": true,
    "deletable": true,
    "editable": true
   },
   "outputs": [],
   "source": []
  }
 ],
 "metadata": {
  "kernelspec": {
   "display_name": "Python 3",
   "language": "python",
   "name": "python3"
  },
  "language_info": {
   "codemirror_mode": {
    "name": "ipython",
    "version": 3
   },
   "file_extension": ".py",
   "mimetype": "text/x-python",
   "name": "python",
   "nbconvert_exporter": "python",
   "pygments_lexer": "ipython3",
   "version": "3.5.3"
  }
 },
 "nbformat": 4,
 "nbformat_minor": 0
}
