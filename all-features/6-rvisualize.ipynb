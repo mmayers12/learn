{
 "cells": [
  {
   "cell_type": "markdown",
   "metadata": {},
   "source": [
    "# Visualize metapath performance against permutation"
   ]
  },
  {
   "cell_type": "code",
   "execution_count": 1,
   "metadata": {
    "collapsed": false
   },
   "outputs": [],
   "source": [
    "library(magrittr)"
   ]
  },
  {
   "cell_type": "code",
   "execution_count": 2,
   "metadata": {
    "collapsed": false
   },
   "outputs": [
    {
     "name": "stderr",
     "output_type": "stream",
     "text": [
      "Parsed with column specification:\n",
      "cols(\n",
      "  metapath = col_character(),\n",
      "  metaedge = col_character(),\n",
      "  metaedge_abbrev = col_character(),\n",
      "  position = col_integer(),\n",
      "  length = col_integer()\n",
      ")\n",
      "Parsed with column specification:\n",
      "cols(\n",
      "  metapath = col_character(),\n",
      "  dwpc_auroc = col_double(),\n",
      "  pdwpc_auroc = col_double(),\n",
      "  rdwpc_auroc = col_double(),\n",
      "  nonzero = col_double(),\n",
      "  pdwpc_primary_auroc = col_double(),\n",
      "  delta_auroc = col_double(),\n",
      "  pval_delta_auroc = col_double()\n",
      ")\n",
      "Joining, by = \"metapath\"\n"
     ]
    }
   ],
   "source": [
    "metaedge_df = readr::read_tsv('data/metaedge-in-metapath.tsv') %>%\n",
    "  dplyr::select(-position) %>%\n",
    "  dplyr::mutate(length = as.character(length))\n",
    "\n",
    "all_abbrevs = unique(metaedge_df$metaedge_abbrev)\n",
    "\n",
    "# Read feature-sepcific performance for DWPC features and correct for multiple testing\n",
    "metapath_df = readr::read_tsv('data/feature-performance/auroc.tsv') %>%\n",
    "  dplyr::mutate(\n",
    "    fwer_delta_auroc = p.adjust(p = pval_delta_auroc, method = 'bonferroni'),\n",
    "    fdr_delta_auroc = p.adjust(p = pval_delta_auroc, method = 'fdr')\n",
    "  ) \n",
    "\n",
    "fsp_df = metapath_df %>%\n",
    "  dplyr::inner_join(metaedge_df)\n",
    "\n",
    "metaedge_df = fsp_df %>%\n",
    "  dplyr::group_by(metaedge_abbrev, metaedge) %>%\n",
    "  dplyr::summarize(\n",
    "    max_dwpc_auroc = max(dwpc_auroc),\n",
    "    max_delta_auroc = max(delta_auroc),\n",
    "    max_rdwpc_auroc = max(rdwpc_auroc)\n",
    "  ) %>%\n",
    "  dplyr::ungroup() %>%\n",
    "  dplyr::arrange(max_delta_auroc, desc(metaedge_abbrev))"
   ]
  },
  {
   "cell_type": "code",
   "execution_count": 3,
   "metadata": {
    "collapsed": false
   },
   "outputs": [
    {
     "data": {
      "text/html": [
       "<table>\n",
       "<thead><tr><th scope=col>metapath</th><th scope=col>dwpc_auroc</th><th scope=col>pdwpc_auroc</th><th scope=col>rdwpc_auroc</th><th scope=col>nonzero</th><th scope=col>pdwpc_primary_auroc</th><th scope=col>delta_auroc</th><th scope=col>pval_delta_auroc</th><th scope=col>fwer_delta_auroc</th><th scope=col>fdr_delta_auroc</th><th scope=col>metaedge</th><th scope=col>metaedge_abbrev</th><th scope=col>length</th></tr></thead>\n",
       "<tbody>\n",
       "\t<tr><td>CsdiCsdiCsdiCduftD                                </td><td>0.5347                                            </td><td>0.53066                                           </td><td>0.50326                                           </td><td>0.035972                                          </td><td>0.52043                                           </td><td>0.014268                                          </td><td>0.00017719                                        </td><td>0.0124033                                         </td><td>0.0002818932                                      </td><td>Compound - significant-drug-interaction - Compound</td><td>CsdiC                                             </td><td>4                                                 </td></tr>\n",
       "\t<tr><td>CsdiCsdiCsdiCduftD                                </td><td>0.5347                                            </td><td>0.53066                                           </td><td>0.50326                                           </td><td>0.035972                                          </td><td>0.52043                                           </td><td>0.014268                                          </td><td>0.00017719                                        </td><td>0.0124033                                         </td><td>0.0002818932                                      </td><td>Disease - drug-used-for-treatment - Compound      </td><td>DduftC                                            </td><td>4                                                 </td></tr>\n",
       "</tbody>\n",
       "</table>\n"
      ],
      "text/latex": [
       "\\begin{tabular}{r|lllllllllllll}\n",
       " metapath & dwpc\\_auroc & pdwpc\\_auroc & rdwpc\\_auroc & nonzero & pdwpc\\_primary\\_auroc & delta\\_auroc & pval\\_delta\\_auroc & fwer\\_delta\\_auroc & fdr\\_delta\\_auroc & metaedge & metaedge\\_abbrev & length\\\\\n",
       "\\hline\n",
       "\t CsdiCsdiCsdiCduftD                                 & 0.5347                                             & 0.53066                                            & 0.50326                                            & 0.035972                                           & 0.52043                                            & 0.014268                                           & 0.00017719                                         & 0.0124033                                          & 0.0002818932                                       & Compound - significant-drug-interaction - Compound & CsdiC                                              & 4                                                 \\\\\n",
       "\t CsdiCsdiCsdiCduftD                                 & 0.5347                                             & 0.53066                                            & 0.50326                                            & 0.035972                                           & 0.52043                                            & 0.014268                                           & 0.00017719                                         & 0.0124033                                          & 0.0002818932                                       & Disease - drug-used-for-treatment - Compound       & DduftC                                             & 4                                                 \\\\\n",
       "\\end{tabular}\n"
      ],
      "text/markdown": [
       "\n",
       "metapath | dwpc_auroc | pdwpc_auroc | rdwpc_auroc | nonzero | pdwpc_primary_auroc | delta_auroc | pval_delta_auroc | fwer_delta_auroc | fdr_delta_auroc | metaedge | metaedge_abbrev | length | \n",
       "|---|---|\n",
       "| CsdiCsdiCsdiCduftD                                 | 0.5347                                             | 0.53066                                            | 0.50326                                            | 0.035972                                           | 0.52043                                            | 0.014268                                           | 0.00017719                                         | 0.0124033                                          | 0.0002818932                                       | Compound - significant-drug-interaction - Compound | CsdiC                                              | 4                                                  | \n",
       "| CsdiCsdiCsdiCduftD                                 | 0.5347                                             | 0.53066                                            | 0.50326                                            | 0.035972                                           | 0.52043                                            | 0.014268                                           | 0.00017719                                         | 0.0124033                                          | 0.0002818932                                       | Disease - drug-used-for-treatment - Compound       | DduftC                                             | 4                                                  | \n",
       "\n",
       "\n"
      ],
      "text/plain": [
       "  metapath           dwpc_auroc pdwpc_auroc rdwpc_auroc nonzero \n",
       "1 CsdiCsdiCsdiCduftD 0.5347     0.53066     0.50326     0.035972\n",
       "2 CsdiCsdiCsdiCduftD 0.5347     0.53066     0.50326     0.035972\n",
       "  pdwpc_primary_auroc delta_auroc pval_delta_auroc fwer_delta_auroc\n",
       "1 0.52043             0.014268    0.00017719       0.0124033       \n",
       "2 0.52043             0.014268    0.00017719       0.0124033       \n",
       "  fdr_delta_auroc metaedge                                          \n",
       "1 0.0002818932    Compound - significant-drug-interaction - Compound\n",
       "2 0.0002818932    Disease - drug-used-for-treatment - Compound      \n",
       "  metaedge_abbrev length\n",
       "1 CsdiC           4     \n",
       "2 DduftC          4     "
      ]
     },
     "metadata": {},
     "output_type": "display_data"
    }
   ],
   "source": [
    "fsp_df %>% tail(2) "
   ]
  },
  {
   "cell_type": "code",
   "execution_count": 4,
   "metadata": {
    "collapsed": false
   },
   "outputs": [],
   "source": [
    "#abbrev_to_metaedge = setNames(metaedge_df$metaedge_abbrev, metaedge_df$metaedge)"
   ]
  },
  {
   "cell_type": "code",
   "execution_count": 4,
   "metadata": {
    "collapsed": true
   },
   "outputs": [],
   "source": [
    "length_to_color = c('1' = '#b2df8a', '2' = '#1f78b4', '3' = '#33a02c', '4' = '#a6cee3')"
   ]
  },
  {
   "cell_type": "code",
   "execution_count": 5,
   "metadata": {
    "collapsed": false
   },
   "outputs": [
    {
     "ename": "ERROR",
     "evalue": "Error in loadNamespace(name): there is no package called ‘hetior’\n",
     "output_type": "error",
     "traceback": [
      "Error in loadNamespace(name): there is no package called ‘hetior’\nTraceback:\n",
      "1. hetior::theme_dhimmel",
      "2. getExportedValue(pkg, name)",
      "3. asNamespace(ns)",
      "4. getNamespace(ns)",
      "5. tryCatch(loadNamespace(name), error = function(e) stop(e))",
      "6. tryCatchList(expr, classes, parentenv, handlers)",
      "7. tryCatchOne(expr, names, parentenv, handlers[[1L]])",
      "8. value[[3L]](cond)"
     ]
    }
   ],
   "source": [
    "w = 7; h = 5.5\n",
    "options(repr.plot.width=w, repr.plot.height=h)\n",
    "set.seed(0)\n",
    "gg_fsp = fsp_df %>%\n",
    "  dplyr::distinct(metapath, metaedge) %>%\n",
    "  dplyr::mutate(title = 'Feature Performance by Metaedge') %>%\n",
    "  ggplot2::ggplot(ggplot2::aes(x = delta_auroc, y = metaedge)) +\n",
    "  ggplot2::geom_vline(xintercept = 0, linetype='dashed', color='gray') +\n",
    "  ggplot2::geom_jitter(ggplot2::aes(fill = length), height=0.4, alpha=1, shape = 21, size=2, color= '#6C6C6C', stroke=0.7) +\n",
    "  ggplot2::facet_grid(. ~ title) +\n",
    "  ggplot2::scale_fill_manual(name = 'Length', values=length_to_color) +\n",
    "  ggplot2::scale_x_continuous(labels=scales::percent) +\n",
    "  ggplot2::scale_y_discrete(limits = metaedge_df$metaedge) +\n",
    "  ggplot2::xlab('Δ AUROC of DWPCs Due to Permutation') + ggplot2::ylab(NULL) +\n",
    "  hetior::theme_dhimmel() +\n",
    "  ggplot2::theme(\n",
    "    legend.justification=c(1, 0), legend.position=c(1, 0))\n",
    "\n",
    "ggplot2::ggsave('./data/feature-performance/delta-auroc.png', dpi=300, width = w, height = h)"
   ]
  },
  {
   "cell_type": "markdown",
   "metadata": {},
   "source": [
    "## Percent of DWPC features passing bonferroni, FDR, and unadjusted significance thresholds"
   ]
  },
  {
   "cell_type": "code",
   "execution_count": 6,
   "metadata": {
    "collapsed": false
   },
   "outputs": [
    {
     "data": {
      "text/html": [
       "0.7"
      ],
      "text/latex": [
       "0.7"
      ],
      "text/markdown": [
       "0.7"
      ],
      "text/plain": [
       "[1] 0.7"
      ]
     },
     "metadata": {},
     "output_type": "display_data"
    },
    {
     "data": {
      "text/html": [
       "0.857142857142857"
      ],
      "text/latex": [
       "0.857142857142857"
      ],
      "text/markdown": [
       "0.857142857142857"
      ],
      "text/plain": [
       "[1] 0.8571429"
      ]
     },
     "metadata": {},
     "output_type": "display_data"
    },
    {
     "data": {
      "text/html": [
       "0.857142857142857"
      ],
      "text/latex": [
       "0.857142857142857"
      ],
      "text/markdown": [
       "0.857142857142857"
      ],
      "text/plain": [
       "[1] 0.8571429"
      ]
     },
     "metadata": {},
     "output_type": "display_data"
    }
   ],
   "source": [
    "alpha = 0.05\n",
    "\n",
    "metapath_df %$% mean(fwer_delta_auroc < alpha)\n",
    "metapath_df %$% mean(fdr_delta_auroc < alpha)\n",
    "metapath_df %$% mean(metapath_df$pval_delta_auroc < alpha)"
   ]
  },
  {
   "cell_type": "code",
   "execution_count": 7,
   "metadata": {
    "collapsed": false
   },
   "outputs": [
    {
     "data": {
      "text/html": [
       "70"
      ],
      "text/latex": [
       "70"
      ],
      "text/markdown": [
       "70"
      ],
      "text/plain": [
       "[1] 70"
      ]
     },
     "metadata": {},
     "output_type": "display_data"
    }
   ],
   "source": [
    "nrow(metapath_df)"
   ]
  },
  {
   "cell_type": "markdown",
   "metadata": {},
   "source": [
    "## Metaedges with a sigificant metapath"
   ]
  },
  {
   "cell_type": "code",
   "execution_count": 8,
   "metadata": {
    "collapsed": false
   },
   "outputs": [
    {
     "data": {
      "text/html": [
       "<table>\n",
       "<thead><tr><th scope=col>metaedge</th><th scope=col>metaedge_abbrev</th><th scope=col>n_occurence</th><th scope=col>n_unique_metapaths</th></tr></thead>\n",
       "<tbody>\n",
       "\t<tr><td>Disease - drug-used-for-treatment - Compound      </td><td>DduftC                                            </td><td>78                                                </td><td>58                                                </td></tr>\n",
       "\t<tr><td><span style=white-space:pre-wrap>Disease &gt; subclass-of &gt; Disease                   </span></td><td><span style=white-space:pre-wrap>DsoD  </span>                                                  </td><td>57                                                                                              </td><td>34                                                                                              </td></tr>\n",
       "\t<tr><td>Compound - significant-drug-interaction - Compound</td><td>CsdiC                                             </td><td>36                                                </td><td>25                                                </td></tr>\n",
       "\t<tr><td><span style=white-space:pre-wrap>Compound &gt; has-part &gt; Compound                    </span></td><td><span style=white-space:pre-wrap>ChpC  </span>                                                  </td><td>24                                                                                              </td><td>21                                                                                              </td></tr>\n",
       "\t<tr><td>Protein - physically-interacts-with - Compound    </td><td>PpiwC                                             </td><td>12                                                </td><td> 7                                                </td></tr>\n",
       "\t<tr><td>Gene - genetic-association - Disease              </td><td>GgaD                                              </td><td> 6                                                </td><td> 4                                                </td></tr>\n",
       "\t<tr><td>Gene - encodes - Protein                          </td><td>GeP                                               </td><td> 2                                                </td><td> 2                                                </td></tr>\n",
       "</tbody>\n",
       "</table>\n"
      ],
      "text/latex": [
       "\\begin{tabular}{r|llll}\n",
       " metaedge & metaedge\\_abbrev & n\\_occurence & n\\_unique\\_metapaths\\\\\n",
       "\\hline\n",
       "\t Disease - drug-used-for-treatment - Compound       & DduftC                                             & 78                                                 & 58                                                \\\\\n",
       "\t Disease > subclass-of > Disease                    & DsoD                                               & 57                                                 & 34                                                \\\\\n",
       "\t Compound - significant-drug-interaction - Compound & CsdiC                                              & 36                                                 & 25                                                \\\\\n",
       "\t Compound > has-part > Compound                     & ChpC                                               & 24                                                 & 21                                                \\\\\n",
       "\t Protein - physically-interacts-with - Compound     & PpiwC                                              & 12                                                 &  7                                                \\\\\n",
       "\t Gene - genetic-association - Disease               & GgaD                                               &  6                                                 &  4                                                \\\\\n",
       "\t Gene - encodes - Protein                           & GeP                                                &  2                                                 &  2                                                \\\\\n",
       "\\end{tabular}\n"
      ],
      "text/markdown": [
       "\n",
       "metaedge | metaedge_abbrev | n_occurence | n_unique_metapaths | \n",
       "|---|---|---|---|---|---|---|\n",
       "| Disease - drug-used-for-treatment - Compound       | DduftC                                             | 78                                                 | 58                                                 | \n",
       "| Disease > subclass-of > Disease                    | DsoD                                               | 57                                                 | 34                                                 | \n",
       "| Compound - significant-drug-interaction - Compound | CsdiC                                              | 36                                                 | 25                                                 | \n",
       "| Compound > has-part > Compound                     | ChpC                                               | 24                                                 | 21                                                 | \n",
       "| Protein - physically-interacts-with - Compound     | PpiwC                                              | 12                                                 |  7                                                 | \n",
       "| Gene - genetic-association - Disease               | GgaD                                               |  6                                                 |  4                                                 | \n",
       "| Gene - encodes - Protein                           | GeP                                                |  2                                                 |  2                                                 | \n",
       "\n",
       "\n"
      ],
      "text/plain": [
       "  metaedge                                           metaedge_abbrev\n",
       "1 Disease - drug-used-for-treatment - Compound       DduftC         \n",
       "2 Disease > subclass-of > Disease                    DsoD           \n",
       "3 Compound - significant-drug-interaction - Compound CsdiC          \n",
       "4 Compound > has-part > Compound                     ChpC           \n",
       "5 Protein - physically-interacts-with - Compound     PpiwC          \n",
       "6 Gene - genetic-association - Disease               GgaD           \n",
       "7 Gene - encodes - Protein                           GeP            \n",
       "  n_occurence n_unique_metapaths\n",
       "1 78          58                \n",
       "2 57          34                \n",
       "3 36          25                \n",
       "4 24          21                \n",
       "5 12           7                \n",
       "6  6           4                \n",
       "7  2           2                "
      ]
     },
     "metadata": {},
     "output_type": "display_data"
    }
   ],
   "source": [
    "fsp_df %>%\n",
    "  dplyr::filter(fdr_delta_auroc < alpha) %>%\n",
    "  dplyr::group_by(metaedge, metaedge_abbrev) %>%\n",
    "  dplyr::summarize(\n",
    "    n_occurence = n(),\n",
    "    n_unique_metapaths = n_distinct(metapath)\n",
    "  ) %>%\n",
    "  dplyr::ungroup() %>%\n",
    "  dplyr::arrange(desc(n_unique_metapaths))"
   ]
  },
  {
   "cell_type": "code",
   "execution_count": null,
   "metadata": {
    "collapsed": true
   },
   "outputs": [],
   "source": []
  }
 ],
 "metadata": {
  "kernelspec": {
   "display_name": "R",
   "language": "R",
   "name": "ir"
  },
  "language_info": {
   "codemirror_mode": "r",
   "file_extension": ".r",
   "mimetype": "text/x-r-source",
   "name": "R",
   "pygments_lexer": "r",
   "version": "3.3.2"
  }
 },
 "nbformat": 4,
 "nbformat_minor": 0
}
