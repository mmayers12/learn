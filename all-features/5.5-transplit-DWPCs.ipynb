{
 "cells": [
  {
   "cell_type": "markdown",
   "metadata": {
    "deletable": true,
    "editable": true
   },
   "source": [
    "# Transform and split DWPCs, assess performance"
   ]
  },
  {
   "cell_type": "code",
   "execution_count": 1,
   "metadata": {
    "collapsed": true,
    "deletable": true,
    "editable": true
   },
   "outputs": [],
   "source": [
    "import itertools\n",
    "import bz2\n",
    "\n",
    "import pandas\n",
    "import numpy\n",
    "import sklearn.metrics\n",
    "from scipy.special import logit"
   ]
  },
  {
   "cell_type": "code",
   "execution_count": 2,
   "metadata": {
    "collapsed": true,
    "deletable": true,
    "editable": true
   },
   "outputs": [],
   "source": [
    "unperm_name = 'wikidata-v0.1'"
   ]
  },
  {
   "cell_type": "code",
   "execution_count": 3,
   "metadata": {
    "collapsed": true,
    "deletable": true,
    "editable": true
   },
   "outputs": [],
   "source": [
    "feature_df = pandas.read_table('data/matrix/features.tsv.bz2')\n",
    "feature_type_df = pandas.read_table('data/matrix/feature-type.tsv')"
   ]
  },
  {
   "cell_type": "code",
   "execution_count": 4,
   "metadata": {
    "collapsed": false,
    "deletable": true,
    "editable": true
   },
   "outputs": [
    {
     "data": {
      "text/html": [
       "<div>\n",
       "<table border=\"1\" class=\"dataframe\">\n",
       "  <thead>\n",
       "    <tr style=\"text-align: right;\">\n",
       "      <th></th>\n",
       "      <th>hetnet</th>\n",
       "      <th>compound_id</th>\n",
       "      <th>disease_id</th>\n",
       "      <th>status</th>\n",
       "      <th>primary</th>\n",
       "      <th>disease_name</th>\n",
       "      <th>compound_name</th>\n",
       "      <th>prior_prob</th>\n",
       "      <th>CduftD</th>\n",
       "      <th>CpiwP</th>\n",
       "      <th>...</th>\n",
       "      <th>CsdiCpiwPeGgaD</th>\n",
       "      <th>CsdiCpiwPpiwCduftD</th>\n",
       "      <th>CsdiCsdiC&lt;hpCduftD</th>\n",
       "      <th>CsdiCsdiC&lt;ioCduftD</th>\n",
       "      <th>CsdiCsdiCduftD</th>\n",
       "      <th>CsdiCsdiCduftD&lt;soD</th>\n",
       "      <th>CsdiCsdiCduftDso&gt;D</th>\n",
       "      <th>CsdiCsdiChp&gt;CduftD</th>\n",
       "      <th>CsdiCsdiCio&gt;CduftD</th>\n",
       "      <th>CsdiCsdiCsdiCduftD</th>\n",
       "    </tr>\n",
       "  </thead>\n",
       "  <tbody>\n",
       "    <tr>\n",
       "      <th>0</th>\n",
       "      <td>wikidata-v0.1_perm-1</td>\n",
       "      <td>Q10354103</td>\n",
       "      <td>Q1048084</td>\n",
       "      <td>1</td>\n",
       "      <td>1</td>\n",
       "      <td>opisthorchiasis</td>\n",
       "      <td>probucol</td>\n",
       "      <td>0.001998</td>\n",
       "      <td>3</td>\n",
       "      <td>1</td>\n",
       "      <td>...</td>\n",
       "      <td>0</td>\n",
       "      <td>0</td>\n",
       "      <td>0</td>\n",
       "      <td>0</td>\n",
       "      <td>0.010103</td>\n",
       "      <td>0</td>\n",
       "      <td>0</td>\n",
       "      <td>0</td>\n",
       "      <td>0</td>\n",
       "      <td>0.014973</td>\n",
       "    </tr>\n",
       "    <tr>\n",
       "      <th>1</th>\n",
       "      <td>wikidata-v0.1_perm-5</td>\n",
       "      <td>Q118551</td>\n",
       "      <td>Q1048084</td>\n",
       "      <td>1</td>\n",
       "      <td>1</td>\n",
       "      <td>opisthorchiasis</td>\n",
       "      <td>clarithromycin</td>\n",
       "      <td>0.006174</td>\n",
       "      <td>9</td>\n",
       "      <td>0</td>\n",
       "      <td>...</td>\n",
       "      <td>0</td>\n",
       "      <td>0</td>\n",
       "      <td>0</td>\n",
       "      <td>0</td>\n",
       "      <td>0.000000</td>\n",
       "      <td>0</td>\n",
       "      <td>0</td>\n",
       "      <td>0</td>\n",
       "      <td>0</td>\n",
       "      <td>0.000000</td>\n",
       "    </tr>\n",
       "  </tbody>\n",
       "</table>\n",
       "<p>2 rows × 314 columns</p>\n",
       "</div>"
      ],
      "text/plain": [
       "                 hetnet compound_id disease_id  status  primary  \\\n",
       "0  wikidata-v0.1_perm-1   Q10354103   Q1048084       1        1   \n",
       "1  wikidata-v0.1_perm-5     Q118551   Q1048084       1        1   \n",
       "\n",
       "      disease_name   compound_name  prior_prob  CduftD  CpiwP  \\\n",
       "0  opisthorchiasis        probucol    0.001998       3      1   \n",
       "1  opisthorchiasis  clarithromycin    0.006174       9      0   \n",
       "\n",
       "          ...          CsdiCpiwPeGgaD  CsdiCpiwPpiwCduftD  CsdiCsdiC<hpCduftD  \\\n",
       "0         ...                       0                   0                   0   \n",
       "1         ...                       0                   0                   0   \n",
       "\n",
       "   CsdiCsdiC<ioCduftD  CsdiCsdiCduftD  CsdiCsdiCduftD<soD  CsdiCsdiCduftDso>D  \\\n",
       "0                   0        0.010103                   0                   0   \n",
       "1                   0        0.000000                   0                   0   \n",
       "\n",
       "   CsdiCsdiChp>CduftD  CsdiCsdiCio>CduftD  CsdiCsdiCsdiCduftD  \n",
       "0                   0                   0            0.014973  \n",
       "1                   0                   0            0.000000  \n",
       "\n",
       "[2 rows x 314 columns]"
      ]
     },
     "execution_count": 4,
     "metadata": {},
     "output_type": "execute_result"
    }
   ],
   "source": [
    "feature_df.head(2)"
   ]
  },
  {
   "cell_type": "code",
   "execution_count": 5,
   "metadata": {
    "collapsed": false,
    "deletable": true,
    "editable": true
   },
   "outputs": [
    {
     "data": {
      "text/html": [
       "<div>\n",
       "<table border=\"1\" class=\"dataframe\">\n",
       "  <thead>\n",
       "    <tr style=\"text-align: right;\">\n",
       "      <th></th>\n",
       "      <th>feature</th>\n",
       "      <th>feature_type</th>\n",
       "      <th>unperm_mean</th>\n",
       "      <th>unperm_sd</th>\n",
       "    </tr>\n",
       "  </thead>\n",
       "  <tbody>\n",
       "    <tr>\n",
       "      <th>0</th>\n",
       "      <td>prior_prob</td>\n",
       "      <td>prior</td>\n",
       "      <td>0.008933</td>\n",
       "      <td>0.020257</td>\n",
       "    </tr>\n",
       "    <tr>\n",
       "      <th>1</th>\n",
       "      <td>CduftD</td>\n",
       "      <td>degree</td>\n",
       "      <td>3.366700</td>\n",
       "      <td>3.191600</td>\n",
       "    </tr>\n",
       "  </tbody>\n",
       "</table>\n",
       "</div>"
      ],
      "text/plain": [
       "      feature feature_type  unperm_mean  unperm_sd\n",
       "0  prior_prob        prior     0.008933   0.020257\n",
       "1      CduftD       degree     3.366700   3.191600"
      ]
     },
     "execution_count": 5,
     "metadata": {},
     "output_type": "execute_result"
    }
   ],
   "source": [
    "feature_type_df.head(2)"
   ]
  },
  {
   "cell_type": "code",
   "execution_count": 6,
   "metadata": {
    "collapsed": false,
    "deletable": true,
    "editable": true
   },
   "outputs": [],
   "source": [
    "def transform_dwpcs(x, scaler):\n",
    "    x = numpy.array(x)\n",
    "    return numpy.arcsinh(x / scaler)\n",
    "\n",
    "transformed_df = feature_df.copy()\n",
    "dwpc_features = feature_type_df.query(\"feature_type == 'dwpc'\").feature\n",
    "degree_features = feature_type_df.query(\"feature_type == 'degree'\").feature\n",
    "feature_to_scaler = dict(zip(feature_type_df.feature, feature_type_df.unperm_mean))\n",
    "for column in dwpc_features:\n",
    "    transformed_df[column] = transform_dwpcs(transformed_df[column], feature_to_scaler[column])"
   ]
  },
  {
   "cell_type": "code",
   "execution_count": 38,
   "metadata": {
    "collapsed": false,
    "deletable": true,
    "editable": true
   },
   "outputs": [],
   "source": [
    "column_names = list()\n",
    "columns = list()\n",
    "for metapath in dwpc_features:\n",
    "    df = pandas.pivot_table(transformed_df, values=metapath, index=['compound_id', 'disease_id'], columns='hetnet')\n",
    "    df = df[df[unperm_name].notnull()]\n",
    "    dwpc = df.iloc[:, 0]\n",
    "    pdwpc = df.iloc[:, 1:].mean(axis='columns')\n",
    "    rdwpc = dwpc - pdwpc\n",
    "    for column in dwpc, pdwpc, rdwpc:\n",
    "        columns.append(column)\n",
    "    for feature_type in 'dwpc', 'pdwpc', 'rdwpc':\n",
    "        column_names.append('{}_{}'.format(feature_type, metapath))\n",
    "\n",
    "split_df = pandas.concat(columns, levels=column_names, axis=1)\n",
    "split_df.columns = column_names\n",
    "split_df.reset_index(inplace=True)"
   ]
  },
  {
   "cell_type": "code",
   "execution_count": 39,
   "metadata": {
    "collapsed": false,
    "deletable": true,
    "editable": true
   },
   "outputs": [
    {
     "data": {
      "text/html": [
       "<div>\n",
       "<table border=\"1\" class=\"dataframe\">\n",
       "  <thead>\n",
       "    <tr style=\"text-align: right;\">\n",
       "      <th></th>\n",
       "      <th>compound_id</th>\n",
       "      <th>disease_id</th>\n",
       "      <th>dwpc_C&lt;hpC&lt;hpC&lt;hpCduftD</th>\n",
       "      <th>pdwpc_C&lt;hpC&lt;hpC&lt;hpCduftD</th>\n",
       "      <th>rdwpc_C&lt;hpC&lt;hpC&lt;hpCduftD</th>\n",
       "      <th>dwpc_C&lt;hpC&lt;hpC&lt;ioCduftD</th>\n",
       "      <th>pdwpc_C&lt;hpC&lt;hpC&lt;ioCduftD</th>\n",
       "      <th>rdwpc_C&lt;hpC&lt;hpC&lt;ioCduftD</th>\n",
       "      <th>dwpc_C&lt;hpC&lt;hpCduftD</th>\n",
       "      <th>pdwpc_C&lt;hpC&lt;hpCduftD</th>\n",
       "      <th>...</th>\n",
       "      <th>rdwpc_CsdiCsdiCduftDso&gt;D</th>\n",
       "      <th>dwpc_CsdiCsdiChp&gt;CduftD</th>\n",
       "      <th>pdwpc_CsdiCsdiChp&gt;CduftD</th>\n",
       "      <th>rdwpc_CsdiCsdiChp&gt;CduftD</th>\n",
       "      <th>dwpc_CsdiCsdiCio&gt;CduftD</th>\n",
       "      <th>pdwpc_CsdiCsdiCio&gt;CduftD</th>\n",
       "      <th>rdwpc_CsdiCsdiCio&gt;CduftD</th>\n",
       "      <th>dwpc_CsdiCsdiCsdiCduftD</th>\n",
       "      <th>pdwpc_CsdiCsdiCsdiCduftD</th>\n",
       "      <th>rdwpc_CsdiCsdiCsdiCduftD</th>\n",
       "    </tr>\n",
       "  </thead>\n",
       "  <tbody>\n",
       "    <tr>\n",
       "      <th>0</th>\n",
       "      <td>Q10354103</td>\n",
       "      <td>Q1435822</td>\n",
       "      <td>NaN</td>\n",
       "      <td>NaN</td>\n",
       "      <td>NaN</td>\n",
       "      <td>NaN</td>\n",
       "      <td>NaN</td>\n",
       "      <td>NaN</td>\n",
       "      <td>NaN</td>\n",
       "      <td>NaN</td>\n",
       "      <td>...</td>\n",
       "      <td>-1.727271</td>\n",
       "      <td>0</td>\n",
       "      <td>0</td>\n",
       "      <td>0</td>\n",
       "      <td>NaN</td>\n",
       "      <td>NaN</td>\n",
       "      <td>NaN</td>\n",
       "      <td>1.253471</td>\n",
       "      <td>2.431816</td>\n",
       "      <td>-1.178345</td>\n",
       "    </tr>\n",
       "    <tr>\n",
       "      <th>1</th>\n",
       "      <td>Q10354103</td>\n",
       "      <td>Q177190</td>\n",
       "      <td>NaN</td>\n",
       "      <td>NaN</td>\n",
       "      <td>NaN</td>\n",
       "      <td>NaN</td>\n",
       "      <td>NaN</td>\n",
       "      <td>NaN</td>\n",
       "      <td>NaN</td>\n",
       "      <td>NaN</td>\n",
       "      <td>...</td>\n",
       "      <td>-1.066166</td>\n",
       "      <td>0</td>\n",
       "      <td>0</td>\n",
       "      <td>0</td>\n",
       "      <td>NaN</td>\n",
       "      <td>NaN</td>\n",
       "      <td>NaN</td>\n",
       "      <td>0.000000</td>\n",
       "      <td>1.704287</td>\n",
       "      <td>-1.704287</td>\n",
       "    </tr>\n",
       "  </tbody>\n",
       "</table>\n",
       "<p>2 rows × 887 columns</p>\n",
       "</div>"
      ],
      "text/plain": [
       "  compound_id disease_id  dwpc_C<hpC<hpC<hpCduftD  pdwpc_C<hpC<hpC<hpCduftD  \\\n",
       "0   Q10354103   Q1435822                      NaN                       NaN   \n",
       "1   Q10354103    Q177190                      NaN                       NaN   \n",
       "\n",
       "   rdwpc_C<hpC<hpC<hpCduftD  dwpc_C<hpC<hpC<ioCduftD  \\\n",
       "0                       NaN                      NaN   \n",
       "1                       NaN                      NaN   \n",
       "\n",
       "   pdwpc_C<hpC<hpC<ioCduftD  rdwpc_C<hpC<hpC<ioCduftD  dwpc_C<hpC<hpCduftD  \\\n",
       "0                       NaN                       NaN                  NaN   \n",
       "1                       NaN                       NaN                  NaN   \n",
       "\n",
       "   pdwpc_C<hpC<hpCduftD            ...             rdwpc_CsdiCsdiCduftDso>D  \\\n",
       "0                   NaN            ...                            -1.727271   \n",
       "1                   NaN            ...                            -1.066166   \n",
       "\n",
       "   dwpc_CsdiCsdiChp>CduftD  pdwpc_CsdiCsdiChp>CduftD  \\\n",
       "0                        0                         0   \n",
       "1                        0                         0   \n",
       "\n",
       "   rdwpc_CsdiCsdiChp>CduftD  dwpc_CsdiCsdiCio>CduftD  \\\n",
       "0                         0                      NaN   \n",
       "1                         0                      NaN   \n",
       "\n",
       "   pdwpc_CsdiCsdiCio>CduftD  rdwpc_CsdiCsdiCio>CduftD  \\\n",
       "0                       NaN                       NaN   \n",
       "1                       NaN                       NaN   \n",
       "\n",
       "   dwpc_CsdiCsdiCsdiCduftD  pdwpc_CsdiCsdiCsdiCduftD  rdwpc_CsdiCsdiCsdiCduftD  \n",
       "0                 1.253471                  2.431816                 -1.178345  \n",
       "1                 0.000000                  1.704287                 -1.704287  \n",
       "\n",
       "[2 rows x 887 columns]"
      ]
     },
     "execution_count": 39,
     "metadata": {},
     "output_type": "execute_result"
    }
   ],
   "source": [
    "split_df.head(2)"
   ]
  },
  {
   "cell_type": "code",
   "execution_count": 40,
   "metadata": {
    "collapsed": false,
    "deletable": true,
    "editable": true
   },
   "outputs": [
    {
     "data": {
      "text/html": [
       "<div>\n",
       "<table border=\"1\" class=\"dataframe\">\n",
       "  <thead>\n",
       "    <tr style=\"text-align: right;\">\n",
       "      <th></th>\n",
       "      <th>compound_id</th>\n",
       "      <th>disease_id</th>\n",
       "      <th>status</th>\n",
       "      <th>disease_name</th>\n",
       "      <th>compound_name</th>\n",
       "      <th>prior_logit</th>\n",
       "      <th>degree_CduftD</th>\n",
       "      <th>degree_CpiwP</th>\n",
       "      <th>degree_CsdiC</th>\n",
       "      <th>degree_C&lt;hpC</th>\n",
       "      <th>...</th>\n",
       "      <th>rdwpc_CsdiCsdiCduftDso&gt;D</th>\n",
       "      <th>dwpc_CsdiCsdiChp&gt;CduftD</th>\n",
       "      <th>pdwpc_CsdiCsdiChp&gt;CduftD</th>\n",
       "      <th>rdwpc_CsdiCsdiChp&gt;CduftD</th>\n",
       "      <th>dwpc_CsdiCsdiCio&gt;CduftD</th>\n",
       "      <th>pdwpc_CsdiCsdiCio&gt;CduftD</th>\n",
       "      <th>rdwpc_CsdiCsdiCio&gt;CduftD</th>\n",
       "      <th>dwpc_CsdiCsdiCsdiCduftD</th>\n",
       "      <th>pdwpc_CsdiCsdiCsdiCduftD</th>\n",
       "      <th>rdwpc_CsdiCsdiCsdiCduftD</th>\n",
       "    </tr>\n",
       "  </thead>\n",
       "  <tbody>\n",
       "    <tr>\n",
       "      <th>0</th>\n",
       "      <td>Q144085</td>\n",
       "      <td>Q1048084</td>\n",
       "      <td>0</td>\n",
       "      <td>opisthorchiasis</td>\n",
       "      <td>pimozide</td>\n",
       "      <td>-5.691494</td>\n",
       "      <td>2.312438</td>\n",
       "      <td>2.644121</td>\n",
       "      <td>4.304248</td>\n",
       "      <td>0</td>\n",
       "      <td>...</td>\n",
       "      <td>0</td>\n",
       "      <td>0</td>\n",
       "      <td>0</td>\n",
       "      <td>0</td>\n",
       "      <td>NaN</td>\n",
       "      <td>NaN</td>\n",
       "      <td>NaN</td>\n",
       "      <td>0</td>\n",
       "      <td>1.786412</td>\n",
       "      <td>-1.786412</td>\n",
       "    </tr>\n",
       "    <tr>\n",
       "      <th>1</th>\n",
       "      <td>Q20817199</td>\n",
       "      <td>Q1048084</td>\n",
       "      <td>0</td>\n",
       "      <td>opisthorchiasis</td>\n",
       "      <td>Ephedra</td>\n",
       "      <td>-6.624488</td>\n",
       "      <td>1.443635</td>\n",
       "      <td>0.000000</td>\n",
       "      <td>0.000000</td>\n",
       "      <td>0</td>\n",
       "      <td>...</td>\n",
       "      <td>0</td>\n",
       "      <td>0</td>\n",
       "      <td>0</td>\n",
       "      <td>0</td>\n",
       "      <td>NaN</td>\n",
       "      <td>NaN</td>\n",
       "      <td>NaN</td>\n",
       "      <td>0</td>\n",
       "      <td>0.000000</td>\n",
       "      <td>0.000000</td>\n",
       "    </tr>\n",
       "  </tbody>\n",
       "</table>\n",
       "<p>2 rows × 902 columns</p>\n",
       "</div>"
      ],
      "text/plain": [
       "  compound_id disease_id  status     disease_name compound_name  prior_logit  \\\n",
       "0     Q144085   Q1048084       0  opisthorchiasis      pimozide    -5.691494   \n",
       "1   Q20817199   Q1048084       0  opisthorchiasis       Ephedra    -6.624488   \n",
       "\n",
       "   degree_CduftD  degree_CpiwP  degree_CsdiC  degree_C<hpC  \\\n",
       "0       2.312438      2.644121      4.304248             0   \n",
       "1       1.443635      0.000000      0.000000             0   \n",
       "\n",
       "             ...             rdwpc_CsdiCsdiCduftDso>D  \\\n",
       "0            ...                                    0   \n",
       "1            ...                                    0   \n",
       "\n",
       "   dwpc_CsdiCsdiChp>CduftD  pdwpc_CsdiCsdiChp>CduftD  \\\n",
       "0                        0                         0   \n",
       "1                        0                         0   \n",
       "\n",
       "   rdwpc_CsdiCsdiChp>CduftD  dwpc_CsdiCsdiCio>CduftD  \\\n",
       "0                         0                      NaN   \n",
       "1                         0                      NaN   \n",
       "\n",
       "   pdwpc_CsdiCsdiCio>CduftD  rdwpc_CsdiCsdiCio>CduftD  \\\n",
       "0                       NaN                       NaN   \n",
       "1                       NaN                       NaN   \n",
       "\n",
       "   dwpc_CsdiCsdiCsdiCduftD  pdwpc_CsdiCsdiCsdiCduftD  rdwpc_CsdiCsdiCsdiCduftD  \n",
       "0                        0                  1.786412                 -1.786412  \n",
       "1                        0                  0.000000                  0.000000  \n",
       "\n",
       "[2 rows x 902 columns]"
      ]
     },
     "execution_count": 40,
     "metadata": {},
     "output_type": "execute_result"
    }
   ],
   "source": [
    "base_df = feature_df.query(\"hetnet == @unperm_name\").copy()\n",
    "base_df.insert(8, 'prior_logit', logit(base_df['prior_prob']))\n",
    "for metaege in degree_features:\n",
    "    base_df['degree_{}'.format(metaege)] = numpy.arcsinh(base_df[metaege])\n",
    "base_df.drop(\n",
    "    ['hetnet', 'primary', 'prior_prob'] + list(degree_features) + list(dwpc_features),\n",
    "    axis='columns', inplace=True)\n",
    "transformed_df = base_df.merge(split_df)\n",
    "transformed_df.head(2)"
   ]
  },
  {
   "cell_type": "code",
   "execution_count": 41,
   "metadata": {
    "collapsed": false,
    "deletable": true,
    "editable": true
   },
   "outputs": [],
   "source": [
    "path = 'data/matrix/wikidata-v0.1/transformed-features.tsv.bz2'\n",
    "with bz2.open(path, 'wt') as write_file:\n",
    "    transformed_df.to_csv(write_file, sep='\\t', index=False, float_format='%.5g')"
   ]
  },
  {
   "cell_type": "markdown",
   "metadata": {
    "deletable": true,
    "editable": true
   },
   "source": [
    "### Compute performance"
   ]
  },
  {
   "cell_type": "code",
   "execution_count": 43,
   "metadata": {
    "collapsed": false,
    "deletable": true,
    "editable": true
   },
   "outputs": [
    {
     "data": {
      "text/html": [
       "<div>\n",
       "<table border=\"1\" class=\"dataframe\">\n",
       "  <thead>\n",
       "    <tr style=\"text-align: right;\">\n",
       "      <th></th>\n",
       "      <th>compound_id</th>\n",
       "      <th>disease_id</th>\n",
       "      <th>status</th>\n",
       "      <th>disease_name</th>\n",
       "      <th>compound_name</th>\n",
       "      <th>prior_logit</th>\n",
       "      <th>degree_CduftD</th>\n",
       "      <th>degree_CpiwP</th>\n",
       "      <th>degree_CsdiC</th>\n",
       "      <th>degree_C&lt;hpC</th>\n",
       "      <th>...</th>\n",
       "      <th>rdwpc_CsdiCsdiCduftD&lt;soD</th>\n",
       "      <th>dwpc_CsdiCsdiCduftDso&gt;D</th>\n",
       "      <th>pdwpc_CsdiCsdiCduftDso&gt;D</th>\n",
       "      <th>rdwpc_CsdiCsdiCduftDso&gt;D</th>\n",
       "      <th>dwpc_CsdiCsdiChp&gt;CduftD</th>\n",
       "      <th>pdwpc_CsdiCsdiChp&gt;CduftD</th>\n",
       "      <th>rdwpc_CsdiCsdiChp&gt;CduftD</th>\n",
       "      <th>dwpc_CsdiCsdiCsdiCduftD</th>\n",
       "      <th>pdwpc_CsdiCsdiCsdiCduftD</th>\n",
       "      <th>rdwpc_CsdiCsdiCsdiCduftD</th>\n",
       "    </tr>\n",
       "  </thead>\n",
       "  <tbody>\n",
       "    <tr>\n",
       "      <th>0</th>\n",
       "      <td>Q144085</td>\n",
       "      <td>Q1048084</td>\n",
       "      <td>0</td>\n",
       "      <td>opisthorchiasis</td>\n",
       "      <td>pimozide</td>\n",
       "      <td>-5.691494</td>\n",
       "      <td>2.312438</td>\n",
       "      <td>2.644121</td>\n",
       "      <td>4.304248</td>\n",
       "      <td>0</td>\n",
       "      <td>...</td>\n",
       "      <td>-0.757375</td>\n",
       "      <td>0</td>\n",
       "      <td>0</td>\n",
       "      <td>0</td>\n",
       "      <td>0</td>\n",
       "      <td>0</td>\n",
       "      <td>0</td>\n",
       "      <td>0</td>\n",
       "      <td>1.786412</td>\n",
       "      <td>-1.786412</td>\n",
       "    </tr>\n",
       "    <tr>\n",
       "      <th>1</th>\n",
       "      <td>Q20817199</td>\n",
       "      <td>Q1048084</td>\n",
       "      <td>0</td>\n",
       "      <td>opisthorchiasis</td>\n",
       "      <td>Ephedra</td>\n",
       "      <td>-6.624488</td>\n",
       "      <td>1.443635</td>\n",
       "      <td>0.000000</td>\n",
       "      <td>0.000000</td>\n",
       "      <td>0</td>\n",
       "      <td>...</td>\n",
       "      <td>0.000000</td>\n",
       "      <td>0</td>\n",
       "      <td>0</td>\n",
       "      <td>0</td>\n",
       "      <td>0</td>\n",
       "      <td>0</td>\n",
       "      <td>0</td>\n",
       "      <td>0</td>\n",
       "      <td>0.000000</td>\n",
       "      <td>0.000000</td>\n",
       "    </tr>\n",
       "  </tbody>\n",
       "</table>\n",
       "<p>2 rows × 227 columns</p>\n",
       "</div>"
      ],
      "text/plain": [
       "  compound_id disease_id  status     disease_name compound_name  prior_logit  \\\n",
       "0     Q144085   Q1048084       0  opisthorchiasis      pimozide    -5.691494   \n",
       "1   Q20817199   Q1048084       0  opisthorchiasis       Ephedra    -6.624488   \n",
       "\n",
       "   degree_CduftD  degree_CpiwP  degree_CsdiC  degree_C<hpC  \\\n",
       "0       2.312438      2.644121      4.304248             0   \n",
       "1       1.443635      0.000000      0.000000             0   \n",
       "\n",
       "             ...             rdwpc_CsdiCsdiCduftD<soD  \\\n",
       "0            ...                            -0.757375   \n",
       "1            ...                             0.000000   \n",
       "\n",
       "   dwpc_CsdiCsdiCduftDso>D  pdwpc_CsdiCsdiCduftDso>D  \\\n",
       "0                        0                         0   \n",
       "1                        0                         0   \n",
       "\n",
       "   rdwpc_CsdiCsdiCduftDso>D  dwpc_CsdiCsdiChp>CduftD  \\\n",
       "0                         0                        0   \n",
       "1                         0                        0   \n",
       "\n",
       "   pdwpc_CsdiCsdiChp>CduftD  rdwpc_CsdiCsdiChp>CduftD  \\\n",
       "0                         0                         0   \n",
       "1                         0                         0   \n",
       "\n",
       "   dwpc_CsdiCsdiCsdiCduftD  pdwpc_CsdiCsdiCsdiCduftD  rdwpc_CsdiCsdiCsdiCduftD  \n",
       "0                        0                  1.786412                 -1.786412  \n",
       "1                        0                  0.000000                  0.000000  \n",
       "\n",
       "[2 rows x 227 columns]"
      ]
     },
     "execution_count": 43,
     "metadata": {},
     "output_type": "execute_result"
    }
   ],
   "source": [
    "transformed_df = transformed_df.dropna(axis=1)\n",
    "transformed_df.head(2)"
   ]
  },
  {
   "cell_type": "code",
   "execution_count": 44,
   "metadata": {
    "collapsed": false,
    "deletable": true,
    "editable": true,
    "scrolled": true
   },
   "outputs": [
    {
     "data": {
      "text/html": [
       "<div>\n",
       "<table border=\"1\" class=\"dataframe\">\n",
       "  <thead>\n",
       "    <tr style=\"text-align: right;\">\n",
       "      <th>feature_type</th>\n",
       "      <th>metapath</th>\n",
       "      <th>dwpc_auroc</th>\n",
       "      <th>pdwpc_auroc</th>\n",
       "      <th>rdwpc_auroc</th>\n",
       "    </tr>\n",
       "  </thead>\n",
       "  <tbody>\n",
       "    <tr>\n",
       "      <th>0</th>\n",
       "      <td>C&lt;hpCduftD</td>\n",
       "      <td>0.500337</td>\n",
       "      <td>0.499958</td>\n",
       "      <td>0.500379</td>\n",
       "    </tr>\n",
       "    <tr>\n",
       "      <th>1</th>\n",
       "      <td>C&lt;hpCduftDduftCduftD</td>\n",
       "      <td>0.500295</td>\n",
       "      <td>0.500000</td>\n",
       "      <td>0.500295</td>\n",
       "    </tr>\n",
       "  </tbody>\n",
       "</table>\n",
       "</div>"
      ],
      "text/plain": [
       "feature_type              metapath  dwpc_auroc  pdwpc_auroc  rdwpc_auroc\n",
       "0                       C<hpCduftD    0.500337     0.499958     0.500379\n",
       "1             C<hpCduftDduftCduftD    0.500295     0.500000     0.500295"
      ]
     },
     "execution_count": 44,
     "metadata": {},
     "output_type": "execute_result"
    }
   ],
   "source": [
    "rows  = list()\n",
    "for column in transformed_df.columns[transformed_df.columns.str.contains('dwpc')]:\n",
    "    feature_type, metapath = column.split('_', 1)\n",
    "    auroc = sklearn.metrics.roc_auc_score(transformed_df.status, transformed_df[column])\n",
    "    rows.append([feature_type + '_auroc', metapath, auroc])\n",
    "auroc_df = pandas.DataFrame(rows, columns=['feature_type', 'metapath', 'auroc'])\n",
    "auroc_df = auroc_df.pivot_table(values='auroc', index='metapath', columns='feature_type').reset_index()\n",
    "auroc_df.head(2)"
   ]
  },
  {
   "cell_type": "code",
   "execution_count": 45,
   "metadata": {
    "collapsed": false,
    "deletable": true,
    "editable": true
   },
   "outputs": [
    {
     "data": {
      "text/html": [
       "<div>\n",
       "<table border=\"1\" class=\"dataframe\">\n",
       "  <thead>\n",
       "    <tr style=\"text-align: right;\">\n",
       "      <th>feature_type</th>\n",
       "      <th>metapath</th>\n",
       "      <th>dwpc_auroc</th>\n",
       "      <th>pdwpc_auroc</th>\n",
       "      <th>rdwpc_auroc</th>\n",
       "      <th>nonzero</th>\n",
       "      <th>pdwpc_primary_auroc</th>\n",
       "      <th>delta_auroc</th>\n",
       "      <th>pval_delta_auroc</th>\n",
       "    </tr>\n",
       "  </thead>\n",
       "  <tbody>\n",
       "    <tr>\n",
       "      <th>0</th>\n",
       "      <td>C&lt;hpCduftD</td>\n",
       "      <td>0.500337</td>\n",
       "      <td>0.499958</td>\n",
       "      <td>0.500379</td>\n",
       "      <td>0.000135</td>\n",
       "      <td>0.50000</td>\n",
       "      <td>0.000341</td>\n",
       "      <td>9.261700e-08</td>\n",
       "    </tr>\n",
       "    <tr>\n",
       "      <th>1</th>\n",
       "      <td>C&lt;hpCduftDduftCduftD</td>\n",
       "      <td>0.500295</td>\n",
       "      <td>0.500000</td>\n",
       "      <td>0.500295</td>\n",
       "      <td>0.000202</td>\n",
       "      <td>0.50002</td>\n",
       "      <td>0.000273</td>\n",
       "      <td>2.113100e-04</td>\n",
       "    </tr>\n",
       "  </tbody>\n",
       "</table>\n",
       "</div>"
      ],
      "text/plain": [
       "feature_type              metapath  dwpc_auroc  pdwpc_auroc  rdwpc_auroc  \\\n",
       "0                       C<hpCduftD    0.500337     0.499958     0.500379   \n",
       "1             C<hpCduftDduftCduftD    0.500295     0.500000     0.500295   \n",
       "\n",
       "feature_type   nonzero  pdwpc_primary_auroc  delta_auroc  pval_delta_auroc  \n",
       "0             0.000135              0.50000     0.000341      9.261700e-08  \n",
       "1             0.000202              0.50002     0.000273      2.113100e-04  "
      ]
     },
     "execution_count": 45,
     "metadata": {},
     "output_type": "execute_result"
    }
   ],
   "source": [
    "primary_auroc_df = pandas.read_table('data/feature-performance/primary-aurocs.tsv')\n",
    "primary_auroc_df = primary_auroc_df.rename(columns={'feature': 'metapath', 'auroc_permuted': 'pdwpc_primary_auroc', 'pval_auroc': 'pval_delta_auroc'})\n",
    "primary_auroc_df = primary_auroc_df[['metapath', 'nonzero', 'pdwpc_primary_auroc', 'delta_auroc', 'pval_delta_auroc']]\n",
    "auroc_df = auroc_df.merge(primary_auroc_df)\n",
    "auroc_df.head(2)"
   ]
  },
  {
   "cell_type": "code",
   "execution_count": 46,
   "metadata": {
    "collapsed": true,
    "deletable": true,
    "editable": true
   },
   "outputs": [],
   "source": [
    "auroc_df.to_csv('data/feature-performance/auroc.tsv', sep='\\t', index=False, float_format='%.5g')"
   ]
  },
  {
   "cell_type": "code",
   "execution_count": 56,
   "metadata": {
    "collapsed": false,
    "deletable": true,
    "editable": true,
    "scrolled": true
   },
   "outputs": [
    {
     "data": {
      "text/html": [
       "<div>\n",
       "<table border=\"1\" class=\"dataframe\">\n",
       "  <thead>\n",
       "    <tr style=\"text-align: right;\">\n",
       "      <th>feature_type</th>\n",
       "      <th>metapath</th>\n",
       "      <th>dwpc_auroc</th>\n",
       "      <th>pdwpc_auroc</th>\n",
       "      <th>rdwpc_auroc</th>\n",
       "      <th>nonzero</th>\n",
       "      <th>pdwpc_primary_auroc</th>\n",
       "      <th>delta_auroc</th>\n",
       "      <th>pval_delta_auroc</th>\n",
       "    </tr>\n",
       "  </thead>\n",
       "  <tbody>\n",
       "    <tr>\n",
       "      <th>41</th>\n",
       "      <td>CpiwPeGgaDso&gt;D</td>\n",
       "      <td>0.500758</td>\n",
       "      <td>0.500126</td>\n",
       "      <td>0.500632</td>\n",
       "      <td>0.000472</td>\n",
       "      <td>0.49999</td>\n",
       "      <td>0.000769</td>\n",
       "      <td>8.033300e-09</td>\n",
       "    </tr>\n",
       "    <tr>\n",
       "      <th>39</th>\n",
       "      <td>CpiwPeGgaD</td>\n",
       "      <td>0.500884</td>\n",
       "      <td>0.500253</td>\n",
       "      <td>0.500589</td>\n",
       "      <td>0.000606</td>\n",
       "      <td>0.50004</td>\n",
       "      <td>0.000844</td>\n",
       "      <td>6.544400e-05</td>\n",
       "    </tr>\n",
       "    <tr>\n",
       "      <th>40</th>\n",
       "      <td>CpiwPeGgaD&lt;soD</td>\n",
       "      <td>0.500126</td>\n",
       "      <td>0.499832</td>\n",
       "      <td>0.500295</td>\n",
       "      <td>0.000135</td>\n",
       "      <td>0.50004</td>\n",
       "      <td>0.000086</td>\n",
       "      <td>1.036200e-01</td>\n",
       "    </tr>\n",
       "    <tr>\n",
       "      <th>62</th>\n",
       "      <td>CsdiCpiwPeGgaD</td>\n",
       "      <td>0.500379</td>\n",
       "      <td>0.501769</td>\n",
       "      <td>0.498862</td>\n",
       "      <td>0.000404</td>\n",
       "      <td>0.50023</td>\n",
       "      <td>0.000147</td>\n",
       "      <td>2.709100e-01</td>\n",
       "    </tr>\n",
       "  </tbody>\n",
       "</table>\n",
       "</div>"
      ],
      "text/plain": [
       "feature_type        metapath  dwpc_auroc  pdwpc_auroc  rdwpc_auroc   nonzero  \\\n",
       "41            CpiwPeGgaDso>D    0.500758     0.500126     0.500632  0.000472   \n",
       "39                CpiwPeGgaD    0.500884     0.500253     0.500589  0.000606   \n",
       "40            CpiwPeGgaD<soD    0.500126     0.499832     0.500295  0.000135   \n",
       "62            CsdiCpiwPeGgaD    0.500379     0.501769     0.498862  0.000404   \n",
       "\n",
       "feature_type  pdwpc_primary_auroc  delta_auroc  pval_delta_auroc  \n",
       "41                        0.49999     0.000769      8.033300e-09  \n",
       "39                        0.50004     0.000844      6.544400e-05  \n",
       "40                        0.50004     0.000086      1.036200e-01  \n",
       "62                        0.50023     0.000147      2.709100e-01  "
      ]
     },
     "execution_count": 56,
     "metadata": {},
     "output_type": "execute_result"
    }
   ],
   "source": [
    "#auroc_df.sort_values('rdwpc_auroc', ascending = False)\n",
    "idx = -auroc_df.metapath.str.contains('CduftD') & ~auroc_df.metapath.str.contains('DduftC')\n",
    "auroc_df[idx].sort_values('rdwpc_auroc', ascending = False).head()"
   ]
  },
  {
   "cell_type": "markdown",
   "metadata": {
    "collapsed": true,
    "deletable": true,
    "editable": true
   },
   "source": [
    "## Visualization Sandbox"
   ]
  },
  {
   "cell_type": "code",
   "execution_count": 57,
   "metadata": {
    "collapsed": false,
    "deletable": true,
    "editable": true
   },
   "outputs": [],
   "source": [
    "%matplotlib inline\n",
    "import seaborn"
   ]
  },
  {
   "cell_type": "code",
   "execution_count": 58,
   "metadata": {
    "collapsed": false,
    "deletable": true,
    "editable": true
   },
   "outputs": [
    {
     "data": {
      "image/png": "[encoded data removed]",
      "text/plain": [
       "<matplotlib.figure.Figure at 0x7f90bc5622b0>"
      ]
     },
     "metadata": {},
     "output_type": "display_data"
    }
   ],
   "source": [
    "seaborn.jointplot(transformed_df['pdwpc_CpiwPeGgaDso>D'], transformed_df['rdwpc_CpiwPeGgaDso>D'], alpha = 0.1);"
   ]
  },
  {
   "cell_type": "code",
   "execution_count": 59,
   "metadata": {
    "collapsed": false,
    "deletable": true,
    "editable": true,
    "scrolled": false
   },
   "outputs": [
    {
     "data": {
      "image/png": "[encoded data removed]",
      "text/plain": [
       "<matplotlib.figure.Figure at 0x7f90a98a99b0>"
      ]
     },
     "metadata": {},
     "output_type": "display_data"
    }
   ],
   "source": [
    "seaborn.jointplot(transformed_df['pdwpc_CpiwPeGgaD'], transformed_df['rdwpc_CpiwPeGgaD'], alpha = 0.1);"
   ]
  },
  {
   "cell_type": "code",
   "execution_count": 60,
   "metadata": {
    "collapsed": false,
    "deletable": true,
    "editable": true
   },
   "outputs": [
    {
     "data": {
      "image/png": "[encoded data removed]",
      "text/plain": [
       "<matplotlib.figure.Figure at 0x7f90a962ab00>"
      ]
     },
     "metadata": {},
     "output_type": "display_data"
    }
   ],
   "source": [
    "seaborn.jointplot(auroc_df['dwpc_auroc'], auroc_df['pdwpc_auroc'], alpha = 0.1);"
   ]
  },
  {
   "cell_type": "code",
   "execution_count": 61,
   "metadata": {
    "collapsed": false,
    "deletable": true,
    "editable": true
   },
   "outputs": [
    {
     "data": {
      "image/png": "[encoded data removed]",
      "text/plain": [
       "<matplotlib.figure.Figure at 0x7f90a942fc18>"
      ]
     },
     "metadata": {},
     "output_type": "display_data"
    }
   ],
   "source": [
    "seaborn.jointplot(auroc_df['delta_auroc'], auroc_df['rdwpc_auroc'], alpha = 0.1);"
   ]
  },
  {
   "cell_type": "code",
   "execution_count": null,
   "metadata": {
    "collapsed": true,
    "deletable": true,
    "editable": true
   },
   "outputs": [],
   "source": []
  }
 ],
 "metadata": {
  "kernelspec": {
   "display_name": "Python 3",
   "language": "python",
   "name": "python3"
  },
  "language_info": {
   "codemirror_mode": {
    "name": "ipython",
    "version": 3
   },
   "file_extension": ".py",
   "mimetype": "text/x-python",
   "name": "python",
   "nbconvert_exporter": "python",
   "pygments_lexer": "ipython3",
   "version": "3.5.3"
  }
 },
 "nbformat": 4,
 "nbformat_minor": 0
}
