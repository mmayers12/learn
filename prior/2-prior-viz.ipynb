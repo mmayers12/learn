{
 "cells": [
  {
   "cell_type": "code",
   "execution_count": 1,
   "metadata": {
    "collapsed": true,
    "deletable": true,
    "editable": true
   },
   "outputs": [],
   "source": [
    "library(magrittr)"
   ]
  },
  {
   "cell_type": "code",
   "execution_count": 2,
   "metadata": {
    "collapsed": false,
    "deletable": true,
    "editable": true
   },
   "outputs": [
    {
     "name": "stderr",
     "output_type": "stream",
     "text": [
      "Parsed with column specification:\n",
      "cols(\n",
      "  compound_id = col_character(),\n",
      "  compound_name = col_character(),\n",
      "  disease_id = col_character(),\n",
      "  disease_name = col_character(),\n",
      "  rel_type = col_character()\n",
      ")\n"
     ]
    }
   ],
   "source": [
    "treatment_df = readr::read_tsv('../summary/indications.tsv') %>% \n",
    "  dplyr::filter(rel_type == 'TREATS_CtD') %>%\n",
    "  dplyr::select(compound_id, disease_id) %>%\n",
    "  dplyr::mutate(status = 1)"
   ]
  },
  {
   "cell_type": "code",
   "execution_count": 3,
   "metadata": {
    "collapsed": false,
    "deletable": true,
    "editable": true
   },
   "outputs": [
    {
     "name": "stderr",
     "output_type": "stream",
     "text": [
      "Parsed with column specification:\n",
      "cols(\n",
      "  compound_treats = col_integer(),\n",
      "  disease_treats = col_integer(),\n",
      "  prior_perm = col_double(),\n",
      "  prior_perm_stderr = col_double(),\n",
      "  n_treatments = col_integer(),\n",
      "  n_possible = col_integer()\n",
      ")\n"
     ]
    }
   ],
   "source": [
    "degree_prior_df = readr::read_tsv('data/degree-prior.tsv') %>%\n",
    "  dplyr::mutate(Empiric = n_treatments / n_possible, Permuted = prior_perm) %>%\n",
    "  dplyr::mutate(logit_prior_perm = boot::logit(prior_perm)) %>%\n",
    "  dplyr::mutate(prior_theoretic = compound_treats * disease_treats) %>%\n",
    "  dplyr::mutate(prior_theoretic = prior_theoretic / sum(prior_theoretic)) %>%\n",
    "  dplyr::mutate(logit_prior_theoretic = boot::logit(prior_theoretic))"
   ]
  },
  {
   "cell_type": "code",
   "execution_count": 4,
   "metadata": {
    "collapsed": false,
    "deletable": true,
    "editable": true
   },
   "outputs": [
    {
     "data": {
      "text/html": [
       "<table>\n",
       "<thead><tr><th scope=col>compound_treats</th><th scope=col>disease_treats</th><th scope=col>prior_perm</th><th scope=col>prior_perm_stderr</th><th scope=col>n_treatments</th><th scope=col>n_possible</th><th scope=col>Empiric</th><th scope=col>Permuted</th><th scope=col>logit_prior_perm</th><th scope=col>prior_theoretic</th><th scope=col>logit_prior_theoretic</th></tr></thead>\n",
       "<tbody>\n",
       "\t<tr><td>1           </td><td>1           </td><td>0.000329173 </td><td>6.89755e-08 </td><td>35          </td><td>87966       </td><td>0.0003978810</td><td>0.000329173 </td><td>-8.018598   </td><td>7.584894e-06</td><td>-11.78934   </td></tr>\n",
       "\t<tr><td>1           </td><td>2           </td><td>0.000659161 </td><td>1.55722e-07 </td><td>24          </td><td>35114       </td><td>0.0006834881</td><td>0.000659161 </td><td>-7.323883   </td><td>1.516979e-05</td><td>-11.09619   </td></tr>\n",
       "</tbody>\n",
       "</table>\n"
      ],
      "text/latex": [
       "\\begin{tabular}{r|lllllllllll}\n",
       " compound\\_treats & disease\\_treats & prior\\_perm & prior\\_perm\\_stderr & n\\_treatments & n\\_possible & Empiric & Permuted & logit\\_prior\\_perm & prior\\_theoretic & logit\\_prior\\_theoretic\\\\\n",
       "\\hline\n",
       "\t 1            & 1            & 0.000329173  & 6.89755e-08  & 35           & 87966        & 0.0003978810 & 0.000329173  & -8.018598    & 7.584894e-06 & -11.78934   \\\\\n",
       "\t 1            & 2            & 0.000659161  & 1.55722e-07  & 24           & 35114        & 0.0006834881 & 0.000659161  & -7.323883    & 1.516979e-05 & -11.09619   \\\\\n",
       "\\end{tabular}\n"
      ],
      "text/markdown": [
       "\n",
       "compound_treats | disease_treats | prior_perm | prior_perm_stderr | n_treatments | n_possible | Empiric | Permuted | logit_prior_perm | prior_theoretic | logit_prior_theoretic | \n",
       "|---|---|\n",
       "| 1            | 1            | 0.000329173  | 6.89755e-08  | 35           | 87966        | 0.0003978810 | 0.000329173  | -8.018598    | 7.584894e-06 | -11.78934    | \n",
       "| 1            | 2            | 0.000659161  | 1.55722e-07  | 24           | 35114        | 0.0006834881 | 0.000659161  | -7.323883    | 1.516979e-05 | -11.09619    | \n",
       "\n",
       "\n"
      ],
      "text/plain": [
       "  compound_treats disease_treats prior_perm  prior_perm_stderr n_treatments\n",
       "1 1               1              0.000329173 6.89755e-08       35          \n",
       "2 1               2              0.000659161 1.55722e-07       24          \n",
       "  n_possible Empiric      Permuted    logit_prior_perm prior_theoretic\n",
       "1 87966      0.0003978810 0.000329173 -8.018598        7.584894e-06   \n",
       "2 35114      0.0006834881 0.000659161 -7.323883        1.516979e-05   \n",
       "  logit_prior_theoretic\n",
       "1 -11.78934            \n",
       "2 -11.09619            "
      ]
     },
     "metadata": {},
     "output_type": "display_data"
    }
   ],
   "source": [
    "degree_prior_df %>% head(2)"
   ]
  },
  {
   "cell_type": "code",
   "execution_count": 5,
   "metadata": {
    "collapsed": false,
    "deletable": true,
    "editable": true
   },
   "outputs": [
    {
     "data": {},
     "metadata": {},
     "output_type": "display_data"
    },
    {
     "data": {
      "image/png": "[encoded data removed]",
      "text/plain": [
       "plot without title"
      ]
     },
     "metadata": {},
     "output_type": "display_data"
    }
   ],
   "source": [
    "width = 3\n",
    "height = 3\n",
    "options(repr.plot.width=width, repr.plot.height=height)\n",
    "gg_scatter = degree_prior_df %>%\n",
    "  ggplot2::ggplot(ggplot2::aes(logit_prior_theoretic, logit_prior_perm)) +\n",
    "  ggplot2::geom_point(alpha = 0.1, shape = 16) +\n",
    "  ggplot2::theme_bw() +\n",
    "  ggplot2::coord_equal() +\n",
    "  ggplot2::xlab('Logit of the Theoretic Prob') +\n",
    "  ggplot2::ylab('Logit of the Permuted Prob')\n",
    "\n",
    "gg_scatter\n",
    "ggplot2::ggsave('viz/scatter-theoretic-v-perm.png', gg_scatter, dpi = 300, width = width, height = height)"
   ]
  },
  {
   "cell_type": "code",
   "execution_count": 6,
   "metadata": {
    "collapsed": false,
    "deletable": true,
    "editable": true
   },
   "outputs": [],
   "source": [
    "#lm(logit_prior_perm ~ logit_prior_theoretic, data = degree_prior_df) %>% summary"
   ]
  },
  {
   "cell_type": "code",
   "execution_count": 7,
   "metadata": {
    "collapsed": true,
    "deletable": true,
    "editable": true
   },
   "outputs": [],
   "source": [
    "plot_tiles <- function(df, scale_name='') {\n",
    "  gg = ggplot2::ggplot(df, ggplot2::aes(x = disease_treats, y = compound_treats, fill = prior)) +\n",
    "  ggplot2::geom_tile() +\n",
    "  viridis::scale_fill_viridis(scale_name) +\n",
    "  ggplot2::theme_bw() +\n",
    "  ggplot2::coord_equal() +\n",
    "  ggplot2::theme(\n",
    "    legend.position='top',\n",
    "    legend.key.width=grid::unit(0.85, 'inches'),\n",
    "    legend.key.size=grid::unit(0.12, 'inches')\n",
    "  ) +\n",
    "  ggplot2::xlab('Disease Degree') +\n",
    "  ggplot2::ylab('Compound Degree') +\n",
    "  ggplot2::scale_x_continuous(expand=c(0, 1)) +\n",
    "  ggplot2::scale_y_continuous(expand=c(0, 1)) +\n",
    "  ggplot2::theme(plot.margin = grid::unit(c(2,2,2,2), 'points'))\n",
    "  return(gg)\n",
    "}"
   ]
  },
  {
   "cell_type": "code",
   "execution_count": 8,
   "metadata": {
    "collapsed": false,
    "deletable": true,
    "editable": true
   },
   "outputs": [
    {
     "ename": "ERROR",
     "evalue": "Error: Unsupported index type: NULL\n",
     "output_type": "error",
     "traceback": [
      "Error: Unsupported index type: NULL\nTraceback:\n",
      "1. ggplot2::ggsave(\"viz/prob-tiled-empiric-v-perm.png\", gg, dpi = 300, \n .     width = width, height = height)",
      "2. grid.draw(plot)",
      "3. grid.draw.ggplot(plot)",
      "4. print(x)",
      "5. print.ggplot(x)",
      "6. ggplot_build(x)",
      "7. layout$map(data)",
      "8. f(..., self = self)",
      "9. lapply(data, function(data) {\n .     self$facet$map(data, self$panel_layout)\n . })",
      "10. FUN(X[[i]], ...)",
      "11. self$facet$map(data, self$panel_layout)",
      "12. f(..., self = self)",
      "13. self$map_data(data, layout, self$params)",
      "14. f(...)",
      "15. reshape2::add_margins(data, margin_vars, params$margins)",
      "16. lapply(df[vars], addAll)",
      "17. df[vars]",
      "18. `[.tbl_df`(df, vars)",
      "19. check_names_df(i, x)",
      "20. check_names_df.default(i, x)",
      "21. stopc(\"Unsupported index type: \", class(j)[[1L]])",
      "22. stop(..., call. = FALSE, domain = NA)"
     ]
    }
   ],
   "source": [
    "width = 6\n",
    "height = 4.5\n",
    "options(repr.plot.width=width, repr.plot.height=height)\n",
    "\n",
    "gg = degree_prior_df %>%\n",
    "  tidyr::gather(kind, prior, Permuted, Empiric) %>% \n",
    "  plot_tiles('Prob') +\n",
    "  ggplot2::facet_grid(kind ~ ., 'Probability') +\n",
    "  ggplot2::theme(strip.background=ggplot2::element_rect(fill='#FEF2E2'))\n",
    "\n",
    "ggplot2::ggsave('viz/prob-tiled-empiric-v-perm.png', gg, dpi = 300, width = width, height = height)"
   ]
  },
  {
   "cell_type": "code",
   "execution_count": 9,
   "metadata": {
    "collapsed": false,
    "deletable": true,
    "editable": true
   },
   "outputs": [],
   "source": [
    "gg = degree_prior_df %>%\n",
    "  tidyr::gather(kind, prior, Permuted, Empiric) %>% \n",
    "  dplyr::mutate(prior = log(0.01 + prior)) %>%\n",
    "  plot_tiles('log(0.01 + Prob)') +\n",
    "  ggplot2::facet_grid(kind ~ .) +\n",
    "  ggplot2::theme(strip.background=ggplot2::element_rect(fill='#FEF2E2'))\n",
    "\n",
    "ggplot2::ggsave('viz/log-prob-tiled-empiric-v-perm.png', gg, dpi = 300, width = width, height = height)"
   ]
  },
  {
   "cell_type": "code",
   "execution_count": null,
   "metadata": {
    "collapsed": false,
    "deletable": true,
    "editable": true
   },
   "outputs": [],
   "source": [
    "# obs_prior_df = obs_prior_df %>% \n",
    "#   dplyr::left_join(treatment_df)"
   ]
  },
  {
   "cell_type": "code",
   "execution_count": 10,
   "metadata": {
    "collapsed": false,
    "deletable": true,
    "editable": true
   },
   "outputs": [
    {
     "data": {
      "image/png": "[encoded data removed]",
      "text/plain": [
       "plot without title"
      ]
     },
     "metadata": {},
     "output_type": "display_data"
    }
   ],
   "source": [
    "width = 6\n",
    "height = 2.75\n",
    "options(repr.plot.width=width, repr.plot.height=height)\n",
    "\n",
    "gg_tile_logit = degree_prior_df %>% \n",
    "  dplyr::mutate(prior = boot::logit(prior_perm)) %>%\n",
    "  plot_tiles('logit(Prob)')\n",
    "\n",
    "ggplot2::ggsave('viz/logit-perm-prior-tiled.png', gg_tile_logit, dpi = 300, width = width, height = height)\n",
    "plot(gg_tile_logit)"
   ]
  },
  {
   "cell_type": "code",
   "execution_count": 11,
   "metadata": {
    "collapsed": false,
    "deletable": true,
    "editable": true,
    "scrolled": true
   },
   "outputs": [
    {
     "data": {
      "image/png": "[encoded data removed]",
      "text/plain": [
       "plot without title"
      ]
     },
     "metadata": {},
     "output_type": "display_data"
    }
   ],
   "source": [
    "width = 6\n",
    "height = 2.75\n",
    "options(repr.plot.width=width, repr.plot.height=height)\n",
    "\n",
    "gg_tile_prob = degree_prior_df %>%\n",
    "  dplyr::mutate(prior = prior_perm) %>%\n",
    "  plot_tiles('Prob')\n",
    "\n",
    "ggplot2::ggsave('viz/perm-prior-tiled.png', gg_tile_prob, dpi = 300, width = width, height = height)\n",
    "plot(gg_tile_prob)"
   ]
  },
  {
   "cell_type": "code",
   "execution_count": 12,
   "metadata": {
    "collapsed": false,
    "deletable": true,
    "editable": true
   },
   "outputs": [
    {
     "name": "stderr",
     "output_type": "stream",
     "text": [
      "Parsed with column specification:\n",
      "cols(\n",
      "  compound_id = col_character(),\n",
      "  disease_id = col_character(),\n",
      "  compound_treats = col_integer(),\n",
      "  disease_treats = col_integer(),\n",
      "  prior_perm = col_double(),\n",
      "  prior_perm_stderr = col_double()\n",
      ")\n"
     ]
    }
   ],
   "source": [
    "obs_prior_df = readr::read_tsv('data/observation-prior.tsv')"
   ]
  },
  {
   "cell_type": "code",
   "execution_count": 13,
   "metadata": {
    "collapsed": false,
    "deletable": true,
    "editable": true
   },
   "outputs": [],
   "source": [
    "width = 6\n",
    "height = 2.5\n",
    "gg_hist = obs_prior_df %>%\n",
    "  #dplyr::mutate(prior = prior_perm) %>%\n",
    "  dplyr::mutate(logit_prior_perm = boot::logit(prior_perm)) %>%\n",
    "  tidyr::gather(kind, prior, prior_perm, logit_prior_perm) %>%\n",
    "  ggplot2::ggplot(ggplot2::aes(x = prior)) +\n",
    "  ggplot2::geom_histogram(bins=100) +\n",
    "  ggplot2::facet_wrap( ~ kind, scales='free') +\n",
    "  ggplot2::theme_bw() +\n",
    "  ggplot2::theme(strip.background=ggplot2::element_rect(fill='#FEF2E2')) +\n",
    "  ggplot2::theme(plot.margin=grid::unit(c(2, 2, 2, 2), 'points')) +\n",
    "  ggplot2::xlab('Compound–Disease Prior') +\n",
    "  ggplot2::ylab('Count')\n",
    "ggplot2::ggsave('viz/prob-histograms.png', gg_hist, dpi = 300, width = width, height = height)"
   ]
  },
  {
   "cell_type": "code",
   "execution_count": null,
   "metadata": {
    "collapsed": false,
    "deletable": true,
    "editable": true
   },
   "outputs": [],
   "source": [
    "# gg = gridExtra::arrangeGrob(gg_hist, gg_tile_prob, gg_tile_logit, ncol=1)\n",
    "# ggplot2::ggsave('viz/combined.png', gg, dpi = 300, width = width, height = 8, device = cairo_pdf)"
   ]
  }
 ],
 "metadata": {
  "kernelspec": {
   "display_name": "R",
   "language": "R",
   "name": "ir"
  },
  "language_info": {
   "codemirror_mode": "r",
   "file_extension": ".r",
   "mimetype": "text/x-r-source",
   "name": "R",
   "pygments_lexer": "r",
   "version": "3.3.2"
  }
 },
 "nbformat": 4,
 "nbformat_minor": 0
}
