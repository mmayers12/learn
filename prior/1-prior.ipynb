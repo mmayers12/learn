{
 "cells": [
  {
   "cell_type": "markdown",
   "metadata": {},
   "source": [
    "# Compute the prior probability of treatment using permutation "
   ]
  },
  {
   "cell_type": "code",
   "execution_count": 17,
   "metadata": {
    "collapsed": true
   },
   "outputs": [],
   "source": [
    "import itertools\n",
    "import statistics\n",
    "from tqdm import tqdm\n",
    "\n",
    "import pandas\n",
    "\n",
    "from hetio.permute import permute_pair_list"
   ]
  },
  {
   "cell_type": "code",
   "execution_count": 10,
   "metadata": {
    "collapsed": false
   },
   "outputs": [
    {
     "data": {
      "text/html": [
       "<div>\n",
       "<table border=\"1\" class=\"dataframe\">\n",
       "  <thead>\n",
       "    <tr style=\"text-align: right;\">\n",
       "      <th></th>\n",
       "      <th>compound_id</th>\n",
       "      <th>compound_name</th>\n",
       "      <th>disease_id</th>\n",
       "      <th>disease_name</th>\n",
       "      <th>rel_type</th>\n",
       "    </tr>\n",
       "  </thead>\n",
       "  <tbody>\n",
       "    <tr>\n",
       "      <th>0</th>\n",
       "      <td>Q413147</td>\n",
       "      <td>(+)-phenylpropanolamine</td>\n",
       "      <td>Q12125</td>\n",
       "      <td>Common cold</td>\n",
       "      <td>drug-used-for-treatment_DduftC</td>\n",
       "    </tr>\n",
       "    <tr>\n",
       "      <th>1</th>\n",
       "      <td>Q413147</td>\n",
       "      <td>(+)-phenylpropanolamine</td>\n",
       "      <td>Q12174</td>\n",
       "      <td>Obesity</td>\n",
       "      <td>drug-used-for-treatment_DduftC</td>\n",
       "    </tr>\n",
       "  </tbody>\n",
       "</table>\n",
       "</div>"
      ],
      "text/plain": [
       "  compound_id            compound_name disease_id disease_name  \\\n",
       "0     Q413147  (+)-phenylpropanolamine     Q12125  Common cold   \n",
       "1     Q413147  (+)-phenylpropanolamine     Q12174      Obesity   \n",
       "\n",
       "                         rel_type  \n",
       "0  drug-used-for-treatment_DduftC  \n",
       "1  drug-used-for-treatment_DduftC  "
      ]
     },
     "execution_count": 10,
     "metadata": {},
     "output_type": "execute_result"
    }
   ],
   "source": [
    "# Read treatments\n",
    "treatment_df = pandas.read_table('../summary/indications.tsv')\n",
    "treatment_df = treatment_df.query(\"rel_type == 'drug-used-for-treatment_DduftC'\")\n",
    "treatment_df.head(2)"
   ]
  },
  {
   "cell_type": "code",
   "execution_count": 11,
   "metadata": {
    "collapsed": false
   },
   "outputs": [],
   "source": [
    "# Create node to degree dictionaries\n",
    "compound_to_degree = dict(treatment_df.compound_id.value_counts())\n",
    "disease_to_degree = dict(treatment_df.disease_id.value_counts())"
   ]
  },
  {
   "cell_type": "code",
   "execution_count": 12,
   "metadata": {
    "collapsed": false
   },
   "outputs": [],
   "source": [
    "# A degree (compound_degree, disease_degree) to all potential edges with that degree\n",
    "degree_to_edges = dict()\n",
    "\n",
    "rows = list()\n",
    "for (c, c_deg), (d, d_deg) in itertools.product(compound_to_degree.items(), disease_to_degree.items()):\n",
    "    rows.append((c, d, c_deg, d_deg))\n",
    "    degree = c_deg, d_deg\n",
    "    edge = c, d\n",
    "    degree_to_edges.setdefault(degree, set()).add(edge)\n",
    "\n",
    "pair_df = pandas.DataFrame(rows, columns=['compound_id', 'disease_id', 'compound_treats', 'disease_treats'])\n",
    "pair_df = pair_df.sort_values(['compound_id', 'disease_id'])"
   ]
  },
  {
   "cell_type": "code",
   "execution_count": 13,
   "metadata": {
    "collapsed": true
   },
   "outputs": [],
   "source": [
    "treatments = list(zip(treatment_df.compound_id, treatment_df.disease_id))"
   ]
  },
  {
   "cell_type": "code",
   "execution_count": 14,
   "metadata": {
    "collapsed": false
   },
   "outputs": [
    {
     "data": {
      "text/html": [
       "<div>\n",
       "<table border=\"1\" class=\"dataframe\">\n",
       "  <thead>\n",
       "    <tr style=\"text-align: right;\">\n",
       "      <th></th>\n",
       "      <th>attempts</th>\n",
       "      <th>complete</th>\n",
       "      <th>cumulative_attempts</th>\n",
       "      <th>duplicate</th>\n",
       "      <th>excluded</th>\n",
       "      <th>same_edge</th>\n",
       "      <th>self_loop</th>\n",
       "      <th>unchanged</th>\n",
       "      <th>undirected_duplicate</th>\n",
       "    </tr>\n",
       "  </thead>\n",
       "  <tbody>\n",
       "    <tr>\n",
       "      <th>0</th>\n",
       "      <td>2970</td>\n",
       "      <td>0.100034</td>\n",
       "      <td>2969</td>\n",
       "      <td>0.043771</td>\n",
       "      <td>0</td>\n",
       "      <td>0.001010</td>\n",
       "      <td>0</td>\n",
       "      <td>0.160997</td>\n",
       "      <td>0</td>\n",
       "    </tr>\n",
       "    <tr>\n",
       "      <th>1</th>\n",
       "      <td>2969</td>\n",
       "      <td>0.200034</td>\n",
       "      <td>5938</td>\n",
       "      <td>0.054564</td>\n",
       "      <td>0</td>\n",
       "      <td>0.000337</td>\n",
       "      <td>0</td>\n",
       "      <td>0.048501</td>\n",
       "      <td>0</td>\n",
       "    </tr>\n",
       "    <tr>\n",
       "      <th>2</th>\n",
       "      <td>2969</td>\n",
       "      <td>0.300034</td>\n",
       "      <td>8907</td>\n",
       "      <td>0.044123</td>\n",
       "      <td>0</td>\n",
       "      <td>0.000674</td>\n",
       "      <td>0</td>\n",
       "      <td>0.031660</td>\n",
       "      <td>0</td>\n",
       "    </tr>\n",
       "    <tr>\n",
       "      <th>3</th>\n",
       "      <td>2969</td>\n",
       "      <td>0.400034</td>\n",
       "      <td>11876</td>\n",
       "      <td>0.047828</td>\n",
       "      <td>0</td>\n",
       "      <td>0.000337</td>\n",
       "      <td>0</td>\n",
       "      <td>0.023914</td>\n",
       "      <td>0</td>\n",
       "    </tr>\n",
       "    <tr>\n",
       "      <th>4</th>\n",
       "      <td>2969</td>\n",
       "      <td>0.500034</td>\n",
       "      <td>14845</td>\n",
       "      <td>0.047491</td>\n",
       "      <td>0</td>\n",
       "      <td>0.000000</td>\n",
       "      <td>0</td>\n",
       "      <td>0.027282</td>\n",
       "      <td>0</td>\n",
       "    </tr>\n",
       "    <tr>\n",
       "      <th>5</th>\n",
       "      <td>2969</td>\n",
       "      <td>0.600034</td>\n",
       "      <td>17814</td>\n",
       "      <td>0.048164</td>\n",
       "      <td>0</td>\n",
       "      <td>0.000337</td>\n",
       "      <td>0</td>\n",
       "      <td>0.024251</td>\n",
       "      <td>0</td>\n",
       "    </tr>\n",
       "    <tr>\n",
       "      <th>6</th>\n",
       "      <td>2969</td>\n",
       "      <td>0.700034</td>\n",
       "      <td>20783</td>\n",
       "      <td>0.045133</td>\n",
       "      <td>0</td>\n",
       "      <td>0.000000</td>\n",
       "      <td>0</td>\n",
       "      <td>0.032334</td>\n",
       "      <td>0</td>\n",
       "    </tr>\n",
       "    <tr>\n",
       "      <th>7</th>\n",
       "      <td>2969</td>\n",
       "      <td>0.800034</td>\n",
       "      <td>23752</td>\n",
       "      <td>0.046143</td>\n",
       "      <td>0</td>\n",
       "      <td>0.000337</td>\n",
       "      <td>0</td>\n",
       "      <td>0.026945</td>\n",
       "      <td>0</td>\n",
       "    </tr>\n",
       "    <tr>\n",
       "      <th>8</th>\n",
       "      <td>2969</td>\n",
       "      <td>0.900034</td>\n",
       "      <td>26721</td>\n",
       "      <td>0.051869</td>\n",
       "      <td>0</td>\n",
       "      <td>0.000674</td>\n",
       "      <td>0</td>\n",
       "      <td>0.032671</td>\n",
       "      <td>0</td>\n",
       "    </tr>\n",
       "    <tr>\n",
       "      <th>9</th>\n",
       "      <td>2968</td>\n",
       "      <td>1.000000</td>\n",
       "      <td>29689</td>\n",
       "      <td>0.050539</td>\n",
       "      <td>0</td>\n",
       "      <td>0.001011</td>\n",
       "      <td>0</td>\n",
       "      <td>0.028292</td>\n",
       "      <td>0</td>\n",
       "    </tr>\n",
       "  </tbody>\n",
       "</table>\n",
       "</div>"
      ],
      "text/plain": [
       "   attempts  complete  cumulative_attempts  duplicate  excluded  same_edge  \\\n",
       "0      2970  0.100034                 2969   0.043771         0   0.001010   \n",
       "1      2969  0.200034                 5938   0.054564         0   0.000337   \n",
       "2      2969  0.300034                 8907   0.044123         0   0.000674   \n",
       "3      2969  0.400034                11876   0.047828         0   0.000337   \n",
       "4      2969  0.500034                14845   0.047491         0   0.000000   \n",
       "5      2969  0.600034                17814   0.048164         0   0.000337   \n",
       "6      2969  0.700034                20783   0.045133         0   0.000000   \n",
       "7      2969  0.800034                23752   0.046143         0   0.000337   \n",
       "8      2969  0.900034                26721   0.051869         0   0.000674   \n",
       "9      2968  1.000000                29689   0.050539         0   0.001011   \n",
       "\n",
       "   self_loop  unchanged  undirected_duplicate  \n",
       "0          0   0.160997                     0  \n",
       "1          0   0.048501                     0  \n",
       "2          0   0.031660                     0  \n",
       "3          0   0.023914                     0  \n",
       "4          0   0.027282                     0  \n",
       "5          0   0.024251                     0  \n",
       "6          0   0.032334                     0  \n",
       "7          0   0.026945                     0  \n",
       "8          0   0.032671                     0  \n",
       "9          0   0.028292                     0  "
      ]
     },
     "execution_count": 14,
     "metadata": {},
     "output_type": "execute_result"
    }
   ],
   "source": [
    "# Burn In\n",
    "pair_list, stats = permute_pair_list(treatments, multiplier=10)\n",
    "pandas.DataFrame(stats)"
   ]
  },
  {
   "cell_type": "code",
   "execution_count": 15,
   "metadata": {
    "collapsed": true
   },
   "outputs": [],
   "source": [
    "# Set the multiplier based on the burn in stats\n",
    "multiplier = 3"
   ]
  },
  {
   "cell_type": "code",
   "execution_count": 19,
   "metadata": {
    "collapsed": false
   },
   "outputs": [
    {
     "data": {
      "text/plain": [
       "637894"
      ]
     },
     "execution_count": 19,
     "metadata": {},
     "output_type": "execute_result"
    }
   ],
   "source": [
    "# Calculate the number of perms\n",
    "n_perm = treatment_df.compound_id.nunique() * treatment_df.disease_id.nunique()\n",
    "#n_perm = int(n_perm * 25)\n",
    "n_perm"
   ]
  },
  {
   "cell_type": "code",
   "execution_count": 20,
   "metadata": {
    "collapsed": false
   },
   "outputs": [
    {
     "name": "stderr",
     "output_type": "stream",
     "text": [
      "\n",
      "  0%|          | 9368/15947350 [13:06<371:53:47, 11.90it/s]\n",
      "100%|██████████| 637894/637894 [15:05:18<00:00, 11.29it/s]"
     ]
    },
    {
     "name": "stdout",
     "output_type": "stream",
     "text": [
      "CPU times: user 15h 3min 23s, sys: 1min 26s, total: 15h 4min 49s\n",
      "Wall time: 15h 5min 18s\n"
     ]
    },
    {
     "name": "stderr",
     "output_type": "stream",
     "text": [
      "\n"
     ]
    }
   ],
   "source": [
    "%%time\n",
    "\n",
    "# Initialize a dictionary of degree to empirical probability list\n",
    "degree_to_probs = {x: list() for x in degree_to_edges}\n",
    "\n",
    "# Perform n_perm permutations\n",
    "for i in tqdm(range(n_perm)):\n",
    "    # Permute\n",
    "    pair_list, stats = permute_pair_list(pair_list, multiplier=multiplier, seed=i)\n",
    "    \n",
    "    # Update\n",
    "    pair_set = set(pair_list)\n",
    "    for degree, probs in degree_to_probs.items():\n",
    "        edges = degree_to_edges[degree]\n",
    "        probs.append(len(edges & pair_set) / len(edges))"
   ]
  },
  {
   "cell_type": "code",
   "execution_count": 25,
   "metadata": {
    "collapsed": false
   },
   "outputs": [
    {
     "name": "stdout",
     "output_type": "stream",
     "text": [
      "CPU times: user 59min 23s, sys: 15.7 s, total: 59min 39s\n",
      "Wall time: 59min 39s\n"
     ]
    }
   ],
   "source": [
    "%%time\n",
    "rows = list()\n",
    "for (c_deg, d_deg), probs in degree_to_probs.items():\n",
    "    mean = statistics.mean(probs)\n",
    "    std_error = statistics.stdev(probs) / len(probs) ** 0.5\n",
    "    rows.append((c_deg, d_deg, mean, std_error))\n",
    "perm_df = pandas.DataFrame(rows, columns=['compound_treats', 'disease_treats', 'prior_perm', 'prior_perm_stderr'])\n",
    "perm_df = perm_df.sort_values(['compound_treats', 'disease_treats'])"
   ]
  },
  {
   "cell_type": "code",
   "execution_count": 26,
   "metadata": {
    "collapsed": false
   },
   "outputs": [],
   "source": [
    "# Add unpermuted treatment prevalence columns\n",
    "rows = list()\n",
    "treatment_set = set(treatments)\n",
    "for (c_deg, d_deg), edges in degree_to_edges.items():\n",
    "    n_treatments = len(edges & treatment_set)\n",
    "    rows.append((c_deg, d_deg, n_treatments, len(edges)))\n",
    "degree_prior_df = pandas.DataFrame(rows, columns=['compound_treats', 'disease_treats', 'n_treatments', 'n_possible'])\n",
    "degree_prior_df = perm_df.merge(degree_prior_df)\n",
    "degree_prior_df = degree_prior_df.sort_values(['compound_treats', 'disease_treats'])"
   ]
  },
  {
   "cell_type": "code",
   "execution_count": 27,
   "metadata": {
    "collapsed": false
   },
   "outputs": [
    {
     "data": {
      "text/html": [
       "<div>\n",
       "<table border=\"1\" class=\"dataframe\">\n",
       "  <thead>\n",
       "    <tr style=\"text-align: right;\">\n",
       "      <th></th>\n",
       "      <th>compound_treats</th>\n",
       "      <th>disease_treats</th>\n",
       "      <th>prior_perm</th>\n",
       "      <th>prior_perm_stderr</th>\n",
       "      <th>n_treatments</th>\n",
       "      <th>n_possible</th>\n",
       "    </tr>\n",
       "  </thead>\n",
       "  <tbody>\n",
       "    <tr>\n",
       "      <th>406</th>\n",
       "      <td>19</td>\n",
       "      <td>51</td>\n",
       "      <td>0.733662</td>\n",
       "      <td>0.000512</td>\n",
       "      <td>0</td>\n",
       "      <td>1</td>\n",
       "    </tr>\n",
       "    <tr>\n",
       "      <th>407</th>\n",
       "      <td>19</td>\n",
       "      <td>68</td>\n",
       "      <td>0.795997</td>\n",
       "      <td>0.000467</td>\n",
       "      <td>1</td>\n",
       "      <td>1</td>\n",
       "    </tr>\n",
       "  </tbody>\n",
       "</table>\n",
       "</div>"
      ],
      "text/plain": [
       "     compound_treats  disease_treats  prior_perm  prior_perm_stderr  \\\n",
       "406               19              51    0.733662           0.000512   \n",
       "407               19              68    0.795997           0.000467   \n",
       "\n",
       "     n_treatments  n_possible  \n",
       "406             0           1  \n",
       "407             1           1  "
      ]
     },
     "execution_count": 27,
     "metadata": {},
     "output_type": "execute_result"
    }
   ],
   "source": [
    "degree_prior_df.tail(2)"
   ]
  },
  {
   "cell_type": "code",
   "execution_count": 28,
   "metadata": {
    "collapsed": true
   },
   "outputs": [],
   "source": [
    "degree_prior_df.to_csv('data/degree-prior.tsv', sep='\\t', index=False, float_format='%.6g')"
   ]
  },
  {
   "cell_type": "code",
   "execution_count": 29,
   "metadata": {
    "collapsed": false
   },
   "outputs": [],
   "source": [
    "obs_prior_df = pair_df.merge(perm_df)"
   ]
  },
  {
   "cell_type": "code",
   "execution_count": 30,
   "metadata": {
    "collapsed": false
   },
   "outputs": [
    {
     "data": {
      "text/html": [
       "<div>\n",
       "<table border=\"1\" class=\"dataframe\">\n",
       "  <thead>\n",
       "    <tr style=\"text-align: right;\">\n",
       "      <th></th>\n",
       "      <th>compound_id</th>\n",
       "      <th>disease_id</th>\n",
       "      <th>compound_treats</th>\n",
       "      <th>disease_treats</th>\n",
       "      <th>prior_perm</th>\n",
       "      <th>prior_perm_stderr</th>\n",
       "    </tr>\n",
       "  </thead>\n",
       "  <tbody>\n",
       "    <tr>\n",
       "      <th>0</th>\n",
       "      <td>DB00014</td>\n",
       "      <td>DOID:0050741</td>\n",
       "      <td>2</td>\n",
       "      <td>4</td>\n",
       "      <td>0.009801</td>\n",
       "      <td>0.000005</td>\n",
       "    </tr>\n",
       "    <tr>\n",
       "      <th>1</th>\n",
       "      <td>DB00014</td>\n",
       "      <td>DOID:10652</td>\n",
       "      <td>2</td>\n",
       "      <td>4</td>\n",
       "      <td>0.009801</td>\n",
       "      <td>0.000005</td>\n",
       "    </tr>\n",
       "  </tbody>\n",
       "</table>\n",
       "</div>"
      ],
      "text/plain": [
       "  compound_id    disease_id  compound_treats  disease_treats  prior_perm  \\\n",
       "0     DB00014  DOID:0050741                2               4    0.009801   \n",
       "1     DB00014    DOID:10652                2               4    0.009801   \n",
       "\n",
       "   prior_perm_stderr  \n",
       "0           0.000005  \n",
       "1           0.000005  "
      ]
     },
     "execution_count": 30,
     "metadata": {},
     "output_type": "execute_result"
    }
   ],
   "source": [
    "obs_prior_df.head(2)"
   ]
  },
  {
   "cell_type": "code",
   "execution_count": 31,
   "metadata": {
    "collapsed": false
   },
   "outputs": [
    {
     "data": {
      "text/plain": [
       "29799"
      ]
     },
     "execution_count": 31,
     "metadata": {},
     "output_type": "execute_result"
    }
   ],
   "source": [
    "len(obs_prior_df)"
   ]
  },
  {
   "cell_type": "code",
   "execution_count": 32,
   "metadata": {
    "collapsed": true
   },
   "outputs": [],
   "source": [
    "obs_prior_df.to_csv('data/observation-prior.tsv', sep='\\t', index=False, float_format='%.6g')"
   ]
  }
 ],
 "metadata": {
  "kernelspec": {
   "display_name": "Python 3",
   "language": "python",
   "name": "python3"
  },
  "language_info": {
   "codemirror_mode": {
    "name": "ipython",
    "version": 3
   },
   "file_extension": ".py",
   "mimetype": "text/x-python",
   "name": "python",
   "nbconvert_exporter": "python",
   "pygments_lexer": "ipython3",
   "version": "3.5.1"
  }
 },
 "nbformat": 4,
 "nbformat_minor": 0
}
