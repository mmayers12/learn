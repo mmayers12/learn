{
 "cells": [
  {
   "cell_type": "markdown",
   "metadata": {
    "deletable": true,
    "editable": true
   },
   "source": [
    "# Prepare the selected metapaths for feature computation for all compound-disease pairs"
   ]
  },
  {
   "cell_type": "code",
   "execution_count": 1,
   "metadata": {
    "collapsed": false,
    "deletable": true,
    "editable": true
   },
   "outputs": [],
   "source": [
    "import json\n",
    "import itertools\n",
    "import bz2\n",
    "import configparser\n",
    "\n",
    "import pandas\n",
    "from statsmodels.sandbox.stats.multicomp import multipletests"
   ]
  },
  {
   "cell_type": "markdown",
   "metadata": {
    "deletable": true,
    "editable": true
   },
   "source": [
    "## Read node info"
   ]
  },
  {
   "cell_type": "code",
   "execution_count": 2,
   "metadata": {
    "collapsed": false,
    "deletable": true,
    "editable": true
   },
   "outputs": [
    {
     "data": {
      "text/plain": [
       "(4374, 8264)"
      ]
     },
     "execution_count": 2,
     "metadata": {},
     "output_type": "execute_result"
    }
   ],
   "source": [
    "# Read compound and disease degrees\n",
    "compound_df = pandas.read_table('../summary/compounds.tsv')\n",
    "disease_df = pandas.read_table('../summary/diseases.tsv')\n",
    "len(compound_df), len(disease_df)"
   ]
  },
  {
   "cell_type": "code",
   "execution_count": 3,
   "metadata": {
    "collapsed": false,
    "deletable": true,
    "editable": true
   },
   "outputs": [
    {
     "data": {
      "text/html": [
       "<div>\n",
       "<table border=\"1\" class=\"dataframe\">\n",
       "  <thead>\n",
       "    <tr style=\"text-align: right;\">\n",
       "      <th></th>\n",
       "      <th>compound_id</th>\n",
       "      <th>disease_id</th>\n",
       "      <th>category</th>\n",
       "    </tr>\n",
       "  </thead>\n",
       "  <tbody>\n",
       "    <tr>\n",
       "      <th>0</th>\n",
       "      <td>Q413147</td>\n",
       "      <td>Q12125</td>\n",
       "      <td>DM</td>\n",
       "    </tr>\n",
       "    <tr>\n",
       "      <th>1</th>\n",
       "      <td>Q413147</td>\n",
       "      <td>Q12174</td>\n",
       "      <td>DM</td>\n",
       "    </tr>\n",
       "  </tbody>\n",
       "</table>\n",
       "</div>"
      ],
      "text/plain": [
       "  compound_id disease_id category\n",
       "0     Q413147     Q12125       DM\n",
       "1     Q413147     Q12174       DM"
      ]
     },
     "execution_count": 3,
     "metadata": {},
     "output_type": "execute_result"
    }
   ],
   "source": [
    "indication_df = pandas.read_table('../summary/indications.tsv')\n",
    "indication_df['category'] = 'DM'\n",
    "indication_df = indication_df[['compound_id', 'disease_id', 'category']]\n",
    "indication_df.head(2)"
   ]
  },
  {
   "cell_type": "code",
   "execution_count": 7,
   "metadata": {
    "collapsed": false,
    "deletable": true,
    "editable": true
   },
   "outputs": [
    {
     "data": {
      "text/html": [
       "<div>\n",
       "<table border=\"1\" class=\"dataframe\">\n",
       "  <thead>\n",
       "    <tr style=\"text-align: right;\">\n",
       "      <th></th>\n",
       "      <th>hetnet</th>\n",
       "      <th>compound_id</th>\n",
       "      <th>disease_id</th>\n",
       "    </tr>\n",
       "  </thead>\n",
       "  <tbody>\n",
       "    <tr>\n",
       "      <th>0</th>\n",
       "      <td>wikidata-v0.1</td>\n",
       "      <td>Q1002165</td>\n",
       "      <td>Q1004647</td>\n",
       "    </tr>\n",
       "    <tr>\n",
       "      <th>1</th>\n",
       "      <td>wikidata-v0.1</td>\n",
       "      <td>Q10354103</td>\n",
       "      <td>Q1004647</td>\n",
       "    </tr>\n",
       "  </tbody>\n",
       "</table>\n",
       "</div>"
      ],
      "text/plain": [
       "          hetnet compound_id disease_id\n",
       "0  wikidata-v0.1    Q1002165   Q1004647\n",
       "1  wikidata-v0.1   Q10354103   Q1004647"
      ]
     },
     "execution_count": 7,
     "metadata": {},
     "output_type": "execute_result"
    }
   ],
   "source": [
    "reach_df = pandas.read_csv('../all-features/data/reach.csv', index_col=0).reset_index(drop=True)\n",
    "reach_df.head(2)"
   ]
  },
  {
   "cell_type": "code",
   "execution_count": 4,
   "metadata": {
    "collapsed": false,
    "deletable": true,
    "editable": true
   },
   "outputs": [
    {
     "data": {
      "text/html": [
       "<div>\n",
       "<table border=\"1\" class=\"dataframe\">\n",
       "  <thead>\n",
       "    <tr style=\"text-align: right;\">\n",
       "      <th></th>\n",
       "      <th>compound_id</th>\n",
       "      <th>compound_name</th>\n",
       "      <th>disease_id</th>\n",
       "      <th>disease_name</th>\n",
       "      <th>category</th>\n",
       "      <th>status</th>\n",
       "    </tr>\n",
       "  </thead>\n",
       "  <tbody>\n",
       "    <tr>\n",
       "      <th>0</th>\n",
       "      <td>Q161459</td>\n",
       "      <td>(+)-1,2-diaminocyclohexane</td>\n",
       "      <td>Q4596888</td>\n",
       "      <td>2-hydroxyglutaric aciduria</td>\n",
       "      <td>NaN</td>\n",
       "      <td>0</td>\n",
       "    </tr>\n",
       "    <tr>\n",
       "      <th>1</th>\n",
       "      <td>Q161459</td>\n",
       "      <td>(+)-1,2-diaminocyclohexane</td>\n",
       "      <td>Q3335660</td>\n",
       "      <td>3-M syndrome</td>\n",
       "      <td>NaN</td>\n",
       "      <td>0</td>\n",
       "    </tr>\n",
       "  </tbody>\n",
       "</table>\n",
       "</div>"
      ],
      "text/plain": [
       "  compound_id               compound_name disease_id  \\\n",
       "0     Q161459  (+)-1,2-diaminocyclohexane   Q4596888   \n",
       "1     Q161459  (+)-1,2-diaminocyclohexane   Q3335660   \n",
       "\n",
       "                 disease_name category  status  \n",
       "0  2-hydroxyglutaric aciduria      NaN       0  \n",
       "1                3-M syndrome      NaN       0  "
      ]
     },
     "execution_count": 4,
     "metadata": {},
     "output_type": "execute_result"
    }
   ],
   "source": [
    "rows = list()\n",
    "for c, d in itertools.product(compound_df.itertuples(), disease_df.itertuples()):\n",
    "    row = c.compound_id, c.compound_name, d.disease_id, d.disease_name\n",
    "    rows.append(row)\n",
    "pair_df = pandas.DataFrame(rows, columns=['compound_id', 'compound_name', 'disease_id', 'disease_name'])\n",
    "pair_df = pair_df.merge(indication_df, how='left')\n",
    "pair_df['status'] = (pair_df.category == 'DM').astype(int)\n",
    "pair_df.head(2)"
   ]
  },
  {
   "cell_type": "code",
   "execution_count": 5,
   "metadata": {
    "collapsed": false,
    "deletable": true,
    "editable": true
   },
   "outputs": [
    {
     "data": {
      "text/plain": [
       "0    36143767\n",
       "1        2969\n",
       "Name: status, dtype: int64"
      ]
     },
     "execution_count": 5,
     "metadata": {},
     "output_type": "execute_result"
    }
   ],
   "source": [
    "pair_df['status'].value_counts()"
   ]
  },
  {
   "cell_type": "code",
   "execution_count": 6,
   "metadata": {
    "collapsed": false,
    "deletable": true,
    "editable": true
   },
   "outputs": [
    {
     "data": {
      "text/plain": [
       "36146736"
      ]
     },
     "execution_count": 6,
     "metadata": {},
     "output_type": "execute_result"
    }
   ],
   "source": [
    "len(pair_df)"
   ]
  },
  {
   "cell_type": "code",
   "execution_count": 7,
   "metadata": {
    "collapsed": true,
    "deletable": true,
    "editable": true
   },
   "outputs": [],
   "source": [
    "with bz2.open('features/compound-disease-pairs.tsv.bz2', 'wt') as write_file:\n",
    "    pair_df.to_csv(write_file, sep='\\t', index=False)"
   ]
  },
  {
   "cell_type": "markdown",
   "metadata": {
    "deletable": true,
    "editable": true
   },
   "source": [
    "## Select metapaths"
   ]
  },
  {
   "cell_type": "code",
   "execution_count": 8,
   "metadata": {
    "collapsed": false,
    "deletable": true,
    "editable": true
   },
   "outputs": [
    {
     "data": {
      "text/html": [
       "<div>\n",
       "<table border=\"1\" class=\"dataframe\">\n",
       "  <thead>\n",
       "    <tr style=\"text-align: right;\">\n",
       "      <th></th>\n",
       "      <th>metapath</th>\n",
       "      <th>dwpc_auroc</th>\n",
       "      <th>pdwpc_auroc</th>\n",
       "      <th>rdwpc_auroc</th>\n",
       "      <th>nonzero</th>\n",
       "      <th>pdwpc_primary_auroc</th>\n",
       "      <th>delta_auroc</th>\n",
       "      <th>pval_delta_auroc</th>\n",
       "      <th>fdr_delta_auroc</th>\n",
       "    </tr>\n",
       "  </thead>\n",
       "  <tbody>\n",
       "    <tr>\n",
       "      <th>0</th>\n",
       "      <td>C&lt;hpCduftD</td>\n",
       "      <td>0.50034</td>\n",
       "      <td>0.49996</td>\n",
       "      <td>0.50038</td>\n",
       "      <td>0.000135</td>\n",
       "      <td>0.50000</td>\n",
       "      <td>0.000341</td>\n",
       "      <td>9.261700e-08</td>\n",
       "      <td>3.601772e-07</td>\n",
       "    </tr>\n",
       "    <tr>\n",
       "      <th>1</th>\n",
       "      <td>C&lt;hpCduftDduftCduftD</td>\n",
       "      <td>0.50029</td>\n",
       "      <td>0.50000</td>\n",
       "      <td>0.50029</td>\n",
       "      <td>0.000202</td>\n",
       "      <td>0.50002</td>\n",
       "      <td>0.000273</td>\n",
       "      <td>2.113100e-04</td>\n",
       "      <td>3.287044e-04</td>\n",
       "    </tr>\n",
       "  </tbody>\n",
       "</table>\n",
       "</div>"
      ],
      "text/plain": [
       "               metapath  dwpc_auroc  pdwpc_auroc  rdwpc_auroc   nonzero  \\\n",
       "0            C<hpCduftD     0.50034      0.49996      0.50038  0.000135   \n",
       "1  C<hpCduftDduftCduftD     0.50029      0.50000      0.50029  0.000202   \n",
       "\n",
       "   pdwpc_primary_auroc  delta_auroc  pval_delta_auroc  fdr_delta_auroc  \n",
       "0              0.50000     0.000341      9.261700e-08     3.601772e-07  \n",
       "1              0.50002     0.000273      2.113100e-04     3.287044e-04  "
      ]
     },
     "execution_count": 8,
     "metadata": {},
     "output_type": "execute_result"
    }
   ],
   "source": [
    "auroc_df = pandas.read_table('../all-features/data/feature-performance/auroc.tsv')\n",
    "reject, pvals_corrected, alphacSidak, alphacBonf = multipletests(auroc_df.pval_delta_auroc, method='fdr_bh')\n",
    "auroc_df['fdr_delta_auroc'] = pvals_corrected\n",
    "auroc_df.head(2)"
   ]
  },
  {
   "cell_type": "code",
   "execution_count": 23,
   "metadata": {
    "collapsed": false,
    "deletable": true,
    "editable": true
   },
   "outputs": [
    {
     "data": {
      "text/html": [
       "<div>\n",
       "<table border=\"1\" class=\"dataframe\">\n",
       "  <thead>\n",
       "    <tr style=\"text-align: right;\">\n",
       "      <th></th>\n",
       "      <th>metapath</th>\n",
       "      <th>dwpc_auroc</th>\n",
       "      <th>pdwpc_auroc</th>\n",
       "      <th>rdwpc_auroc</th>\n",
       "      <th>nonzero</th>\n",
       "      <th>pdwpc_primary_auroc</th>\n",
       "      <th>delta_auroc</th>\n",
       "      <th>pval_delta_auroc</th>\n",
       "      <th>fdr_delta_auroc</th>\n",
       "      <th>feature</th>\n",
       "    </tr>\n",
       "  </thead>\n",
       "  <tbody>\n",
       "    <tr>\n",
       "      <th>15</th>\n",
       "      <td>CduftDduftCduftD</td>\n",
       "      <td>0.82804</td>\n",
       "      <td>0.76269</td>\n",
       "      <td>0.79249</td>\n",
       "      <td>0.188140</td>\n",
       "      <td>0.59070</td>\n",
       "      <td>0.23734</td>\n",
       "      <td>8.420000e-09</td>\n",
       "      <td>3.929333e-08</td>\n",
       "      <td>dwpc_CduftDduftCduftD</td>\n",
       "    </tr>\n",
       "    <tr>\n",
       "      <th>24</th>\n",
       "      <td>CduftDso&gt;D&lt;soD</td>\n",
       "      <td>0.61272</td>\n",
       "      <td>0.51820</td>\n",
       "      <td>0.60223</td>\n",
       "      <td>0.058942</td>\n",
       "      <td>0.50151</td>\n",
       "      <td>0.11121</td>\n",
       "      <td>6.375100e-09</td>\n",
       "      <td>3.432746e-08</td>\n",
       "      <td>dwpc_CduftDso&gt;D&lt;soD</td>\n",
       "    </tr>\n",
       "  </tbody>\n",
       "</table>\n",
       "</div>"
      ],
      "text/plain": [
       "            metapath  dwpc_auroc  pdwpc_auroc  rdwpc_auroc   nonzero  \\\n",
       "15  CduftDduftCduftD     0.82804      0.76269      0.79249  0.188140   \n",
       "24    CduftDso>D<soD     0.61272      0.51820      0.60223  0.058942   \n",
       "\n",
       "    pdwpc_primary_auroc  delta_auroc  pval_delta_auroc  fdr_delta_auroc  \\\n",
       "15              0.59070      0.23734      8.420000e-09     3.929333e-08   \n",
       "24              0.50151      0.11121      6.375100e-09     3.432746e-08   \n",
       "\n",
       "                  feature  \n",
       "15  dwpc_CduftDduftCduftD  \n",
       "24    dwpc_CduftDso>D<soD  "
      ]
     },
     "execution_count": 23,
     "metadata": {},
     "output_type": "execute_result"
    }
   ],
   "source": [
    "# standard is 0.55\n",
    "whitelist_df = auroc_df.query(\n",
    "    \"rdwpc_auroc > 0.54\"\n",
    "    \" and delta_auroc > 0\"\n",
    "    \" and fdr_delta_auroc < 0.05\"\n",
    "    \" and pdwpc_primary_auroc > 0.5\"\n",
    ").copy()\n",
    "whitelist_df['feature'] = 'dwpc_' + whitelist_df['metapath']\n",
    "whitelist_df.head(2)"
   ]
  },
  {
   "cell_type": "code",
   "execution_count": 24,
   "metadata": {
    "collapsed": false,
    "deletable": true,
    "editable": true
   },
   "outputs": [
    {
     "data": {
      "text/plain": [
       "7"
      ]
     },
     "execution_count": 24,
     "metadata": {},
     "output_type": "execute_result"
    }
   ],
   "source": [
    "metapaths = set(whitelist_df.metapath)\n",
    "len(metapaths)"
   ]
  },
  {
   "cell_type": "code",
   "execution_count": 25,
   "metadata": {
    "collapsed": false,
    "deletable": true,
    "editable": true
   },
   "outputs": [
    {
     "data": {
      "text/plain": [
       "{'CduftDduftCduftD',\n",
       " 'CduftDso>D<soD',\n",
       " 'CduftDso>D<soD<soD',\n",
       " 'CduftDso>DduftCduftD',\n",
       " 'CduftDso>Dso>D<soD',\n",
       " 'CpiwPpiwCduftD',\n",
       " 'CsdiCsdiCduftD'}"
      ]
     },
     "execution_count": 25,
     "metadata": {},
     "output_type": "execute_result"
    }
   ],
   "source": [
    "metapaths"
   ]
  },
  {
   "cell_type": "markdown",
   "metadata": {
    "deletable": true,
    "editable": true
   },
   "source": [
    "## Metaedges in chosen metapaths"
   ]
  },
  {
   "cell_type": "code",
   "execution_count": 26,
   "metadata": {
    "collapsed": false,
    "deletable": true,
    "editable": true,
    "scrolled": false
   },
   "outputs": [],
   "source": [
    "m2m_df = pandas.read_table('../all-features/data/metaedge-in-metapath.tsv')\n",
    "m2m_df = m2m_df.query(\"metapath in @metapaths\")"
   ]
  },
  {
   "cell_type": "code",
   "execution_count": 27,
   "metadata": {
    "collapsed": false,
    "deletable": true,
    "editable": true
   },
   "outputs": [
    {
     "data": {
      "text/html": [
       "<div>\n",
       "<table border=\"1\" class=\"dataframe\">\n",
       "  <thead>\n",
       "    <tr style=\"text-align: right;\">\n",
       "      <th></th>\n",
       "      <th>index</th>\n",
       "      <th>metaedge</th>\n",
       "    </tr>\n",
       "  </thead>\n",
       "  <tbody>\n",
       "    <tr>\n",
       "      <th>0</th>\n",
       "      <td>Disease - drug-used-for-treatment - Compound</td>\n",
       "      <td>11</td>\n",
       "    </tr>\n",
       "    <tr>\n",
       "      <th>1</th>\n",
       "      <td>Disease &gt; subclass-of &gt; Disease</td>\n",
       "      <td>9</td>\n",
       "    </tr>\n",
       "    <tr>\n",
       "      <th>2</th>\n",
       "      <td>Protein - physically-interacts-with - Compound</td>\n",
       "      <td>2</td>\n",
       "    </tr>\n",
       "    <tr>\n",
       "      <th>3</th>\n",
       "      <td>Compound - significant-drug-interaction - Comp...</td>\n",
       "      <td>2</td>\n",
       "    </tr>\n",
       "  </tbody>\n",
       "</table>\n",
       "</div>"
      ],
      "text/plain": [
       "                                               index  metaedge\n",
       "0       Disease - drug-used-for-treatment - Compound        11\n",
       "1                    Disease > subclass-of > Disease         9\n",
       "2     Protein - physically-interacts-with - Compound         2\n",
       "3  Compound - significant-drug-interaction - Comp...         2"
      ]
     },
     "execution_count": 27,
     "metadata": {},
     "output_type": "execute_result"
    }
   ],
   "source": [
    "# Counting multiple occurrences in the same metapath\n",
    "m2m_df.metaedge.value_counts().reset_index()"
   ]
  },
  {
   "cell_type": "code",
   "execution_count": 28,
   "metadata": {
    "collapsed": false,
    "deletable": true,
    "editable": true
   },
   "outputs": [
    {
     "data": {
      "text/html": [
       "<div>\n",
       "<table border=\"1\" class=\"dataframe\">\n",
       "  <thead>\n",
       "    <tr style=\"text-align: right;\">\n",
       "      <th></th>\n",
       "      <th>index</th>\n",
       "      <th>metaedge</th>\n",
       "    </tr>\n",
       "  </thead>\n",
       "  <tbody>\n",
       "    <tr>\n",
       "      <th>0</th>\n",
       "      <td>Disease - drug-used-for-treatment - Compound</td>\n",
       "      <td>11</td>\n",
       "    </tr>\n",
       "    <tr>\n",
       "      <th>1</th>\n",
       "      <td>Disease &gt; subclass-of &gt; Disease</td>\n",
       "      <td>9</td>\n",
       "    </tr>\n",
       "    <tr>\n",
       "      <th>2</th>\n",
       "      <td>Protein - physically-interacts-with - Compound</td>\n",
       "      <td>2</td>\n",
       "    </tr>\n",
       "    <tr>\n",
       "      <th>3</th>\n",
       "      <td>Compound - significant-drug-interaction - Comp...</td>\n",
       "      <td>2</td>\n",
       "    </tr>\n",
       "  </tbody>\n",
       "</table>\n",
       "</div>"
      ],
      "text/plain": [
       "                                               index  metaedge\n",
       "0       Disease - drug-used-for-treatment - Compound        11\n",
       "1                    Disease > subclass-of > Disease         9\n",
       "2     Protein - physically-interacts-with - Compound         2\n",
       "3  Compound - significant-drug-interaction - Comp...         2"
      ]
     },
     "execution_count": 28,
     "metadata": {},
     "output_type": "execute_result"
    }
   ],
   "source": [
    "# Counting only one metaedge occurrence per metapath\n",
    "m2m_df.drop_duplicates().metaedge.value_counts().reset_index()"
   ]
  },
  {
   "cell_type": "code",
   "execution_count": 29,
   "metadata": {
    "collapsed": false,
    "deletable": true,
    "editable": true
   },
   "outputs": [
    {
     "data": {
      "text/plain": [
       "4"
      ]
     },
     "execution_count": 29,
     "metadata": {},
     "output_type": "execute_result"
    }
   ],
   "source": [
    "# Number of included metaedges\n",
    "m2m_df.metaedge.nunique()"
   ]
  },
  {
   "cell_type": "code",
   "execution_count": 30,
   "metadata": {
    "collapsed": false,
    "deletable": true,
    "editable": true
   },
   "outputs": [],
   "source": [
    "with open('../all-features/data/metapaths.json') as read_file:\n",
    "    metapath_obj = json.load(read_file)\n",
    "metapath_obj = [x for x in metapath_obj if x['abbreviation'] in metapaths]\n",
    "with open('features/metapaths.json', 'wt') as write_file:\n",
    "    metapath_obj = json.dump(metapath_obj, write_file, indent=2, sort_keys=True)"
   ]
  },
  {
   "cell_type": "code",
   "execution_count": 31,
   "metadata": {
    "collapsed": false,
    "deletable": true,
    "editable": true
   },
   "outputs": [
    {
     "name": "stdout",
     "output_type": "stream",
     "text": [
      "253,027,152 total queries\n"
     ]
    }
   ],
   "source": [
    "total_queries = len(metapaths) * len(pair_df)\n",
    "print('{:,} total queries'.format(total_queries))"
   ]
  }
 ],
 "metadata": {
  "kernelspec": {
   "display_name": "Python 3",
   "language": "python",
   "name": "python3"
  },
  "language_info": {
   "codemirror_mode": {
    "name": "ipython",
    "version": 3
   },
   "file_extension": ".py",
   "mimetype": "text/x-python",
   "name": "python",
   "nbconvert_exporter": "python",
   "pygments_lexer": "ipython3",
   "version": "3.5.3"
  }
 },
 "nbformat": 4,
 "nbformat_minor": 0
}
