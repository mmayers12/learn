{
 "cells": [
  {
   "cell_type": "markdown",
   "metadata": {
    "deletable": true,
    "editable": true
   },
   "source": [
    "# Fit the final model and make predictions"
   ]
  },
  {
   "cell_type": "code",
   "execution_count": 1,
   "metadata": {
    "collapsed": true,
    "deletable": true,
    "editable": true
   },
   "outputs": [],
   "source": [
    "library(magrittr)"
   ]
  },
  {
   "cell_type": "markdown",
   "metadata": {
    "deletable": true,
    "editable": true
   },
   "source": [
    "## Prepare datasets"
   ]
  },
  {
   "cell_type": "code",
   "execution_count": 4,
   "metadata": {
    "collapsed": false,
    "deletable": true,
    "editable": true,
    "scrolled": true
   },
   "outputs": [
    {
     "name": "stderr",
     "output_type": "stream",
     "text": [
      "Parsed with column specification:\n",
      "cols(\n",
      "  feature = col_character()\n",
      ")\n",
      "Parsed with column specification:\n",
      "cols(\n",
      "  .default = col_double(),\n",
      "  compound_id = col_character(),\n",
      "  compound_name = col_character(),\n",
      "  disease_id = col_character(),\n",
      "  disease_name = col_character(),\n",
      "  category = col_character(),\n",
      "  status = col_integer()\n",
      ")\n",
      "See spec(...) for full column specifications.\n"
     ]
    }
   ],
   "source": [
    "blacklist = readr::read_tsv('features/blacklist.tsv')$feature\n",
    "feature_df = readr::read_tsv('features/transformed_features.tsv.bz2')"
   ]
  },
  {
   "cell_type": "code",
   "execution_count": 5,
   "metadata": {
    "collapsed": false,
    "deletable": true,
    "editable": true
   },
   "outputs": [
    {
     "data": {
      "text/plain": [
       "     Min.   1st Qu.    Median      Mean   3rd Qu.      Max. \n",
       "0.0000000 0.0000000 0.0000000 0.0000821 0.0000000 0.5185000 "
      ]
     },
     "metadata": {},
     "output_type": "display_data"
    }
   ],
   "source": [
    "summary(feature_df$prior_prob)"
   ]
  },
  {
   "cell_type": "code",
   "execution_count": 6,
   "metadata": {
    "collapsed": false,
    "deletable": true,
    "editable": true,
    "scrolled": true
   },
   "outputs": [
    {
     "name": "stderr",
     "output_type": "stream",
     "text": [
      "\n",
      "Attaching package: ‘dplyr’\n",
      "\n",
      "The following objects are masked from ‘package:stats’:\n",
      "\n",
      "    filter, lag\n",
      "\n",
      "The following objects are masked from ‘package:base’:\n",
      "\n",
      "    intersect, setdiff, setequal, union\n",
      "\n"
     ]
    }
   ],
   "source": [
    "library(dplyr)"
   ]
  },
  {
   "cell_type": "code",
   "execution_count": 7,
   "metadata": {
    "collapsed": false,
    "deletable": true,
    "editable": true
   },
   "outputs": [],
   "source": [
    "feature_df = select(feature_df, -one_of(blacklist))"
   ]
  },
  {
   "cell_type": "code",
   "execution_count": 8,
   "metadata": {
    "collapsed": false,
    "deletable": true,
    "editable": true
   },
   "outputs": [
    {
     "data": {
      "text/html": [
       "<table>\n",
       "<thead><tr><th scope=col>compound_id</th><th scope=col>compound_name</th><th scope=col>disease_id</th><th scope=col>disease_name</th><th scope=col>category</th><th scope=col>status</th><th scope=col>prior_prob</th><th scope=col>prior_logit</th><th scope=col>degree_CpiwP</th><th scope=col>degree_CsdiC</th><th scope=col>⋯</th><th scope=col>degree_DgaG</th><th scope=col>degree_D&lt;soD</th><th scope=col>degree_Dso&gt;D</th><th scope=col>dwpc_CduftDduftCduftD</th><th scope=col>dwpc_CduftDso&gt;D&lt;soD</th><th scope=col>dwpc_CduftDso&gt;D&lt;soD&lt;soD</th><th scope=col>dwpc_CduftDso&gt;DduftCduftD</th><th scope=col>dwpc_CduftDso&gt;Dso&gt;D&lt;soD</th><th scope=col>dwpc_CpiwPpiwCduftD</th><th scope=col>dwpc_CsdiCsdiCduftD</th></tr></thead>\n",
       "<tbody>\n",
       "\t<tr><td>Q408524         </td><td>cyclophosphamide</td><td>Q41861          </td><td>hypertension    </td><td>NA              </td><td>0               </td><td>0.5185          </td><td> 0.07391        </td><td>-0.5943         </td><td>-0.1692         </td><td>⋯               </td><td> 7.8000         </td><td>2.374           </td><td> 1.5320         </td><td>31.97000        </td><td>-0.03517        </td><td>-0.04985        </td><td>-0.02129        </td><td>27.74000        </td><td>-0.02087        </td><td>-0.01579        </td></tr>\n",
       "\t<tr><td>Q408524         </td><td>cyclophosphamide</td><td>Q221668         </td><td>acute cystitis  </td><td>NA              </td><td>0               </td><td>0.4364          </td><td>-0.25580        </td><td>-0.5943         </td><td>-0.1692         </td><td>⋯               </td><td>-0.1422         </td><td>1.462           </td><td>-0.4215         </td><td>-0.03286        </td><td>-0.03517        </td><td>-0.04985        </td><td>-0.02129        </td><td>-0.03444        </td><td>-0.02087        </td><td>-0.01579        </td></tr>\n",
       "</tbody>\n",
       "</table>\n"
      ],
      "text/latex": [
       "\\begin{tabular}{r|llllllllllllllllllllllll}\n",
       " compound\\_id & compound\\_name & disease\\_id & disease\\_name & category & status & prior\\_prob & prior\\_logit & degree\\_CpiwP & degree\\_CsdiC & ⋯ & degree\\_DgaG & degree\\_D<soD & degree\\_Dso>D & dwpc\\_CduftDduftCduftD & dwpc\\_CduftDso>D<soD & dwpc\\_CduftDso>D<soD<soD & dwpc\\_CduftDso>DduftCduftD & dwpc\\_CduftDso>Dso>D<soD & dwpc\\_CpiwPpiwCduftD & dwpc\\_CsdiCsdiCduftD\\\\\n",
       "\\hline\n",
       "\t Q408524          & cyclophosphamide & Q41861           & hypertension     & NA               & 0                & 0.5185           &  0.07391         & -0.5943          & -0.1692          & ⋯                &  7.8000          & 2.374            &  1.5320          & 31.97000         & -0.03517         & -0.04985         & -0.02129         & 27.74000         & -0.02087         & -0.01579        \\\\\n",
       "\t Q408524          & cyclophosphamide & Q221668          & acute cystitis   & NA               & 0                & 0.4364           & -0.25580         & -0.5943          & -0.1692          & ⋯                & -0.1422          & 1.462            & -0.4215          & -0.03286         & -0.03517         & -0.04985         & -0.02129         & -0.03444         & -0.02087         & -0.01579        \\\\\n",
       "\\end{tabular}\n"
      ],
      "text/markdown": [
       "\n",
       "compound_id | compound_name | disease_id | disease_name | category | status | prior_prob | prior_logit | degree_CpiwP | degree_CsdiC | ⋯ | degree_DgaG | degree_D<soD | degree_Dso>D | dwpc_CduftDduftCduftD | dwpc_CduftDso>D<soD | dwpc_CduftDso>D<soD<soD | dwpc_CduftDso>DduftCduftD | dwpc_CduftDso>Dso>D<soD | dwpc_CpiwPpiwCduftD | dwpc_CsdiCsdiCduftD | \n",
       "|---|---|\n",
       "| Q408524          | cyclophosphamide | Q41861           | hypertension     | NA               | 0                | 0.5185           |  0.07391         | -0.5943          | -0.1692          | ⋯                |  7.8000          | 2.374            |  1.5320          | 31.97000         | -0.03517         | -0.04985         | -0.02129         | 27.74000         | -0.02087         | -0.01579         | \n",
       "| Q408524          | cyclophosphamide | Q221668          | acute cystitis   | NA               | 0                | 0.4364           | -0.25580         | -0.5943          | -0.1692          | ⋯                | -0.1422          | 1.462            | -0.4215          | -0.03286         | -0.03517         | -0.04985         | -0.02129         | -0.03444         | -0.02087         | -0.01579         | \n",
       "\n",
       "\n"
      ],
      "text/plain": [
       "  compound_id compound_name    disease_id disease_name   category status\n",
       "1 Q408524     cyclophosphamide Q41861     hypertension   NA       0     \n",
       "2 Q408524     cyclophosphamide Q221668    acute cystitis NA       0     \n",
       "  prior_prob prior_logit degree_CpiwP degree_CsdiC ⋯ degree_DgaG degree_D<soD\n",
       "1 0.5185      0.07391    -0.5943      -0.1692      ⋯  7.8000     2.374       \n",
       "2 0.4364     -0.25580    -0.5943      -0.1692      ⋯ -0.1422     1.462       \n",
       "  degree_Dso>D dwpc_CduftDduftCduftD dwpc_CduftDso>D<soD\n",
       "1  1.5320      31.97000              -0.03517           \n",
       "2 -0.4215      -0.03286              -0.03517           \n",
       "  dwpc_CduftDso>D<soD<soD dwpc_CduftDso>DduftCduftD dwpc_CduftDso>Dso>D<soD\n",
       "1 -0.04985                -0.02129                  27.74000               \n",
       "2 -0.04985                -0.02129                  -0.03444               \n",
       "  dwpc_CpiwPpiwCduftD dwpc_CsdiCsdiCduftD\n",
       "1 -0.02087            -0.01579           \n",
       "2 -0.02087            -0.01579           "
      ]
     },
     "metadata": {},
     "output_type": "display_data"
    }
   ],
   "source": [
    "head(feature_df, 2)"
   ]
  },
  {
   "cell_type": "code",
   "execution_count": 9,
   "metadata": {
    "collapsed": false,
    "deletable": true,
    "editable": true
   },
   "outputs": [
    {
     "data": {
      "text/html": [
       "<ol class=list-inline>\n",
       "\t<li>637894</li>\n",
       "\t<li>17</li>\n",
       "</ol>\n"
      ],
      "text/latex": [
       "\\begin{enumerate*}\n",
       "\\item 637894\n",
       "\\item 17\n",
       "\\end{enumerate*}\n"
      ],
      "text/markdown": [
       "1. 637894\n",
       "2. 17\n",
       "\n",
       "\n"
      ],
      "text/plain": [
       "[1] 637894     17"
      ]
     },
     "metadata": {},
     "output_type": "display_data"
    }
   ],
   "source": [
    "train_df = filter(feature_df, prior_prob > 0)\n",
    "\n",
    "X_train = train_df %>%\n",
    "  dplyr::select(prior_logit, starts_with('degree_'), starts_with('dwpc_')) %>%\n",
    "  as.matrix()\n",
    "dim(X_train)\n",
    "\n",
    "y_train = train_df$status"
   ]
  },
  {
   "cell_type": "code",
   "execution_count": 10,
   "metadata": {
    "collapsed": false,
    "deletable": true,
    "editable": true
   },
   "outputs": [
    {
     "data": {
      "text/plain": [
       "     Min.   1st Qu.    Median      Mean   3rd Qu.      Max. \n",
       "0.0000000 0.0000000 0.0000000 0.0000821 0.0000000 0.5185000 "
      ]
     },
     "metadata": {},
     "output_type": "display_data"
    }
   ],
   "source": [
    "summary(feature_df$prior_prob)"
   ]
  },
  {
   "cell_type": "code",
   "execution_count": 11,
   "metadata": {
    "collapsed": false,
    "deletable": true,
    "editable": true
   },
   "outputs": [
    {
     "data": {
      "text/html": [
       "637894"
      ],
      "text/latex": [
       "637894"
      ],
      "text/markdown": [
       "637894"
      ],
      "text/plain": [
       "[1] 637894"
      ]
     },
     "metadata": {},
     "output_type": "display_data"
    }
   ],
   "source": [
    "sum(feature_df$prior_prob != 0)"
   ]
  },
  {
   "cell_type": "markdown",
   "metadata": {
    "deletable": true,
    "editable": true
   },
   "source": [
    "## Fit Model"
   ]
  },
  {
   "cell_type": "code",
   "execution_count": 12,
   "metadata": {
    "collapsed": true,
    "deletable": true,
    "editable": true
   },
   "outputs": [],
   "source": [
    "lambda = 'lambda.1se'\n",
    "penalty = ifelse(colnames(X_train) == 'prior_logit', 0, 1)"
   ]
  },
  {
   "cell_type": "code",
   "execution_count": 13,
   "metadata": {
    "collapsed": false,
    "deletable": true,
    "editable": true
   },
   "outputs": [
    {
     "name": "stderr",
     "output_type": "stream",
     "text": [
      "Loading required package: Matrix\n",
      "Loading required package: foreach\n",
      "Loaded glmnet 2.0-5\n",
      "\n"
     ]
    }
   ],
   "source": [
    "fit = hetior::glmnet_train(X = X_train, y = y_train, alpha = 0.2, s = lambda, cores = 10, seed = 0,\n",
    "  penalty.factor=penalty, lambda.min.ratio=1e-8, nlambda=150, standardize=TRUE)"
   ]
  },
  {
   "cell_type": "code",
   "execution_count": 14,
   "metadata": {
    "collapsed": false,
    "deletable": true,
    "editable": true
   },
   "outputs": [
    {
     "data": {
      "text/html": [
       "0.00279811329108812"
      ],
      "text/latex": [
       "0.00279811329108812"
      ],
      "text/markdown": [
       "0.00279811329108812"
      ],
      "text/plain": [
       "[1] 0.002798113"
      ]
     },
     "metadata": {},
     "output_type": "display_data"
    },
    {
     "data": {
      "image/png": "[encoded data removed]",
      "text/plain": [
       "plot without title"
      ]
     },
     "metadata": {},
     "output_type": "display_data"
    }
   ],
   "source": [
    "par(mfrow = c(2,1), oma = c(5,4,0,0) + 0.1, mar = c(0,0,1,1) + 0.1)\n",
    "plot(fit$cv_model$glmnet.fit, xvar = \"lambda\", label = TRUE)\n",
    "plot(fit$cv_model)\n",
    "fit$cv_model[[lambda]]"
   ]
  },
  {
   "cell_type": "code",
   "execution_count": 15,
   "metadata": {
    "collapsed": false,
    "deletable": true,
    "editable": true
   },
   "outputs": [
    {
     "data": {
      "text/html": [
       "0.662859831476307"
      ],
      "text/latex": [
       "0.662859831476307"
      ],
      "text/markdown": [
       "0.662859831476307"
      ],
      "text/plain": [
       "[1] 0.6628598"
      ]
     },
     "metadata": {},
     "output_type": "display_data"
    }
   ],
   "source": [
    "# The coefficient for prior_logit should be around 1 for our approach to work well\n",
    "dplyr::filter(fit$coef_df, feature == 'prior_logit')$coef"
   ]
  },
  {
   "cell_type": "code",
   "execution_count": 16,
   "metadata": {
    "collapsed": false,
    "deletable": true,
    "editable": true
   },
   "outputs": [
    {
     "data": {
      "text/plain": [
       ".\n",
       "-1  1 \n",
       " 1  8 "
      ]
     },
     "metadata": {},
     "output_type": "display_data"
    }
   ],
   "source": [
    "# Number of negative and positive coefficients\n",
    "fit$coef_df %>%\n",
    "  dplyr::filter(feature != 'intercept', zcoef != 0) %>%\n",
    "  .[['zcoef']] %>% sign %>% table"
   ]
  },
  {
   "cell_type": "code",
   "execution_count": 17,
   "metadata": {
    "collapsed": false,
    "deletable": true,
    "editable": true
   },
   "outputs": [
    {
     "data": {
      "text/html": [
       "2968.9719528"
      ],
      "text/latex": [
       "2968.9719528"
      ],
      "text/markdown": [
       "2968.9719528"
      ],
      "text/plain": [
       "[1] 2968.972"
      ]
     },
     "metadata": {},
     "output_type": "display_data"
    },
    {
     "data": {
      "text/html": [
       "'0.00821%'"
      ],
      "text/latex": [
       "'0.00821\\%'"
      ],
      "text/markdown": [
       "'0.00821%'"
      ],
      "text/plain": [
       "[1] \"0.00821%\""
      ]
     },
     "metadata": {},
     "output_type": "display_data"
    }
   ],
   "source": [
    "# Sum of prior (should sum to the number of treatments)\n",
    "sum(feature_df$prior_prob)\n",
    "\n",
    "# Prevalence of positives as percent\n",
    "scales::percent(mean(feature_df$status))"
   ]
  },
  {
   "cell_type": "code",
   "execution_count": 18,
   "metadata": {
    "collapsed": false,
    "deletable": true,
    "editable": true
   },
   "outputs": [
    {
     "data": {
      "text/html": [
       "'0.0143%'"
      ],
      "text/latex": [
       "'0.0143\\%'"
      ],
      "text/markdown": [
       "'0.0143%'"
      ],
      "text/plain": [
       "[1] \"0.0143%\""
      ]
     },
     "metadata": {},
     "output_type": "display_data"
    }
   ],
   "source": [
    "X_all = feature_df %>%\n",
    "  dplyr::mutate(prior_logit = boot::logit(mean(status))) %>%\n",
    "  dplyr::select(one_of(colnames(X_train))) %>%\n",
    "  as.matrix()\n",
    "\n",
    "y_predicted = hetior::glmnet_predict(fit$cv_model, X = X_all, s = lambda)\n",
    "y_predicted %>% mean() %>% scales::percent()"
   ]
  },
  {
   "cell_type": "code",
   "execution_count": 19,
   "metadata": {
    "collapsed": false,
    "deletable": true,
    "editable": true
   },
   "outputs": [
    {
     "name": "stderr",
     "output_type": "stream",
     "text": [
      "Joining, by = c(\"compound_id\", \"disease_id\")\n",
      "Parsed with column specification:\n",
      "cols(\n",
      "  compound_id = col_character(),\n",
      "  compound_name = col_character(),\n",
      "  disease_id = col_character(),\n",
      "  disease_name = col_character(),\n",
      "  n_trials = col_integer(),\n",
      "  status_trials = col_integer(),\n",
      "  status_drugcentral = col_integer()\n",
      ")\n",
      "Joining, by = c(\"compound_id\", \"compound_name\", \"disease_id\", \"disease_name\")\n"
     ]
    }
   ],
   "source": [
    "train_pred_df = train_df %>%\n",
    "  dplyr::select(compound_id, disease_id) %>%\n",
    "  dplyr::bind_cols(dplyr::data_frame(training_prediction = fit$y_pred))\n",
    "\n",
    "predict_df = feature_df %>%\n",
    "  dplyr::select(compound_id:prior_prob, starts_with('status')) %>%\n",
    "  dplyr::mutate(prediction = y_predicted) %>%\n",
    "  dplyr::left_join(train_pred_df) %>%\n",
    "  dplyr::group_by(compound_id) %>%\n",
    "  dplyr::mutate(compound_percentile = dplyr::cume_dist(prediction)) %>%\n",
    "  dplyr::ungroup() %>%\n",
    "  dplyr::group_by(disease_id) %>%\n",
    "  dplyr::mutate(disease_percentile = dplyr::cume_dist(prediction)) %>%\n",
    "  dplyr::ungroup() %>%\n",
    "  dplyr::left_join(readr::read_tsv('../validate/validation-statuses.tsv'))"
   ]
  },
  {
   "cell_type": "code",
   "execution_count": 20,
   "metadata": {
    "collapsed": false,
    "deletable": true,
    "editable": true
   },
   "outputs": [
    {
     "data": {
      "text/html": [
       "<table>\n",
       "<thead><tr><th scope=col>compound_id</th><th scope=col>compound_name</th><th scope=col>disease_id</th><th scope=col>disease_name</th><th scope=col>category</th><th scope=col>status</th><th scope=col>prior_prob</th><th scope=col>prediction</th><th scope=col>training_prediction</th><th scope=col>compound_percentile</th><th scope=col>disease_percentile</th><th scope=col>n_trials</th><th scope=col>status_trials</th><th scope=col>status_drugcentral</th></tr></thead>\n",
       "<tbody>\n",
       "\t<tr><td>Q1215575      </td><td>naproxen      </td><td>Q62736        </td><td>osteoarthritis</td><td>DM            </td><td>1             </td><td>0.04706       </td><td>0.1483240     </td><td>0.9237100     </td><td>1             </td><td>1.0000000     </td><td>NA            </td><td>NA            </td><td>NA            </td></tr>\n",
       "\t<tr><td>Q186969       </td><td>ibuprofen     </td><td>Q62736        </td><td>osteoarthritis</td><td>DM            </td><td>1             </td><td>0.05370       </td><td>0.1446272     </td><td>0.9280038     </td><td>1             </td><td>0.9997714     </td><td>NA            </td><td>NA            </td><td>NA            </td></tr>\n",
       "</tbody>\n",
       "</table>\n"
      ],
      "text/latex": [
       "\\begin{tabular}{r|llllllllllllll}\n",
       " compound\\_id & compound\\_name & disease\\_id & disease\\_name & category & status & prior\\_prob & prediction & training\\_prediction & compound\\_percentile & disease\\_percentile & n\\_trials & status\\_trials & status\\_drugcentral\\\\\n",
       "\\hline\n",
       "\t Q1215575       & naproxen       & Q62736         & osteoarthritis & DM             & 1              & 0.04706        & 0.1483240      & 0.9237100      & 1              & 1.0000000      & NA             & NA             & NA            \\\\\n",
       "\t Q186969        & ibuprofen      & Q62736         & osteoarthritis & DM             & 1              & 0.05370        & 0.1446272      & 0.9280038      & 1              & 0.9997714      & NA             & NA             & NA            \\\\\n",
       "\\end{tabular}\n"
      ],
      "text/markdown": [
       "\n",
       "compound_id | compound_name | disease_id | disease_name | category | status | prior_prob | prediction | training_prediction | compound_percentile | disease_percentile | n_trials | status_trials | status_drugcentral | \n",
       "|---|---|\n",
       "| Q1215575       | naproxen       | Q62736         | osteoarthritis | DM             | 1              | 0.04706        | 0.1483240      | 0.9237100      | 1              | 1.0000000      | NA             | NA             | NA             | \n",
       "| Q186969        | ibuprofen      | Q62736         | osteoarthritis | DM             | 1              | 0.05370        | 0.1446272      | 0.9280038      | 1              | 0.9997714      | NA             | NA             | NA             | \n",
       "\n",
       "\n"
      ],
      "text/plain": [
       "  compound_id compound_name disease_id disease_name   category status\n",
       "1 Q1215575    naproxen      Q62736     osteoarthritis DM       1     \n",
       "2 Q186969     ibuprofen     Q62736     osteoarthritis DM       1     \n",
       "  prior_prob prediction training_prediction compound_percentile\n",
       "1 0.04706    0.1483240  0.9237100           1                  \n",
       "2 0.05370    0.1446272  0.9280038           1                  \n",
       "  disease_percentile n_trials status_trials status_drugcentral\n",
       "1 1.0000000          NA       NA            NA                \n",
       "2 0.9997714          NA       NA            NA                "
      ]
     },
     "metadata": {},
     "output_type": "display_data"
    }
   ],
   "source": [
    "predict_df %>%\n",
    "  dplyr::arrange(desc(prediction)) %>%\n",
    "  head(2)"
   ]
  },
  {
   "cell_type": "markdown",
   "metadata": {
    "deletable": true,
    "editable": true
   },
   "source": [
    "## Calculate performance"
   ]
  },
  {
   "cell_type": "code",
   "execution_count": 21,
   "metadata": {
    "collapsed": false,
    "deletable": true,
    "editable": true
   },
   "outputs": [
    {
     "data": {
      "text/html": [
       "<table>\n",
       "<thead><tr><th scope=col>y_true_var</th><th scope=col>y_pred_var</th><th scope=col>n_pos</th><th scope=col>n_neg</th><th scope=col>auroc</th><th scope=col>auprc</th><th scope=col>tjur</th></tr></thead>\n",
       "<tbody>\n",
       "\t<tr><td>status             </td><td>compound_percentile</td><td>2969               </td><td>36143767           </td><td>0.2995384          </td><td>5.279919e-05       </td><td>-0.0017457033      </td></tr>\n",
       "\t<tr><td>status_drugcentral </td><td>compound_percentile</td><td> 121               </td><td>36143646           </td><td>0.2327324          </td><td>1.974276e-06       </td><td>-0.0135742492      </td></tr>\n",
       "\t<tr><td>status_trials      </td><td>compound_percentile</td><td>5159               </td><td>36138608           </td><td>0.1809249          </td><td>7.990948e-05       </td><td>-0.0155425771      </td></tr>\n",
       "\t<tr><td>status             </td><td>disease_percentile </td><td>2969               </td><td>36143767           </td><td>0.5095883          </td><td>7.406716e-05       </td><td> 0.1929468350      </td></tr>\n",
       "\t<tr><td>status_drugcentral </td><td>disease_percentile </td><td> 121               </td><td>36143646           </td><td>0.3630707          </td><td>2.354576e-06       </td><td> 0.0091260072      </td></tr>\n",
       "\t<tr><td>status_trials      </td><td>disease_percentile </td><td>5159               </td><td>36138608           </td><td>0.3012514          </td><td>9.150158e-05       </td><td>-0.1335562565      </td></tr>\n",
       "\t<tr><td>status             </td><td>prediction         </td><td>2969               </td><td>36143767           </td><td>0.8943534          </td><td>2.333283e-01       </td><td> 0.0069323805      </td></tr>\n",
       "\t<tr><td>status_drugcentral </td><td>prediction         </td><td> 121               </td><td>36143646           </td><td>0.6842102          </td><td>6.585197e-04       </td><td> 0.0007968921      </td></tr>\n",
       "\t<tr><td>status_trials      </td><td>prediction         </td><td>5159               </td><td>36138608           </td><td>0.5182319          </td><td>8.206027e-03       </td><td> 0.0005154359      </td></tr>\n",
       "\t<tr><td>status             </td><td>prior_prob         </td><td>2969               </td><td>36143767           </td><td>0.9971545          </td><td>4.169797e-02       </td><td> 0.0260275562      </td></tr>\n",
       "\t<tr><td>status_drugcentral </td><td>prior_prob         </td><td> 121               </td><td>36143646           </td><td>0.7747787          </td><td>2.857919e-04       </td><td> 0.0090724109      </td></tr>\n",
       "\t<tr><td>status_trials      </td><td>prior_prob         </td><td>5159               </td><td>36138608           </td><td>0.7277385          </td><td>1.047046e-02       </td><td> 0.0087708664      </td></tr>\n",
       "\t<tr><td>status             </td><td>training_prediction</td><td>2969               </td><td>  634925           </td><td>0.8947143          </td><td>3.037148e-01       </td><td> 0.1597319077      </td></tr>\n",
       "\t<tr><td>status_drugcentral </td><td>training_prediction</td><td>  68               </td><td>  634857           </td><td>0.8189031          </td><td>1.286108e-03       </td><td> 0.0365691934      </td></tr>\n",
       "\t<tr><td>status_trials      </td><td>training_prediction</td><td>2416               </td><td>  632509           </td><td>0.8007625          </td><td>3.101533e-02       </td><td> 0.0307608982      </td></tr>\n",
       "</tbody>\n",
       "</table>\n"
      ],
      "text/latex": [
       "\\begin{tabular}{r|lllllll}\n",
       " y\\_true\\_var & y\\_pred\\_var & n\\_pos & n\\_neg & auroc & auprc & tjur\\\\\n",
       "\\hline\n",
       "\t status                & compound\\_percentile & 2969                  & 36143767              & 0.2995384             & 5.279919e-05          & -0.0017457033        \\\\\n",
       "\t status\\_drugcentral  & compound\\_percentile &  121                  & 36143646              & 0.2327324             & 1.974276e-06          & -0.0135742492        \\\\\n",
       "\t status\\_trials       & compound\\_percentile & 5159                  & 36138608              & 0.1809249             & 7.990948e-05          & -0.0155425771        \\\\\n",
       "\t status                & disease\\_percentile  & 2969                  & 36143767              & 0.5095883             & 7.406716e-05          &  0.1929468350        \\\\\n",
       "\t status\\_drugcentral  & disease\\_percentile  &  121                  & 36143646              & 0.3630707             & 2.354576e-06          &  0.0091260072        \\\\\n",
       "\t status\\_trials       & disease\\_percentile  & 5159                  & 36138608              & 0.3012514             & 9.150158e-05          & -0.1335562565        \\\\\n",
       "\t status              & prediction          & 2969                & 36143767            & 0.8943534           & 2.333283e-01        &  0.0069323805      \\\\\n",
       "\t status\\_drugcentral & prediction           &  121                 & 36143646             & 0.6842102            & 6.585197e-04         &  0.0007968921       \\\\\n",
       "\t status\\_trials      & prediction           & 5159                 & 36138608             & 0.5182319            & 8.206027e-03         &  0.0005154359       \\\\\n",
       "\t status                & prior\\_prob          & 2969                  & 36143767              & 0.9971545             & 4.169797e-02          &  0.0260275562        \\\\\n",
       "\t status\\_drugcentral  & prior\\_prob          &  121                  & 36143646              & 0.7747787             & 2.857919e-04          &  0.0090724109        \\\\\n",
       "\t status\\_trials       & prior\\_prob          & 5159                  & 36138608              & 0.7277385             & 1.047046e-02          &  0.0087708664        \\\\\n",
       "\t status                & training\\_prediction & 2969                  &   634925              & 0.8947143             & 3.037148e-01          &  0.1597319077        \\\\\n",
       "\t status\\_drugcentral  & training\\_prediction &   68                  &   634857              & 0.8189031             & 1.286108e-03          &  0.0365691934        \\\\\n",
       "\t status\\_trials       & training\\_prediction & 2416                  &   632509              & 0.8007625             & 3.101533e-02          &  0.0307608982        \\\\\n",
       "\\end{tabular}\n"
      ],
      "text/markdown": [
       "\n",
       "y_true_var | y_pred_var | n_pos | n_neg | auroc | auprc | tjur | \n",
       "|---|---|---|---|---|---|---|---|---|---|---|---|---|---|---|\n",
       "| status              | compound_percentile | 2969                | 36143767            | 0.2995384           | 5.279919e-05        | -0.0017457033       | \n",
       "| status_drugcentral  | compound_percentile |  121                | 36143646            | 0.2327324           | 1.974276e-06        | -0.0135742492       | \n",
       "| status_trials       | compound_percentile | 5159                | 36138608            | 0.1809249           | 7.990948e-05        | -0.0155425771       | \n",
       "| status              | disease_percentile  | 2969                | 36143767            | 0.5095883           | 7.406716e-05        |  0.1929468350       | \n",
       "| status_drugcentral  | disease_percentile  |  121                | 36143646            | 0.3630707           | 2.354576e-06        |  0.0091260072       | \n",
       "| status_trials       | disease_percentile  | 5159                | 36138608            | 0.3012514           | 9.150158e-05        | -0.1335562565       | \n",
       "| status              | prediction          | 2969                | 36143767            | 0.8943534           | 2.333283e-01        |  0.0069323805       | \n",
       "| status_drugcentral  | prediction          |  121                | 36143646            | 0.6842102           | 6.585197e-04        |  0.0007968921       | \n",
       "| status_trials       | prediction          | 5159                | 36138608            | 0.5182319           | 8.206027e-03        |  0.0005154359       | \n",
       "| status              | prior_prob          | 2969                | 36143767            | 0.9971545           | 4.169797e-02        |  0.0260275562       | \n",
       "| status_drugcentral  | prior_prob          |  121                | 36143646            | 0.7747787           | 2.857919e-04        |  0.0090724109       | \n",
       "| status_trials       | prior_prob          | 5159                | 36138608            | 0.7277385           | 1.047046e-02        |  0.0087708664       | \n",
       "| status              | training_prediction | 2969                |   634925            | 0.8947143           | 3.037148e-01        |  0.1597319077       | \n",
       "| status_drugcentral  | training_prediction |   68                |   634857            | 0.8189031           | 1.286108e-03        |  0.0365691934       | \n",
       "| status_trials       | training_prediction | 2416                |   632509            | 0.8007625           | 3.101533e-02        |  0.0307608982       | \n",
       "\n",
       "\n"
      ],
      "text/plain": [
       "   y_true_var         y_pred_var          n_pos n_neg    auroc     auprc       \n",
       "1  status             compound_percentile 2969  36143767 0.2995384 5.279919e-05\n",
       "2  status_drugcentral compound_percentile  121  36143646 0.2327324 1.974276e-06\n",
       "3  status_trials      compound_percentile 5159  36138608 0.1809249 7.990948e-05\n",
       "4  status             disease_percentile  2969  36143767 0.5095883 7.406716e-05\n",
       "5  status_drugcentral disease_percentile   121  36143646 0.3630707 2.354576e-06\n",
       "6  status_trials      disease_percentile  5159  36138608 0.3012514 9.150158e-05\n",
       "7  status             prediction          2969  36143767 0.8943534 2.333283e-01\n",
       "8  status_drugcentral prediction           121  36143646 0.6842102 6.585197e-04\n",
       "9  status_trials      prediction          5159  36138608 0.5182319 8.206027e-03\n",
       "10 status             prior_prob          2969  36143767 0.9971545 4.169797e-02\n",
       "11 status_drugcentral prior_prob           121  36143646 0.7747787 2.857919e-04\n",
       "12 status_trials      prior_prob          5159  36138608 0.7277385 1.047046e-02\n",
       "13 status             training_prediction 2969    634925 0.8947143 3.037148e-01\n",
       "14 status_drugcentral training_prediction   68    634857 0.8189031 1.286108e-03\n",
       "15 status_trials      training_prediction 2416    632509 0.8007625 3.101533e-02\n",
       "   tjur         \n",
       "1  -0.0017457033\n",
       "2  -0.0135742492\n",
       "3  -0.0155425771\n",
       "4   0.1929468350\n",
       "5   0.0091260072\n",
       "6  -0.1335562565\n",
       "7   0.0069323805\n",
       "8   0.0007968921\n",
       "9   0.0005154359\n",
       "10  0.0260275562\n",
       "11  0.0090724109\n",
       "12  0.0087708664\n",
       "13  0.1597319077\n",
       "14  0.0365691934\n",
       "15  0.0307608982"
      ]
     },
     "metadata": {},
     "output_type": "display_data"
    }
   ],
   "source": [
    "get_metrics = function(params) {\n",
    "  y_true_var = params$y_true_var\n",
    "  y_pred_var = params$y_pred_var\n",
    "  vtm_df = predict_df[, c(y_true_var, y_pred_var)] %>% na.omit()\n",
    "  y_true = vtm_df[[1]]\n",
    "  vtm = hetior::calc_vtms(y_true = y_true, y_pred = vtm_df[[2]], is_prob = T)\n",
    "  dplyr::data_frame(\n",
    "      y_true_var = y_true_var, y_pred_var = y_pred_var,\n",
    "      n_pos = sum(y_true == 1), n_neg = sum(y_true == 0),\n",
    "      auroc = vtm$auroc, auprc = vtm$auprc, tjur = vtm$tjur\n",
    "  ) %>% return()\n",
    "}\n",
    "\n",
    "perf_df = tidyr::crossing(\n",
    "  y_pred_var = c('prediction', 'compound_percentile', 'disease_percentile', 'training_prediction', 'prior_prob'),\n",
    "  y_true_var = c('status', 'status_drugcentral', 'status_trials')\n",
    ") %>%\n",
    "  dplyr::rowwise() %>%\n",
    "  dplyr::do(get_metrics(.))\n",
    "\n",
    "perf_df"
   ]
  },
  {
   "cell_type": "markdown",
   "metadata": {
    "deletable": true,
    "editable": true
   },
   "source": [
    "## Write results to TSVs"
   ]
  },
  {
   "cell_type": "code",
   "execution_count": 22,
   "metadata": {
    "collapsed": false,
    "deletable": true,
    "editable": true
   },
   "outputs": [],
   "source": [
    "perf_df %>% readr::write_tsv('predictions/performance.tsv')\n",
    "fit$coef_df %>% readr::write_tsv('model/coefficient.tsv')\n",
    "predict_df %>% readr::write_tsv('predictions/probabilities.tsv', na = '')"
   ]
  },
  {
   "cell_type": "markdown",
   "metadata": {
    "deletable": true,
    "editable": true
   },
   "source": [
    "## Write an xlsx with top predictions"
   ]
  },
  {
   "cell_type": "code",
   "execution_count": 50,
   "metadata": {
    "collapsed": false,
    "deletable": true,
    "editable": true
   },
   "outputs": [
    {
     "name": "stderr",
     "output_type": "stream",
     "text": [
      "Joining by: c(\"compound_id\", \"disease_id\")\n",
      "Warning message:\n",
      ": Overwriting existing cell data.Warning message:\n",
      ": Overwriting existing cell data."
     ]
    }
   ],
   "source": [
    "# Read trials\n",
    "url = 'https://github.com/dhimmel/clintrials/blob/7c65dec7b69322ca2f8ba2b170c1b3dbd92ebff8/data/DrugBank-DO-slim.tsv?raw=true'\n",
    "trial_df = readr::read_tsv(url) %>%\n",
    "  dplyr::group_by(compound_id, disease_id) %>%\n",
    "  dplyr::summarize(n_trials = n()) %>%\n",
    "  dplyr::ungroup()\n",
    "\n",
    "# Extract most pertinent columns and top predictions\n",
    "top_df = predict_df %>%\n",
    "  dplyr::arrange(desc(prediction)) %>%\n",
    "  dplyr::select(compound_id, disease_id, compound_name, disease_name, category, prediction, compound_percentile, disease_percentile, prior_prob) %>%\n",
    "  dplyr::filter((prediction > 0.01)) %>%\n",
    "  dplyr::left_join(trial_df) %>%\n",
    "  dplyr::mutate(n_trials = ifelse(is.na(n_trials), 0, n_trials))\n",
    "\n",
    "compound_hyperlink = setNames(paste0('http://www.drugbank.ca/drugs/', top_df$compound_id), top_df$compound_name)\n",
    "disease_hyperlink = setNames(paste0('http://www.disease-ontology.org/?id=', top_df$disease_id), top_df$disease_name)\n",
    "class(compound_hyperlink) = 'hyperlink'\n",
    "class(disease_hyperlink) = 'hyperlink'\n",
    "top_df %<>% dplyr::select(-ends_with('_id'))\n",
    "\n",
    "# Convert columns to percent for pretty formatting\n",
    "percent_cols = c('prediction', 'compound_percentile', 'disease_percentile', 'prior_prob')\n",
    "for (percent_col in percent_cols) {\n",
    "  class(top_df[[percent_col]]) = 'percentage'\n",
    "}\n",
    "\n",
    "# Write to an excel file\n",
    "workbook = openxlsx::createWorkbook('Project Rephetio')\n",
    "sheet = 'Top Predictions'\n",
    "openxlsx::addWorksheet(workbook, sheet)\n",
    "openxlsx::writeDataTable(workbook, sheet, top_df)\n",
    "openxlsx::writeData(workbook, sheet, compound_hyperlink, startCol = 1, startRow = 2)\n",
    "openxlsx::writeData(workbook, sheet, disease_hyperlink, startCol = 2, startRow = 2)\n",
    "openxlsx::freezePane(workbook, sheet, firstRow = T)\n",
    "openxlsx::setColWidths(workbook, sheet, cols=1:7, widths='auto')\n",
    "openxlsx::saveWorkbook(workbook, './predictions/top-predictions.xlsx', overwrite = T)"
   ]
  }
 ],
 "metadata": {
  "kernelspec": {
   "display_name": "R",
   "language": "R",
   "name": "ir"
  },
  "language_info": {
   "codemirror_mode": "r",
   "file_extension": ".r",
   "mimetype": "text/x-r-source",
   "name": "R",
   "pygments_lexer": "r",
   "version": "3.3.2"
  }
 },
 "nbformat": 4,
 "nbformat_minor": 0
}
