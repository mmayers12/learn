{
 "cells": [
  {
   "cell_type": "markdown",
   "metadata": {
    "deletable": true,
    "editable": true
   },
   "source": [
    "# Prepare per observation details"
   ]
  },
  {
   "cell_type": "code",
   "execution_count": 2,
   "metadata": {
    "collapsed": false,
    "deletable": true,
    "editable": true
   },
   "outputs": [],
   "source": [
    "import collections\n",
    "import json\n",
    "import bz2\n",
    "import os\n",
    "import configparser\n",
    "\n",
    "import pandas\n",
    "import numpy\n",
    "from scipy.special import logit\n",
    "#from neo4j.v1 import GraphDatabase\n",
    "\n",
    "import hetio.readwrite\n",
    "import hetio.neo4j"
   ]
  },
  {
   "cell_type": "code",
   "execution_count": 3,
   "metadata": {
    "collapsed": false,
    "deletable": true,
    "editable": true
   },
   "outputs": [
    {
     "ename": "CParserError",
     "evalue": "Error tokenizing data. C error: Calling read(nbytes) on source failed. Try engine='python'.",
     "output_type": "error",
     "traceback": [
      "\u001b[1;31m---------------------------------------------------------------------------\u001b[0m",
      "\u001b[1;31mCParserError\u001b[0m                              Traceback (most recent call last)",
      "\u001b[1;32m<ipython-input-3-e14cf16142d0>\u001b[0m in \u001b[0;36m<module>\u001b[1;34m()\u001b[0m\n\u001b[0;32m      1\u001b[0m \u001b[0mcoef_df\u001b[0m \u001b[1;33m=\u001b[0m \u001b[0mpandas\u001b[0m\u001b[1;33m.\u001b[0m\u001b[0mread_table\u001b[0m\u001b[1;33m(\u001b[0m\u001b[1;34m'model/coefficient.tsv'\u001b[0m\u001b[1;33m)\u001b[0m\u001b[1;33m\u001b[0m\u001b[0m\n\u001b[1;32m----> 2\u001b[1;33m \u001b[0mfeature_df\u001b[0m \u001b[1;33m=\u001b[0m \u001b[0mpandas\u001b[0m\u001b[1;33m.\u001b[0m\u001b[0mread_table\u001b[0m\u001b[1;33m(\u001b[0m\u001b[1;34m'features/transformed-features.tsv.bz2'\u001b[0m\u001b[1;33m,\u001b[0m \u001b[0mlow_memory\u001b[0m\u001b[1;33m=\u001b[0m\u001b[1;32mFalse\u001b[0m\u001b[1;33m)\u001b[0m\u001b[1;33m\u001b[0m\u001b[0m\n\u001b[0m",
      "\u001b[1;32m/opt/mmayers/software/anaconda3/envs/integrate/lib/python3.5/site-packages/pandas/io/parsers.py\u001b[0m in \u001b[0;36mparser_f\u001b[1;34m(filepath_or_buffer, sep, dialect, compression, doublequote, escapechar, quotechar, quoting, skipinitialspace, lineterminator, header, index_col, names, prefix, skiprows, skipfooter, skip_footer, na_values, true_values, false_values, delimiter, converters, dtype, usecols, engine, delim_whitespace, as_recarray, na_filter, compact_ints, use_unsigned, low_memory, buffer_lines, warn_bad_lines, error_bad_lines, keep_default_na, thousands, comment, decimal, parse_dates, keep_date_col, dayfirst, date_parser, memory_map, float_precision, nrows, iterator, chunksize, verbose, encoding, squeeze, mangle_dupe_cols, tupleize_cols, infer_datetime_format, skip_blank_lines)\u001b[0m\n\u001b[0;32m    496\u001b[0m                     skip_blank_lines=skip_blank_lines)\n\u001b[0;32m    497\u001b[0m \u001b[1;33m\u001b[0m\u001b[0m\n\u001b[1;32m--> 498\u001b[1;33m         \u001b[1;32mreturn\u001b[0m \u001b[0m_read\u001b[0m\u001b[1;33m(\u001b[0m\u001b[0mfilepath_or_buffer\u001b[0m\u001b[1;33m,\u001b[0m \u001b[0mkwds\u001b[0m\u001b[1;33m)\u001b[0m\u001b[1;33m\u001b[0m\u001b[0m\n\u001b[0m\u001b[0;32m    499\u001b[0m \u001b[1;33m\u001b[0m\u001b[0m\n\u001b[0;32m    500\u001b[0m     \u001b[0mparser_f\u001b[0m\u001b[1;33m.\u001b[0m\u001b[0m__name__\u001b[0m \u001b[1;33m=\u001b[0m \u001b[0mname\u001b[0m\u001b[1;33m\u001b[0m\u001b[0m\n",
      "\u001b[1;32m/opt/mmayers/software/anaconda3/envs/integrate/lib/python3.5/site-packages/pandas/io/parsers.py\u001b[0m in \u001b[0;36m_read\u001b[1;34m(filepath_or_buffer, kwds)\u001b[0m\n\u001b[0;32m    283\u001b[0m         \u001b[1;32mreturn\u001b[0m \u001b[0mparser\u001b[0m\u001b[1;33m\u001b[0m\u001b[0m\n\u001b[0;32m    284\u001b[0m \u001b[1;33m\u001b[0m\u001b[0m\n\u001b[1;32m--> 285\u001b[1;33m     \u001b[1;32mreturn\u001b[0m \u001b[0mparser\u001b[0m\u001b[1;33m.\u001b[0m\u001b[0mread\u001b[0m\u001b[1;33m(\u001b[0m\u001b[1;33m)\u001b[0m\u001b[1;33m\u001b[0m\u001b[0m\n\u001b[0m\u001b[0;32m    286\u001b[0m \u001b[1;33m\u001b[0m\u001b[0m\n\u001b[0;32m    287\u001b[0m _parser_defaults = {\n",
      "\u001b[1;32m/opt/mmayers/software/anaconda3/envs/integrate/lib/python3.5/site-packages/pandas/io/parsers.py\u001b[0m in \u001b[0;36mread\u001b[1;34m(self, nrows)\u001b[0m\n\u001b[0;32m    745\u001b[0m                 \u001b[1;32mraise\u001b[0m \u001b[0mValueError\u001b[0m\u001b[1;33m(\u001b[0m\u001b[1;34m'skip_footer not supported for iteration'\u001b[0m\u001b[1;33m)\u001b[0m\u001b[1;33m\u001b[0m\u001b[0m\n\u001b[0;32m    746\u001b[0m \u001b[1;33m\u001b[0m\u001b[0m\n\u001b[1;32m--> 747\u001b[1;33m         \u001b[0mret\u001b[0m \u001b[1;33m=\u001b[0m \u001b[0mself\u001b[0m\u001b[1;33m.\u001b[0m\u001b[0m_engine\u001b[0m\u001b[1;33m.\u001b[0m\u001b[0mread\u001b[0m\u001b[1;33m(\u001b[0m\u001b[0mnrows\u001b[0m\u001b[1;33m)\u001b[0m\u001b[1;33m\u001b[0m\u001b[0m\n\u001b[0m\u001b[0;32m    748\u001b[0m \u001b[1;33m\u001b[0m\u001b[0m\n\u001b[0;32m    749\u001b[0m         \u001b[1;32mif\u001b[0m \u001b[0mself\u001b[0m\u001b[1;33m.\u001b[0m\u001b[0moptions\u001b[0m\u001b[1;33m.\u001b[0m\u001b[0mget\u001b[0m\u001b[1;33m(\u001b[0m\u001b[1;34m'as_recarray'\u001b[0m\u001b[1;33m)\u001b[0m\u001b[1;33m:\u001b[0m\u001b[1;33m\u001b[0m\u001b[0m\n",
      "\u001b[1;32m/opt/mmayers/software/anaconda3/envs/integrate/lib/python3.5/site-packages/pandas/io/parsers.py\u001b[0m in \u001b[0;36mread\u001b[1;34m(self, nrows)\u001b[0m\n\u001b[0;32m   1195\u001b[0m     \u001b[1;32mdef\u001b[0m \u001b[0mread\u001b[0m\u001b[1;33m(\u001b[0m\u001b[0mself\u001b[0m\u001b[1;33m,\u001b[0m \u001b[0mnrows\u001b[0m\u001b[1;33m=\u001b[0m\u001b[1;32mNone\u001b[0m\u001b[1;33m)\u001b[0m\u001b[1;33m:\u001b[0m\u001b[1;33m\u001b[0m\u001b[0m\n\u001b[0;32m   1196\u001b[0m         \u001b[1;32mtry\u001b[0m\u001b[1;33m:\u001b[0m\u001b[1;33m\u001b[0m\u001b[0m\n\u001b[1;32m-> 1197\u001b[1;33m             \u001b[0mdata\u001b[0m \u001b[1;33m=\u001b[0m \u001b[0mself\u001b[0m\u001b[1;33m.\u001b[0m\u001b[0m_reader\u001b[0m\u001b[1;33m.\u001b[0m\u001b[0mread\u001b[0m\u001b[1;33m(\u001b[0m\u001b[0mnrows\u001b[0m\u001b[1;33m)\u001b[0m\u001b[1;33m\u001b[0m\u001b[0m\n\u001b[0m\u001b[0;32m   1198\u001b[0m         \u001b[1;32mexcept\u001b[0m \u001b[0mStopIteration\u001b[0m\u001b[1;33m:\u001b[0m\u001b[1;33m\u001b[0m\u001b[0m\n\u001b[0;32m   1199\u001b[0m             \u001b[1;32mif\u001b[0m \u001b[0mself\u001b[0m\u001b[1;33m.\u001b[0m\u001b[0m_first_chunk\u001b[0m\u001b[1;33m:\u001b[0m\u001b[1;33m\u001b[0m\u001b[0m\n",
      "\u001b[1;32mpandas/parser.pyx\u001b[0m in \u001b[0;36mpandas.parser.TextReader.read (pandas/parser.c:8011)\u001b[1;34m()\u001b[0m\n",
      "\u001b[1;32mpandas/parser.pyx\u001b[0m in \u001b[0;36mpandas.parser.TextReader._read_rows (pandas/parser.c:9140)\u001b[1;34m()\u001b[0m\n",
      "\u001b[1;32mpandas/parser.pyx\u001b[0m in \u001b[0;36mpandas.parser.raise_parser_error (pandas/parser.c:22649)\u001b[1;34m()\u001b[0m\n",
      "\u001b[1;31mCParserError\u001b[0m: Error tokenizing data. C error: Calling read(nbytes) on source failed. Try engine='python'."
     ]
    }
   ],
   "source": [
    "coef_df = pandas.read_table('model/coefficient.tsv')\n",
    "feature_df = pandas.read_table('features/transformed-features.tsv.bz2', low_memory=False)"
   ]
  },
  {
   "cell_type": "code",
   "execution_count": 3,
   "metadata": {
    "collapsed": true,
    "deletable": true,
    "editable": true
   },
   "outputs": [],
   "source": [
    "drop = {'prior_logit', 'intercept'}\n",
    "coef_df = coef_df.query(\"feature not in @drop\")\n",
    "coef_df = coef_df.query(\"coef != 0\")\n",
    "coef_df = coef_df.sort_values('coef')"
   ]
  },
  {
   "cell_type": "markdown",
   "metadata": {
    "deletable": true,
    "editable": true
   },
   "source": [
    "## Term contribution"
   ]
  },
  {
   "cell_type": "code",
   "execution_count": 4,
   "metadata": {
    "collapsed": false,
    "deletable": true,
    "editable": true
   },
   "outputs": [],
   "source": [
    "coef_series = pandas.Series(data=coef_df.coef.tolist(), index=coef_df.feature)\n",
    "contrib_df = feature_df[coef_df.feature].mul(coef_series, axis='columns')\n",
    "contrib_df = feature_df[['compound_id', 'disease_id']].join(contrib_df)"
   ]
  },
  {
   "cell_type": "code",
   "execution_count": 5,
   "metadata": {
    "collapsed": false,
    "deletable": true,
    "editable": true
   },
   "outputs": [
    {
     "data": {
      "text/html": [
       "<div>\n",
       "<table border=\"1\" class=\"dataframe\">\n",
       "  <thead>\n",
       "    <tr style=\"text-align: right;\">\n",
       "      <th></th>\n",
       "      <th>compound_id</th>\n",
       "      <th>disease_id</th>\n",
       "      <th>degree_CrC</th>\n",
       "      <th>degree_CiPC</th>\n",
       "      <th>dwpc_CiPCiCdGaD</th>\n",
       "      <th>dwpc_CbGdDdGaD</th>\n",
       "      <th>dwpc_CrCuGaDrD</th>\n",
       "      <th>dwpc_CrCdGiGaD</th>\n",
       "      <th>dwpc_CrCuG&lt;rGaD</th>\n",
       "      <th>dwpc_CrCdGeAlD</th>\n",
       "      <th>...</th>\n",
       "      <th>dwpc_CbGeAlD</th>\n",
       "      <th>dwpc_CbGpPWpGaD</th>\n",
       "      <th>dwpc_CpDpCtD</th>\n",
       "      <th>dwpc_CcSEcCtD</th>\n",
       "      <th>dwpc_CrCrCtD</th>\n",
       "      <th>dwpc_CtDrD</th>\n",
       "      <th>dwpc_CrCtD</th>\n",
       "      <th>dwpc_CiPCiCtD</th>\n",
       "      <th>dwpc_CbGaD</th>\n",
       "      <th>dwpc_CbGbCtD</th>\n",
       "    </tr>\n",
       "  </thead>\n",
       "  <tbody>\n",
       "    <tr>\n",
       "      <th>0</th>\n",
       "      <td>DB01048</td>\n",
       "      <td>DOID:10652</td>\n",
       "      <td>0.111438</td>\n",
       "      <td>-0.102151</td>\n",
       "      <td>-0.144767</td>\n",
       "      <td>-0.166562</td>\n",
       "      <td>-0.020455</td>\n",
       "      <td>-0.032502</td>\n",
       "      <td>-0.032995</td>\n",
       "      <td>0.003374</td>\n",
       "      <td>...</td>\n",
       "      <td>-0.011480</td>\n",
       "      <td>0.041510</td>\n",
       "      <td>-0.005732</td>\n",
       "      <td>0.142106</td>\n",
       "      <td>-0.020583</td>\n",
       "      <td>-0.016584</td>\n",
       "      <td>-0.016985</td>\n",
       "      <td>-0.016315</td>\n",
       "      <td>-0.070953</td>\n",
       "      <td>-0.114095</td>\n",
       "    </tr>\n",
       "    <tr>\n",
       "      <th>1</th>\n",
       "      <td>DB05812</td>\n",
       "      <td>DOID:10652</td>\n",
       "      <td>0.203591</td>\n",
       "      <td>0.055180</td>\n",
       "      <td>0.020172</td>\n",
       "      <td>0.005132</td>\n",
       "      <td>0.005451</td>\n",
       "      <td>-0.039674</td>\n",
       "      <td>-0.016017</td>\n",
       "      <td>0.004326</td>\n",
       "      <td>...</td>\n",
       "      <td>0.001456</td>\n",
       "      <td>0.059534</td>\n",
       "      <td>-0.005732</td>\n",
       "      <td>0.137955</td>\n",
       "      <td>-0.020583</td>\n",
       "      <td>-0.016584</td>\n",
       "      <td>-0.016985</td>\n",
       "      <td>-0.016315</td>\n",
       "      <td>0.243182</td>\n",
       "      <td>0.296602</td>\n",
       "    </tr>\n",
       "  </tbody>\n",
       "</table>\n",
       "<p>2 rows × 32 columns</p>\n",
       "</div>"
      ],
      "text/plain": [
       "  compound_id  disease_id  degree_CrC  degree_CiPC  dwpc_CiPCiCdGaD  \\\n",
       "0     DB01048  DOID:10652    0.111438    -0.102151        -0.144767   \n",
       "1     DB05812  DOID:10652    0.203591     0.055180         0.020172   \n",
       "\n",
       "   dwpc_CbGdDdGaD  dwpc_CrCuGaDrD  dwpc_CrCdGiGaD  dwpc_CrCuG<rGaD  \\\n",
       "0       -0.166562       -0.020455       -0.032502        -0.032995   \n",
       "1        0.005132        0.005451       -0.039674        -0.016017   \n",
       "\n",
       "   dwpc_CrCdGeAlD      ...       dwpc_CbGeAlD  dwpc_CbGpPWpGaD  dwpc_CpDpCtD  \\\n",
       "0        0.003374      ...          -0.011480         0.041510     -0.005732   \n",
       "1        0.004326      ...           0.001456         0.059534     -0.005732   \n",
       "\n",
       "   dwpc_CcSEcCtD  dwpc_CrCrCtD  dwpc_CtDrD  dwpc_CrCtD  dwpc_CiPCiCtD  \\\n",
       "0       0.142106     -0.020583   -0.016584   -0.016985      -0.016315   \n",
       "1       0.137955     -0.020583   -0.016584   -0.016985      -0.016315   \n",
       "\n",
       "   dwpc_CbGaD  dwpc_CbGbCtD  \n",
       "0   -0.070953     -0.114095  \n",
       "1    0.243182      0.296602  \n",
       "\n",
       "[2 rows x 32 columns]"
      ]
     },
     "execution_count": 5,
     "metadata": {},
     "output_type": "execute_result"
    }
   ],
   "source": [
    "contrib_df.head(2)"
   ]
  },
  {
   "cell_type": "code",
   "execution_count": 6,
   "metadata": {
    "collapsed": true,
    "deletable": true,
    "editable": true
   },
   "outputs": [],
   "source": [
    "with bz2.open('./predictions/term-contribution.tsv.bz2', 'wt') as write_file:\n",
    "    contrib_df.to_csv(write_file, float_format='%.5g', sep='\\t', index=False)"
   ]
  },
  {
   "cell_type": "markdown",
   "metadata": {
    "deletable": true,
    "editable": true
   },
   "source": [
    "## Metapath contribution"
   ]
  },
  {
   "cell_type": "code",
   "execution_count": 7,
   "metadata": {
    "collapsed": false,
    "deletable": true,
    "editable": true
   },
   "outputs": [
    {
     "data": {
      "text/html": [
       "<div>\n",
       "<table border=\"1\" class=\"dataframe\">\n",
       "  <thead>\n",
       "    <tr style=\"text-align: right;\">\n",
       "      <th></th>\n",
       "      <th>feature</th>\n",
       "      <th>coef</th>\n",
       "      <th>zcoef</th>\n",
       "      <th>metapath</th>\n",
       "    </tr>\n",
       "  </thead>\n",
       "  <tbody>\n",
       "    <tr>\n",
       "      <th>37</th>\n",
       "      <td>dwpc_CbGdCrCtD</td>\n",
       "      <td>0.000694</td>\n",
       "      <td>0.001141</td>\n",
       "      <td>CbGdCrCtD</td>\n",
       "    </tr>\n",
       "    <tr>\n",
       "      <th>101</th>\n",
       "      <td>dwpc_CrCbGaD</td>\n",
       "      <td>0.002035</td>\n",
       "      <td>0.002283</td>\n",
       "      <td>CrCbGaD</td>\n",
       "    </tr>\n",
       "  </tbody>\n",
       "</table>\n",
       "</div>"
      ],
      "text/plain": [
       "            feature      coef     zcoef   metapath\n",
       "37   dwpc_CbGdCrCtD  0.000694  0.001141  CbGdCrCtD\n",
       "101    dwpc_CrCbGaD  0.002035  0.002283    CrCbGaD"
      ]
     },
     "execution_count": 7,
     "metadata": {},
     "output_type": "execute_result"
    }
   ],
   "source": [
    "pos_dwpc_coef_df = coef_df[(coef_df.feature.str.startswith('dwpc_')) & (coef_df.coef > 0)].copy()\n",
    "pos_dwpc_coef_df['metapath'] = pos_dwpc_coef_df.feature.map(lambda x: x.split('_')[1])\n",
    "pos_dwpc_coef_df.head(2)"
   ]
  },
  {
   "cell_type": "code",
   "execution_count": 8,
   "metadata": {
    "collapsed": false,
    "deletable": true,
    "editable": true
   },
   "outputs": [
    {
     "data": {
      "text/html": [
       "<div>\n",
       "<table border=\"1\" class=\"dataframe\">\n",
       "  <thead>\n",
       "    <tr style=\"text-align: right;\">\n",
       "      <th></th>\n",
       "      <th>compound_id</th>\n",
       "      <th>disease_id</th>\n",
       "      <th>CbGdCrCtD</th>\n",
       "      <th>CrCbGaD</th>\n",
       "      <th>CbGeAlD</th>\n",
       "      <th>CbGpPWpGaD</th>\n",
       "      <th>CpDpCtD</th>\n",
       "      <th>CcSEcCtD</th>\n",
       "      <th>CrCrCtD</th>\n",
       "      <th>CtDrD</th>\n",
       "      <th>CrCtD</th>\n",
       "      <th>CiPCiCtD</th>\n",
       "      <th>CbGaD</th>\n",
       "      <th>CbGbCtD</th>\n",
       "    </tr>\n",
       "  </thead>\n",
       "  <tbody>\n",
       "    <tr>\n",
       "      <th>0</th>\n",
       "      <td>DB01048</td>\n",
       "      <td>DOID:10652</td>\n",
       "      <td>0.0</td>\n",
       "      <td>0.0</td>\n",
       "      <td>0.000000</td>\n",
       "      <td>0.22607</td>\n",
       "      <td>0.0</td>\n",
       "      <td>0.773930</td>\n",
       "      <td>0.0</td>\n",
       "      <td>0.0</td>\n",
       "      <td>0.0</td>\n",
       "      <td>0.0</td>\n",
       "      <td>0.00000</td>\n",
       "      <td>0.000000</td>\n",
       "    </tr>\n",
       "    <tr>\n",
       "      <th>1</th>\n",
       "      <td>DB05812</td>\n",
       "      <td>DOID:10652</td>\n",
       "      <td>0.0</td>\n",
       "      <td>0.0</td>\n",
       "      <td>0.001971</td>\n",
       "      <td>0.08059</td>\n",
       "      <td>0.0</td>\n",
       "      <td>0.186746</td>\n",
       "      <td>0.0</td>\n",
       "      <td>0.0</td>\n",
       "      <td>0.0</td>\n",
       "      <td>0.0</td>\n",
       "      <td>0.32919</td>\n",
       "      <td>0.401503</td>\n",
       "    </tr>\n",
       "  </tbody>\n",
       "</table>\n",
       "</div>"
      ],
      "text/plain": [
       "  compound_id  disease_id  CbGdCrCtD  CrCbGaD   CbGeAlD  CbGpPWpGaD  CpDpCtD  \\\n",
       "0     DB01048  DOID:10652        0.0      0.0  0.000000     0.22607      0.0   \n",
       "1     DB05812  DOID:10652        0.0      0.0  0.001971     0.08059      0.0   \n",
       "\n",
       "   CcSEcCtD  CrCrCtD  CtDrD  CrCtD  CiPCiCtD    CbGaD   CbGbCtD  \n",
       "0  0.773930      0.0    0.0    0.0       0.0  0.00000  0.000000  \n",
       "1  0.186746      0.0    0.0    0.0       0.0  0.32919  0.401503  "
      ]
     },
     "execution_count": 8,
     "metadata": {},
     "output_type": "execute_result"
    }
   ],
   "source": [
    "# Estimate of percent contribution of each positive term with a positive coefficient\n",
    "pos_contrib_df = contrib_df[pos_dwpc_coef_df.feature].copy()\n",
    "pos_contrib_df[pos_contrib_df < 0] = 0\n",
    "observation_total = pos_contrib_df.sum(axis='columns')\n",
    "pos_contrib_df = pos_contrib_df.div(observation_total, axis='index')\n",
    "pos_contrib_df.columns = [x.split('_')[1] for x in pos_contrib_df.columns]\n",
    "pos_contrib_df = contrib_df[['compound_id', 'disease_id']].join(pos_contrib_df)\n",
    "#pos_contrib_df = predict_df.merge(pos_contrib_df)\n",
    "#pos_contrib_df.sort_values('prediction', inplace=True, ascending=True)\n",
    "pos_contrib_df.head(2)"
   ]
  },
  {
   "cell_type": "code",
   "execution_count": 9,
   "metadata": {
    "collapsed": true,
    "deletable": true,
    "editable": true
   },
   "outputs": [],
   "source": [
    "with bz2.open('./predictions/metapath-contribution.tsv.bz2', 'wt') as write_file:\n",
    "    pos_contrib_df.to_csv(write_file, float_format='%.4g', sep='\\t', index=False)"
   ]
  },
  {
   "cell_type": "markdown",
   "metadata": {
    "deletable": true,
    "editable": true
   },
   "source": [
    "## Contribution by path"
   ]
  },
  {
   "cell_type": "code",
   "execution_count": 10,
   "metadata": {
    "collapsed": false,
    "deletable": true,
    "editable": true
   },
   "outputs": [
    {
     "data": {
      "text/plain": [
       "209168"
      ]
     },
     "execution_count": 10,
     "metadata": {},
     "output_type": "execute_result"
    }
   ],
   "source": [
    "predict_df = (\n",
    "    pandas.read_table('predictions/probabilities.tsv', low_memory=False)\n",
    "#    .query(\"prediction > 0.50\") # Reduce the prediction set for easy testing\n",
    ")\n",
    "predict_df.head()\n",
    "len(predict_df)"
   ]
  },
  {
   "cell_type": "code",
   "execution_count": 11,
   "metadata": {
    "collapsed": false,
    "deletable": true,
    "editable": true
   },
   "outputs": [],
   "source": [
    "# Create a dictionary of (compound_id, disease_id, metapath) keys to lookup untransformed DWPCs\n",
    "untran_df = pandas.read_table('features/features.tsv.bz2', low_memory=False)\n",
    "\n",
    "dwpc_melt_df = pandas.melt(untran_df, id_vars=['compound_id', 'disease_id'],\n",
    "    value_vars=list(pos_dwpc_coef_df.feature), var_name='metapath', value_name='dwpc')\n",
    "untran_dwpc_map = dict()\n",
    "for row in dwpc_melt_df.itertuples():\n",
    "    key = row.compound_id, row.disease_id, row.metapath\n",
    "    untran_dwpc_map[key] = row.dwpc"
   ]
  },
  {
   "cell_type": "markdown",
   "metadata": {
    "deletable": true,
    "editable": true
   },
   "source": [
    "## Prepare a list of observations"
   ]
  },
  {
   "cell_type": "code",
   "execution_count": 12,
   "metadata": {
    "collapsed": false,
    "deletable": true,
    "editable": true,
    "scrolled": true
   },
   "outputs": [
    {
     "data": {
      "text/plain": [
       "209168"
      ]
     },
     "execution_count": 12,
     "metadata": {},
     "output_type": "execute_result"
    }
   ],
   "source": [
    "obj = list()\n",
    "\n",
    "pos_contrib_df\n",
    "\n",
    "for i, row in predict_df.merge(pos_contrib_df).iterrows():\n",
    "    observation = collections.OrderedDict()\n",
    "    compound_id = row['compound_id']\n",
    "    disease_id = row['disease_id']\n",
    "    for key in ['compound_id', 'compound_name', 'disease_id', 'disease_name', 'category', 'status', 'prediction', 'training_prediction', 'compound_percentile', 'disease_percentile', 'n_trials']:\n",
    "        value = row[key]\n",
    "        if pandas.notnull(value):\n",
    "            observation[key] = value\n",
    "    contribs = collections.OrderedDict()\n",
    "    for metapath in pos_dwpc_coef_df.metapath:\n",
    "        percent_contrib = row[metapath]\n",
    "        if percent_contrib == 0 or pandas.isnull(percent_contrib):\n",
    "            continue\n",
    "        contribs[metapath] = percent_contrib\n",
    "    observation['metapath_contribution'] = contribs\n",
    "    obj.append(observation)\n",
    "len(obj)"
   ]
  },
  {
   "cell_type": "code",
   "execution_count": 13,
   "metadata": {
    "collapsed": false,
    "deletable": true,
    "editable": true
   },
   "outputs": [
    {
     "data": {
      "text/html": [
       "<div>\n",
       "<table border=\"1\" class=\"dataframe\">\n",
       "  <thead>\n",
       "    <tr style=\"text-align: right;\">\n",
       "      <th></th>\n",
       "      <th>compound_id</th>\n",
       "      <th>compound_name</th>\n",
       "      <th>disease_id</th>\n",
       "      <th>disease_name</th>\n",
       "      <th>category</th>\n",
       "      <th>status</th>\n",
       "      <th>prior_prob</th>\n",
       "      <th>prediction</th>\n",
       "      <th>training_prediction</th>\n",
       "      <th>compound_percentile</th>\n",
       "      <th>disease_percentile</th>\n",
       "      <th>n_trials</th>\n",
       "      <th>status_trials</th>\n",
       "      <th>status_drugcentral</th>\n",
       "    </tr>\n",
       "  </thead>\n",
       "  <tbody>\n",
       "    <tr>\n",
       "      <th>0</th>\n",
       "      <td>DB01048</td>\n",
       "      <td>Abacavir</td>\n",
       "      <td>DOID:10652</td>\n",
       "      <td>Alzheimer's disease</td>\n",
       "      <td>NaN</td>\n",
       "      <td>0</td>\n",
       "      <td>0.004753</td>\n",
       "      <td>0.000930</td>\n",
       "      <td>0.001129</td>\n",
       "      <td>0.125000</td>\n",
       "      <td>0.154746</td>\n",
       "      <td>0.0</td>\n",
       "      <td>0.0</td>\n",
       "      <td>0.0</td>\n",
       "    </tr>\n",
       "    <tr>\n",
       "      <th>1</th>\n",
       "      <td>DB05812</td>\n",
       "      <td>Abiraterone</td>\n",
       "      <td>DOID:10652</td>\n",
       "      <td>Alzheimer's disease</td>\n",
       "      <td>NaN</td>\n",
       "      <td>0</td>\n",
       "      <td>0.004753</td>\n",
       "      <td>0.003795</td>\n",
       "      <td>0.004604</td>\n",
       "      <td>0.757353</td>\n",
       "      <td>0.842653</td>\n",
       "      <td>0.0</td>\n",
       "      <td>0.0</td>\n",
       "      <td>0.0</td>\n",
       "    </tr>\n",
       "    <tr>\n",
       "      <th>2</th>\n",
       "      <td>DB00659</td>\n",
       "      <td>Acamprosate</td>\n",
       "      <td>DOID:10652</td>\n",
       "      <td>Alzheimer's disease</td>\n",
       "      <td>NaN</td>\n",
       "      <td>0</td>\n",
       "      <td>0.004753</td>\n",
       "      <td>0.016230</td>\n",
       "      <td>0.019638</td>\n",
       "      <td>0.985294</td>\n",
       "      <td>0.988296</td>\n",
       "      <td>0.0</td>\n",
       "      <td>0.0</td>\n",
       "      <td>0.0</td>\n",
       "    </tr>\n",
       "    <tr>\n",
       "      <th>3</th>\n",
       "      <td>DB00284</td>\n",
       "      <td>Acarbose</td>\n",
       "      <td>DOID:10652</td>\n",
       "      <td>Alzheimer's disease</td>\n",
       "      <td>NaN</td>\n",
       "      <td>0</td>\n",
       "      <td>0.004753</td>\n",
       "      <td>0.001469</td>\n",
       "      <td>0.001783</td>\n",
       "      <td>0.595588</td>\n",
       "      <td>0.368661</td>\n",
       "      <td>0.0</td>\n",
       "      <td>0.0</td>\n",
       "      <td>0.0</td>\n",
       "    </tr>\n",
       "    <tr>\n",
       "      <th>4</th>\n",
       "      <td>DB01193</td>\n",
       "      <td>Acebutolol</td>\n",
       "      <td>DOID:10652</td>\n",
       "      <td>Alzheimer's disease</td>\n",
       "      <td>NaN</td>\n",
       "      <td>0</td>\n",
       "      <td>0.004753</td>\n",
       "      <td>0.001774</td>\n",
       "      <td>0.002153</td>\n",
       "      <td>0.772059</td>\n",
       "      <td>0.472042</td>\n",
       "      <td>0.0</td>\n",
       "      <td>0.0</td>\n",
       "      <td>0.0</td>\n",
       "    </tr>\n",
       "  </tbody>\n",
       "</table>\n",
       "</div>"
      ],
      "text/plain": [
       "  compound_id compound_name  disease_id         disease_name category  status  \\\n",
       "0     DB01048      Abacavir  DOID:10652  Alzheimer's disease      NaN       0   \n",
       "1     DB05812   Abiraterone  DOID:10652  Alzheimer's disease      NaN       0   \n",
       "2     DB00659   Acamprosate  DOID:10652  Alzheimer's disease      NaN       0   \n",
       "3     DB00284      Acarbose  DOID:10652  Alzheimer's disease      NaN       0   \n",
       "4     DB01193    Acebutolol  DOID:10652  Alzheimer's disease      NaN       0   \n",
       "\n",
       "   prior_prob  prediction  training_prediction  compound_percentile  \\\n",
       "0    0.004753    0.000930             0.001129             0.125000   \n",
       "1    0.004753    0.003795             0.004604             0.757353   \n",
       "2    0.004753    0.016230             0.019638             0.985294   \n",
       "3    0.004753    0.001469             0.001783             0.595588   \n",
       "4    0.004753    0.001774             0.002153             0.772059   \n",
       "\n",
       "   disease_percentile  n_trials  status_trials  status_drugcentral  \n",
       "0            0.154746       0.0            0.0                 0.0  \n",
       "1            0.842653       0.0            0.0                 0.0  \n",
       "2            0.988296       0.0            0.0                 0.0  \n",
       "3            0.368661       0.0            0.0                 0.0  \n",
       "4            0.472042       0.0            0.0                 0.0  "
      ]
     },
     "execution_count": 13,
     "metadata": {},
     "output_type": "execute_result"
    }
   ],
   "source": [
    "predict_df.head()"
   ]
  },
  {
   "cell_type": "markdown",
   "metadata": {
    "deletable": true,
    "editable": true
   },
   "source": [
    "## Load metapaths info"
   ]
  },
  {
   "cell_type": "code",
   "execution_count": 14,
   "metadata": {
    "collapsed": false,
    "deletable": true,
    "editable": true
   },
   "outputs": [],
   "source": [
    "def create_path_template(metarels):\n",
    "    # Create cypher query\n",
    "    q = '(:' + metarels[0][0] + ' {{identifier: {}}})'\n",
    "    for i, (source_label, target_label, rel_type, direction) in enumerate(metarels):\n",
    "        kwargs = {\n",
    "            'i': i + 1,\n",
    "            'rel_type': rel_type,\n",
    "            'target_label': ':{}'.format(target_label),\n",
    "            'dir0': '<-' if direction == 'backward' else '-',\n",
    "            'dir1': '->' if direction == 'forward' else '-',\n",
    "        }\n",
    "        q += '{dir0}[:{rel_type}]{dir1}({target_label} {{{{identifier: {{}}}}}})'.format(**kwargs)\n",
    "    return q\n",
    "\n",
    "def get_paths(elem):\n",
    "    c_id = elem['compound_id']\n",
    "    d_id = elem['disease_id']\n",
    "    dfs = list()\n",
    "    for metapath, contribution in elem['metapath_contribution'].items():\n",
    "        untran_dwpc = untran_dwpc_map[(c_id, d_id, 'dwpc_' + metapath)]\n",
    "        pdp_query = metapath_to_query[metapath]\n",
    "        parameters = {\n",
    "            'source': c_id,\n",
    "            'target': d_id,\n",
    "            'dwpc': untran_dwpc,\n",
    "            'metapath_contribution': elem['metapath_contribution'][metapath],\n",
    "        }\n",
    "        result = session.run(pdp_query, parameters)\n",
    "        df = pandas.DataFrame((x.values() for x in result), columns=result.keys())\n",
    "        df['source_edge'] = df['nodes'].map(lambda x: '—'.join([x[0], metapath_to_source_metaedge[metapath], x[1]]))\n",
    "        df['target_edge'] = df['nodes'].map(lambda x: '—'.join([x[-1], metapath_to_target_metaedge[metapath], x[-2]]))\n",
    "        df['nodes'] = df['nodes'].map(lambda x: '—'.join(x))\n",
    "        df['metapath'] = metapath\n",
    "        dfs.append(df)\n",
    "    if not dfs:\n",
    "        return None\n",
    "    df = pandas.concat(dfs).sort_values('percent_of_prediction', ascending=False)\n",
    "    return df\n",
    "\n",
    "def format_property(x):\n",
    "    if isinstance(x, int):\n",
    "        return str(x)\n",
    "    if isinstance(x, str):\n",
    "        return '\"{}\"'.format(x)\n",
    "    assert False\n",
    "\n",
    "def get_summary_cypher(path_df, n_max = 5):\n",
    "    path_df = path_df.iloc[:n_max, :]\n",
    "    if path_df.empty:\n",
    "        return None\n",
    "    path_queries = list()\n",
    "    for i, row in enumerate(path_df.itertuples()):\n",
    "        path_template = metapath_to_cypher[row.metapath]\n",
    "        path_query = path_template.format(*map(format_property, row.node_ids))\n",
    "        path_query = 'MATCH p{} = {}'.format(i, path_query)\n",
    "        path_queries.append(path_query)\n",
    "    return_query = 'RETURN [{}]'.format(', '.join('p{}'.format(i) for i in range(len(path_df))))\n",
    "    return '\\n'.join(path_queries) + '\\n' + return_query\n",
    "\n",
    "def get_directory(compound_id, disease_id):\n",
    "    base_path = '../../het.io-rep-data/prediction-info'\n",
    "    directory = os.path.join(base_path, compound_id, disease_id.replace(':', '_'))\n",
    "    os.makedirs(directory, exist_ok=True)\n",
    "    return directory"
   ]
  },
  {
   "cell_type": "code",
   "execution_count": 15,
   "metadata": {
    "collapsed": false,
    "deletable": true,
    "editable": true
   },
   "outputs": [],
   "source": [
    "config = configparser.ConfigParser()\n",
    "config.read('../config.ini')\n",
    "commit = config['hetnet']['integrate_commit']\n",
    "url = 'https://github.com/dhimmel/integrate/raw/{}/data/metagraph.json'.format(commit)\n",
    "metagraph = hetio.readwrite.read_metagraph(url)"
   ]
  },
  {
   "cell_type": "code",
   "execution_count": 16,
   "metadata": {
    "collapsed": false,
    "deletable": true,
    "editable": true
   },
   "outputs": [],
   "source": [
    "with open('features/metapaths.json') as read_file:\n",
    "    metapaths = json.load(read_file)"
   ]
  },
  {
   "cell_type": "code",
   "execution_count": 17,
   "metadata": {
    "collapsed": false,
    "deletable": true,
    "editable": true
   },
   "outputs": [],
   "source": [
    "metapath_to_cypher = dict()\n",
    "metapath_to_source_metaedge = dict()\n",
    "metapath_to_target_metaedge = dict()\n",
    "for metapath in metapaths:\n",
    "    metapath['object'] = metagraph.metapath_from_abbrev(metapath['abbreviation'])\n",
    "    metapath['metarels'] = hetio.neo4j.metapath_to_metarels(metapath['object'])\n",
    "    metapath['path_template'] = create_path_template(metapath['metarels'])\n",
    "    abbrev = metapath['abbreviation']\n",
    "    metapath_to_cypher[abbrev] = metapath['path_template']\n",
    "    metapath_obj = metapath['object']\n",
    "    metapath_to_source_metaedge[abbrev] = metapath_obj[0].kind\n",
    "    metapath_to_target_metaedge[abbrev] = metapath_obj[-1].kind"
   ]
  },
  {
   "cell_type": "code",
   "execution_count": 18,
   "metadata": {
    "collapsed": false,
    "deletable": true,
    "editable": true
   },
   "outputs": [],
   "source": [
    "metapath_to_query = dict()\n",
    "\n",
    "for metapath in metapaths:\n",
    "    dwpc_query = metapath['dwpc_query']\n",
    "    pdp_query = dwpc_query.split('RETURN')[0] + \\\n",
    "    '''\\\n",
    "    WITH\n",
    "    extract(n in nodes(path)| n.name) AS nodes,\n",
    "    extract(n in nodes(path)| n.identifier) AS node_ids,\n",
    "    sum(reduce(pdp = 1.0, d in degrees| pdp * d ^ -0.4)) / { dwpc } AS percent_of_DWPC\n",
    "    WITH\n",
    "    nodes, node_ids,\n",
    "    percent_of_DWPC,\n",
    "    percent_of_DWPC * { metapath_contribution } AS percent_of_prediction\n",
    "    RETURN nodes, percent_of_prediction, percent_of_DWPC, node_ids\n",
    "    '''\n",
    "    metapath_to_query[metapath['abbreviation']] = pdp_query"
   ]
  },
  {
   "cell_type": "code",
   "execution_count": 19,
   "metadata": {
    "collapsed": false,
    "deletable": true,
    "editable": true
   },
   "outputs": [],
   "source": [
    "driver = GraphDatabase.driver(\"bolt://neo4j.het.io\")\n",
    "session = driver.session()"
   ]
  },
  {
   "cell_type": "code",
   "execution_count": 20,
   "metadata": {
    "collapsed": false,
    "deletable": true,
    "editable": true
   },
   "outputs": [
    {
     "name": "stdout",
     "output_type": "stream",
     "text": [
      "CPU times: user 4h 38min 19s, sys: 4min 13s, total: 4h 42min 32s\n",
      "Wall time: 14h 3min 4s\n"
     ]
    }
   ],
   "source": [
    "%%time\n",
    "\n",
    "for elem in obj:\n",
    "    directory = get_directory(elem['compound_id'], elem['disease_id'])\n",
    "    \n",
    "    path = os.path.join(directory, 'info.json')\n",
    "    with open(path, 'wt') as write_file:\n",
    "        json.dump(elem, write_file, indent=2, sort_keys=True)\n",
    "    \n",
    "    # Save path_df\n",
    "    path_df = get_paths(elem)\n",
    "    if path_df is None:\n",
    "        continue\n",
    "        \n",
    "    path = os.path.join(directory, 'paths.tsv')\n",
    "    path_df.drop('node_ids', axis='columns').to_csv(path, sep='\\t', index=False, float_format='%.3g')\n",
    "    \n",
    "    # Create a cypher query with the most influential paths\n",
    "    path = os.path.join(directory, 'highlights.cyp')\n",
    "    summary_cypher = get_summary_cypher(path_df, 10)\n",
    "    with open(path, 'wt') as write_file:\n",
    "        write_file.write(summary_cypher)"
   ]
  },
  {
   "cell_type": "code",
   "execution_count": 21,
   "metadata": {
    "collapsed": false,
    "deletable": true,
    "editable": true
   },
   "outputs": [
    {
     "data": {
      "text/plain": [
       "OrderedDict([('compound_id', 'DB01624'),\n",
       "             ('compound_name', 'Zuclopenthixol'),\n",
       "             ('disease_id', 'DOID:1245'),\n",
       "             ('disease_name', 'vulva cancer'),\n",
       "             ('status', 0),\n",
       "             ('prediction', 0.000932554855109785),\n",
       "             ('compound_percentile', 0.411764705882353),\n",
       "             ('disease_percentile', 0.140442132639792),\n",
       "             ('n_trials', 0.0),\n",
       "             ('metapath_contribution', OrderedDict())])"
      ]
     },
     "execution_count": 21,
     "metadata": {},
     "output_type": "execute_result"
    }
   ],
   "source": [
    "elem"
   ]
  },
  {
   "cell_type": "code",
   "execution_count": 22,
   "metadata": {
    "collapsed": true,
    "deletable": true,
    "editable": true
   },
   "outputs": [],
   "source": [
    "# Close Neo4j driver session\n",
    "session.close()"
   ]
  }
 ],
 "metadata": {
  "anaconda-cloud": {},
  "kernelspec": {
   "display_name": "Python 3",
   "language": "python",
   "name": "python3"
  },
  "language_info": {
   "codemirror_mode": {
    "name": "ipython",
    "version": 3
   },
   "file_extension": ".py",
   "mimetype": "text/x-python",
   "name": "python",
   "nbconvert_exporter": "python",
   "pygments_lexer": "ipython3",
   "version": "3.5.3"
  }
 },
 "nbformat": 4,
 "nbformat_minor": 0
}
